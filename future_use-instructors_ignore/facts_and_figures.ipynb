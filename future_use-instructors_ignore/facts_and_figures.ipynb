{
 "cells": [
  {
   "cell_type": "markdown",
   "metadata": {},
   "source": [
    "## Wildfire Facts & Figures (National)"
   ]
  },
  {
   "cell_type": "markdown",
   "metadata": {},
   "source": [
    "- Over 6.7 million acres have been burned \n",
    "- Over 42,000 wildfires \n",
    "- 87 active fires linked to over 4.7 million acres of damage\n",
    "- In 2015, 10,125,149 acres were destroyed by 68,151 fires \n",
    "- In 2017, 10,026,086 acres were burned by 71,499 fires.\n",
    "- Deadliest wildfire in U.S. history was the 1871 Peshtigo fire in Wisconsin. It killed 1,500 people"
   ]
  },
  {
   "cell_type": "code",
   "execution_count": null,
   "metadata": {},
   "outputs": [],
   "source": []
  },
  {
   "cell_type": "markdown",
   "metadata": {},
   "source": [
    "## Wildfire Facts & Figures (California)"
   ]
  },
  {
   "cell_type": "markdown",
   "metadata": {},
   "source": [
    "- The 10 costliest wildfires in U.S. history all occurred in California.\n",
    "- Since 2012, there has not been a month without a wildfire burning \n",
    "- The Camp Fire in Northern California was the costliest in U.S. history.\n",
    "- The largest fire in California history was the Mendocino fire. It burned 410,203 acres, destroying 246 buildings\n",
    "\n",
    "- Currently, U.S. forests and forest products offset about 20% of the nation's fossil fuel emissions. However, recent findings cast doubt on the sustainability of this offset. First, the strength of the U.S. forest carbon offset may be weakening due to forest ageing, climate variability, and increasing natural disturbances. Second, climate change is expected to further increase frequencies of insect outbreaks and wildfire, and alter species composition in forest ecosystems, consequently influencing forest carbon pools in a significant way. These current and projected forest carbon cycle dynamics need to be considered in strategic forest planning and management decisions in coming decades if the nation's forests are to provide stable or even increasing ecosystem services.\n",
    "\n",
    "- Urban forests-like any forest-help mitigate climate change by capturing and storing atmospheric carbon dioxide during photosynthesis, and by influencing energy needs for heating and cooling buildings; trees typically reduce cooling costs, but can increase or decrease winter heating use depending on their location around a building and whether they are evergreen or deciduous. In the contiguous United States alone, urban trees store over 708 million tons of carbon (approximately 12.6% of annual carbon dioxide emissions in the United States) and capture an additional 28.2 million tons of carbon (approximately 0.05% of annual emissions) per year (8, 9). The value of urban carbon sequestration is substantial: approximately $2 billion per year, with a total current carbon storage value of over $50 billion (8). Shading and reduction of wind speed by trees can help to reduce carbon emissions by reducing summer air conditioning and winter heating demand and, in turn, the level of emissions from supplying power plants (10). Shading can also extend the useful life of street pavement by as much as ten years, thereby reducing emissions associated with the petroleum-intensive materials and operation of heavy equipment required to repave roads and haul away waste (11). Establishing 100 million mature trees around residences in the United States would save an estimated $2 billion annually in reduced energy costs (12, 1). However, this level of tree planting would only offset less than 1% of United States emissions over a 50-year period (14)."
   ]
  },
  {
   "cell_type": "markdown",
   "metadata": {},
   "source": [
    "#### 2020"
   ]
  },
  {
   "cell_type": "markdown",
   "metadata": {},
   "source": [
    "#### Camp Fire"
   ]
  },
  {
   "cell_type": "markdown",
   "metadata": {},
   "source": [
    "The Camp Fire occurred in November and cost between 8.7 and 10.7 billion.  It wiped out the town of Paradise and destroyed 18,804 structures. It killed 85 civilians and several firefighters.  The fire was caused by poor maintenance of power lines owned by Pacific Gas & Electric (PG&E)."
   ]
  },
  {
   "cell_type": "markdown",
   "metadata": {},
   "source": [
    "## Causes"
   ]
  },
  {
   "cell_type": "markdown",
   "metadata": {},
   "source": [
    "- Drought\n",
    "- Climate change (higher temps, changes in wind patterns)\n",
    "- Fire supression\n",
    "- Longer fire seasons\n",
    "- People cause 85% of wildfires\n"
   ]
  },
  {
   "cell_type": "markdown",
   "metadata": {},
   "source": [
    "## Assesing risk of wildfire taking place\n",
    "\n",
    "- build interractive map of forest density, and real time weather (wind, tempearture) forecasts\n",
    "- proximity to smoke\n",
    "- social media activity (which sources? can we create a live aggregator?)"
   ]
  },
  {
   "cell_type": "code",
   "execution_count": null,
   "metadata": {},
   "outputs": [],
   "source": []
  },
  {
   "cell_type": "markdown",
   "metadata": {},
   "source": [
    "## Economic Impact"
   ]
  },
  {
   "cell_type": "markdown",
   "metadata": {},
   "source": [
    "#### Types of impact\n",
    "- damage to property\n",
    "- health care bills\n",
    "- disrupted business\n",
    "- lost tax revenue\n",
    "- decreased property values\n",
    "- insurance costs / revenues lost\n",
    "- employemnt numbers\n",
    "- household income \n",
    "- bankrutpcies"
   ]
  },
  {
   "cell_type": "markdown",
   "metadata": {},
   "source": [
    "#### Figures \n",
    "- Over the past 50 years, excluding the last four, wildfires averaged about 1 billion dollars per year, adjusted for inflation.\n",
    "- Over the last four, they have averaged 10 billion"
   ]
  },
  {
   "cell_type": "markdown",
   "metadata": {},
   "source": [
    "#### Insurance costs/repurcussions\n",
    "- CA temporarily banned insurers from canceling policies on some 800,000 homes.  Ban is expiring soon & can't be renewed. \n",
    "- Insurers are widely expected to continue their retreat, potentially devastating the housing market. \n",
    "- Premiums under the FAIR plan are higher and have been increasing over the alst 5 years."
   ]
  },
  {
   "cell_type": "markdown",
   "metadata": {},
   "source": [
    "#### Real estate costs/repurcussions"
   ]
  },
  {
   "cell_type": "markdown",
   "metadata": {},
   "source": [
    "- Effects on local property taxes?"
   ]
  },
  {
   "cell_type": "markdown",
   "metadata": {},
   "source": [
    "#### City / Local level"
   ]
  },
  {
   "cell_type": "markdown",
   "metadata": {},
   "source": [
    "- City general fund or main operating fund"
   ]
  },
  {
   "cell_type": "markdown",
   "metadata": {},
   "source": [
    "## Forest information\n",
    "\n",
    "- The Forest Inventory and Analysis (FIA) research program has been in existence since\n",
    "mandated by Congress in 1928. FIA's primary objective is to determine the extent,\n",
    "condition, volume, growth, and use of trees on the Nation's forest land."
   ]
  },
  {
   "cell_type": "markdown",
   "metadata": {},
   "source": [
    "## Relevant social media feeds"
   ]
  },
  {
   "cell_type": "markdown",
   "metadata": {},
   "source": [
    "### Twitter\n",
    "###### Hashtags\n",
    "- #CaliforniaFires\n",
    "- #GavinNewsom\n",
    "- #FireRelief\n",
    "- #NapaFire \n",
    "- #NapaStrong \n",
    "- #SonomaStrong\n",
    "- #GlassFire\n",
    "- #firerelief\n",
    "- #WestCoastFires \n",
    "- #WestCoastWildfires\n",
    "- #AlmedaDriveFire\n",
    "- #WildfireRelief \n",
    "- #airquality\n",
    "- #California \n",
    "- #CreekFire\n",
    "- #FireSeason2020\n",
    "- #FresnoCounty\n",
    "- #MaderaCounty \n",
    "- #FireYear2020\n",
    "- #wildfires\n",
    "\n",
    "###### Users\n",
    "- @FireWiseNapa\n"
   ]
  },
  {
   "cell_type": "markdown",
   "metadata": {},
   "source": [
    "## Solutions = prevention"
   ]
  },
  {
   "cell_type": "markdown",
   "metadata": {},
   "source": [
    "- forest restoration\n",
    "- more federal funding"
   ]
  },
  {
   "cell_type": "markdown",
   "metadata": {},
   "source": [
    "## Project ideas\n",
    "\n",
    "- evacuation routes\n",
    "- threat monitoring\n",
    "- economic impact projection\n",
    "- risk are projection\n",
    "- GIS system\n",
    "- dashboard\n",
    "- map overlays"
   ]
  },
  {
   "cell_type": "code",
   "execution_count": null,
   "metadata": {},
   "outputs": [],
   "source": []
  }
 ],
 "metadata": {
  "kernelspec": {
   "display_name": "Python 3",
   "language": "python",
   "name": "python3"
  },
  "language_info": {
   "codemirror_mode": {
    "name": "ipython",
    "version": 3
   },
   "file_extension": ".py",
   "mimetype": "text/x-python",
   "name": "python",
   "nbconvert_exporter": "python",
   "pygments_lexer": "ipython3",
   "version": "3.7.6"
  }
 },
 "nbformat": 4,
 "nbformat_minor": 4
}
