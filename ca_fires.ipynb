{
 "cells": [
  {
   "cell_type": "code",
   "execution_count": 7,
   "metadata": {},
   "outputs": [],
   "source": [
    "import requests\n",
    "import numpy as np\n",
    "import matplotlib.pyplot as plt\n",
    "import pandas as pd\n",
    "import json"
   ]
  },
  {
   "cell_type": "code",
   "execution_count": 8,
   "metadata": {},
   "outputs": [],
   "source": [
    "ca_fire=\"https://www.fire.ca.gov/umbraco/api/IncidentApi/GeoJsonList?inactive=true\""
   ]
  },
  {
   "cell_type": "code",
   "execution_count": 9,
   "metadata": {},
   "outputs": [],
   "source": [
    "req = requests.get(ca_fire)"
   ]
  },
  {
   "cell_type": "code",
   "execution_count": 10,
   "metadata": {},
   "outputs": [
    {
     "data": {
      "text/plain": [
       "<Response [200]>"
      ]
     },
     "execution_count": 10,
     "metadata": {},
     "output_type": "execute_result"
    }
   ],
   "source": [
    "req"
   ]
  },
  {
   "cell_type": "code",
   "execution_count": 11,
   "metadata": {},
   "outputs": [],
   "source": [
    "ca_list = []"
   ]
  },
  {
   "cell_type": "code",
   "execution_count": 13,
   "metadata": {},
   "outputs": [
    {
     "data": {
      "text/plain": [
       "{'Pragma': 'no-cache', 'Content-Type': 'application/json; charset=utf-8', 'Server': 'Microsoft-IIS/10.0 Microsoft-HTTPAPI/2.0', 'Content-Security-Policy': \"frame-ancestors 'self';\", 'X-Content-Type-Options': 'nosniff', 'X-Frame-Options': 'sameorigin', 'X-XSS-Protection': '1', 'Content-Encoding': 'gzip', 'X-Akamai-Path-Stats': '[3:56697:858303],[1:368:385632],[1:6793:35207]', 'Cache-Control': 'no-cache', 'Expires': 'Sun, 18 Oct 2020 18:01:45 GMT', 'Date': 'Sun, 18 Oct 2020 18:01:45 GMT', 'Transfer-Encoding': 'chunked', 'Connection': 'keep-alive, Transfer-Encoding', 'Vary': 'Accept-Encoding', 'Server-Timing': 'cdn-cache; desc=HIT, edge; dur=1', 'Strict-Transport-Security': 'max-age=86400'}"
      ]
     },
     "execution_count": 13,
     "metadata": {},
     "output_type": "execute_result"
    }
   ],
   "source": [
    "req.headers"
   ]
  },
  {
   "cell_type": "code",
   "execution_count": 18,
   "metadata": {},
   "outputs": [],
   "source": [
    "a = req.json()"
   ]
  },
  {
   "cell_type": "code",
   "execution_count": 25,
   "metadata": {},
   "outputs": [
    {
     "data": {
      "text/plain": [
       "dict_keys(['type', 'features'])"
      ]
     },
     "execution_count": 25,
     "metadata": {},
     "output_type": "execute_result"
    }
   ],
   "source": [
    "a.keys()"
   ]
  },
  {
   "cell_type": "code",
   "execution_count": 29,
   "metadata": {},
   "outputs": [
    {
     "data": {
      "text/plain": [
       "{'type': 'Feature',\n",
       " 'geometry': {'type': 'Point', 'coordinates': [0.0, 0.0]},\n",
       " 'properties': {'Name': 'Rumsey Fire',\n",
       "  'Final': True,\n",
       "  'Updated': '2005-06-06T12:16:00Z',\n",
       "  'Started': '2005-06-02T15:27:00Z',\n",
       "  'AdminUnit': 'CDF Sonoma-Lake-Napa Unit',\n",
       "  'AdminUnitUrl': None,\n",
       "  'County': 'Yolo',\n",
       "  'Location': 'Rumsey Canyon',\n",
       "  'AcresBurned': 39138.0,\n",
       "  'PercentContained': 100.0,\n",
       "  'ControlStatement': 'Full control expected November 1 at 6 p.m.',\n",
       "  'AgencyNames': 'CDF Sonoma-Lake-Napa Unit, CDF, Bureau of Land Management, U.S. Forest Service, Local Government, CA. Dept. of Corrections, Office of Emergency Services, C',\n",
       "  'Longitude': 0.0,\n",
       "  'Latitude': 0.0,\n",
       "  'Type': '',\n",
       "  'UniqueId': 'f4ac252b-2f54-4257-a4d8-e7b5d1457bbc',\n",
       "  'Url': 'https://www.fire.ca.gov/incidents/2005/6/2/rumsey-fire/',\n",
       "  'ExtinguishedDate': '2005-06-06 12:16:00',\n",
       "  'ExtinguishedDateOnly': '2005-06-06',\n",
       "  'StartedDateOnly': '2005-06-02T15:27:00Z',\n",
       "  'IsActive': 'N'}}"
      ]
     },
     "execution_count": 29,
     "metadata": {},
     "output_type": "execute_result"
    }
   ],
   "source": [
    "a['features'][2]"
   ]
  },
  {
   "cell_type": "code",
   "execution_count": null,
   "metadata": {},
   "outputs": [],
   "source": []
  }
 ],
 "metadata": {
  "kernelspec": {
   "display_name": "Python 3",
   "language": "python",
   "name": "python3"
  },
  "language_info": {
   "codemirror_mode": {
    "name": "ipython",
    "version": 3
   },
   "file_extension": ".py",
   "mimetype": "text/x-python",
   "name": "python",
   "nbconvert_exporter": "python",
   "pygments_lexer": "ipython3",
   "version": "3.7.6"
  }
 },
 "nbformat": 4,
 "nbformat_minor": 4
}
