{
 "cells": [
  {
   "cell_type": "code",
   "execution_count": 2,
   "metadata": {},
   "outputs": [],
   "source": [
    "import pandas as pd\n",
    "import numpy as np\n",
    "\n",
    "import matplotlib.pyplot as plt\n",
    "import seaborn as sns"
   ]
  },
  {
   "cell_type": "code",
   "execution_count": 3,
   "metadata": {},
   "outputs": [],
   "source": [
    "fire_df_nc_19 = pd.read_excel('./claire_data/Significant Incident Summary Spreadsheet by GACC norcal 2019.xlsx')\n",
    "fire_df_nc_18 = pd.read_excel('./claire_data/Significant Incident Summary Spreadsheet by GACC norcal 2018.xlsx')\n",
    "fire_df_nc_17 = pd.read_excel('./claire_data/Significant Incident Summary Spreadsheet by GACC norcal 2017.xlsx')\n",
    "fire_df_nc_16 = pd.read_excel('./claire_data/Significant Incident Summary Spreadsheet by GACC norcal 2016.xlsx')\n",
    "fire_df_nc_15 = pd.read_excel('./claire_data/Significant Incident Summary Spreadsheet by GACC norcal 2015.xlsx')\n",
    "fire_df_nc_14 = pd.read_excel('./claire_data/Significant Incident Summary Spreadsheet by GACC norcal 2014.xlsx')\n",
    "\n",
    "fire_df_sc_19 = pd.read_excel('./claire_data/Significant Incident Summary Spreadsheet by GACC socal 2019.xlsx')\n",
    "fire_df_sc_18 = pd.read_excel('./claire_data/Significant Incident Summary Spreadsheet by GACC socal 2018.xlsx')\n",
    "fire_df_sc_17 = pd.read_excel('./claire_data/Significant Incident Summary Spreadsheet by GACC socal 2017.xlsx')\n",
    "fire_df_sc_16 = pd.read_excel('./claire_data/Significant Incident Summary Spreadsheet by GACC socal 2016.xlsx')\n",
    "fire_df_sc_15 = pd.read_excel('./claire_data/Significant Incident Summary Spreadsheet by GACC socal 2015.xlsx')\n",
    "fire_df_sc_14 = pd.read_excel('./claire_data/Significant Incident Summary Spreadsheet by GACC socal 2014.xlsx')"
   ]
  },
  {
   "cell_type": "code",
   "execution_count": 4,
   "metadata": {},
   "outputs": [],
   "source": [
    "fires_df = pd.concat([fire_df_nc_14, fire_df_sc_14, \n",
    "                      fire_df_nc_15, fire_df_sc_15,\n",
    "                      fire_df_nc_16, fire_df_sc_16,\n",
    "                      fire_df_nc_17, fire_df_sc_17,\n",
    "                      fire_df_nc_18, fire_df_sc_18, \n",
    "                      fire_df_nc_19, fire_df_sc_19])"
   ]
  },
  {
   "cell_type": "code",
   "execution_count": 5,
   "metadata": {},
   "outputs": [
    {
     "data": {
      "text/html": [
       "<div>\n",
       "<style scoped>\n",
       "    .dataframe tbody tr th:only-of-type {\n",
       "        vertical-align: middle;\n",
       "    }\n",
       "\n",
       "    .dataframe tbody tr th {\n",
       "        vertical-align: top;\n",
       "    }\n",
       "\n",
       "    .dataframe thead th {\n",
       "        text-align: right;\n",
       "    }\n",
       "</style>\n",
       "<table border=\"1\" class=\"dataframe\">\n",
       "  <thead>\n",
       "    <tr style=\"text-align: right;\">\n",
       "      <th></th>\n",
       "      <th>State-Unit</th>\n",
       "      <th>Incident Number</th>\n",
       "      <th>Incident Name</th>\n",
       "      <th>Incident Type</th>\n",
       "      <th>Start Date</th>\n",
       "      <th>IC Name</th>\n",
       "      <th>Team Type</th>\n",
       "      <th>Latitude</th>\n",
       "      <th>Longitude</th>\n",
       "      <th>Size</th>\n",
       "      <th>Unit of Measure</th>\n",
       "      <th>Costs</th>\n",
       "      <th>Anticipated Containment / Completion Date</th>\n",
       "      <th>Structures Destroyed</th>\n",
       "    </tr>\n",
       "  </thead>\n",
       "  <tbody>\n",
       "    <tr>\n",
       "      <th>0</th>\n",
       "      <td>CA-LNU</td>\n",
       "      <td>CA-LNU-0005333</td>\n",
       "      <td>BUTTS</td>\n",
       "      <td>WF</td>\n",
       "      <td>07/01/2014 1405 CT</td>\n",
       "      <td>DC, SCOTT UPTON, LNU-CALFIRE</td>\n",
       "      <td>Type 3 IC</td>\n",
       "      <td>39</td>\n",
       "      <td>123</td>\n",
       "      <td>3200.0</td>\n",
       "      <td>Acres</td>\n",
       "      <td>6500000.0</td>\n",
       "      <td>NaN</td>\n",
       "      <td>5</td>\n",
       "    </tr>\n",
       "    <tr>\n",
       "      <th>1</th>\n",
       "      <td>CA-AEU</td>\n",
       "      <td>CA-AEU-018237</td>\n",
       "      <td>SAND</td>\n",
       "      <td>WF</td>\n",
       "      <td>07/25/2014 1834 CT</td>\n",
       "      <td>BC Mike Olivarria, AEU</td>\n",
       "      <td>Type 3 IC</td>\n",
       "      <td>39</td>\n",
       "      <td>121</td>\n",
       "      <td>4240.0</td>\n",
       "      <td>Acres</td>\n",
       "      <td>875500.0</td>\n",
       "      <td>08/02/2014 1400</td>\n",
       "      <td>67</td>\n",
       "    </tr>\n",
       "  </tbody>\n",
       "</table>\n",
       "</div>"
      ],
      "text/plain": [
       "  State-Unit Incident Number Incident Name Incident Type          Start Date  \\\n",
       "0     CA-LNU  CA-LNU-0005333         BUTTS            WF  07/01/2014 1405 CT   \n",
       "1     CA-AEU   CA-AEU-018237          SAND            WF  07/25/2014 1834 CT   \n",
       "\n",
       "                        IC Name  Team Type  Latitude  Longitude    Size  \\\n",
       "0  DC, SCOTT UPTON, LNU-CALFIRE  Type 3 IC        39        123  3200.0   \n",
       "1        BC Mike Olivarria, AEU  Type 3 IC        39        121  4240.0   \n",
       "\n",
       "  Unit of Measure      Costs Anticipated Containment / Completion Date  \\\n",
       "0           Acres  6500000.0                                       NaN   \n",
       "1           Acres   875500.0                           08/02/2014 1400   \n",
       "\n",
       "   Structures Destroyed  \n",
       "0                     5  \n",
       "1                    67  "
      ]
     },
     "execution_count": 5,
     "metadata": {},
     "output_type": "execute_result"
    }
   ],
   "source": [
    "fires_df.head(2)"
   ]
  },
  {
   "cell_type": "code",
   "execution_count": 6,
   "metadata": {},
   "outputs": [
    {
     "name": "stdout",
     "output_type": "stream",
     "text": [
      "<class 'pandas.core.frame.DataFrame'>\n",
      "Int64Index: 588 entries, 0 to 43\n",
      "Data columns (total 14 columns):\n",
      " #   Column                                     Non-Null Count  Dtype  \n",
      "---  ------                                     --------------  -----  \n",
      " 0   State-Unit                                 588 non-null    object \n",
      " 1   Incident Number                            588 non-null    object \n",
      " 2   Incident Name                              588 non-null    object \n",
      " 3   Incident Type                              588 non-null    object \n",
      " 4   Start Date                                 588 non-null    object \n",
      " 5   IC Name                                    587 non-null    object \n",
      " 6   Team Type                                  559 non-null    object \n",
      " 7   Latitude                                   588 non-null    int64  \n",
      " 8   Longitude                                  588 non-null    int64  \n",
      " 9   Size                                       588 non-null    float64\n",
      " 10  Unit of Measure                            588 non-null    object \n",
      " 11  Costs                                      587 non-null    float64\n",
      " 12  Anticipated Containment / Completion Date  558 non-null    object \n",
      " 13  Structures Destroyed                       588 non-null    int64  \n",
      "dtypes: float64(2), int64(3), object(9)\n",
      "memory usage: 68.9+ KB\n"
     ]
    }
   ],
   "source": [
    "fires_df.info()"
   ]
  },
  {
   "cell_type": "code",
   "execution_count": 20,
   "metadata": {},
   "outputs": [
    {
     "name": "stderr",
     "output_type": "stream",
     "text": [
      "/Users/claireph/opt/anaconda3/lib/python3.8/site-packages/dateutil/parser/_parser.py:1213: UnknownTimezoneWarning: tzname HST identified but not understood.  Pass `tzinfos` argument in order to correctly return a timezone-aware datetime.  In a future version, this will raise an exception.\n",
      "  warnings.warn(\"tzname {tzname} identified but not understood.  \"\n",
      "/Users/claireph/opt/anaconda3/lib/python3.8/site-packages/dateutil/parser/_parser.py:1213: UnknownTimezoneWarning: tzname CT identified but not understood.  Pass `tzinfos` argument in order to correctly return a timezone-aware datetime.  In a future version, this will raise an exception.\n",
      "  warnings.warn(\"tzname {tzname} identified but not understood.  \"\n"
     ]
    }
   ],
   "source": [
    "fires_df['start_date'] = pd.to_datetime(fires_df['Start Date'], utc=True)"
   ]
  },
  {
   "cell_type": "code",
   "execution_count": 22,
   "metadata": {},
   "outputs": [],
   "source": [
    "fires_df['year'] = fires_df['start_date'].dt.year"
   ]
  },
  {
   "cell_type": "code",
   "execution_count": 23,
   "metadata": {},
   "outputs": [
    {
     "data": {
      "text/html": [
       "<div>\n",
       "<style scoped>\n",
       "    .dataframe tbody tr th:only-of-type {\n",
       "        vertical-align: middle;\n",
       "    }\n",
       "\n",
       "    .dataframe tbody tr th {\n",
       "        vertical-align: top;\n",
       "    }\n",
       "\n",
       "    .dataframe thead th {\n",
       "        text-align: right;\n",
       "    }\n",
       "</style>\n",
       "<table border=\"1\" class=\"dataframe\">\n",
       "  <thead>\n",
       "    <tr style=\"text-align: right;\">\n",
       "      <th></th>\n",
       "      <th>State-Unit</th>\n",
       "      <th>Incident Number</th>\n",
       "      <th>Incident Name</th>\n",
       "      <th>Incident Type</th>\n",
       "      <th>Start Date</th>\n",
       "      <th>IC Name</th>\n",
       "      <th>Team Type</th>\n",
       "      <th>Latitude</th>\n",
       "      <th>Longitude</th>\n",
       "      <th>Size</th>\n",
       "      <th>Unit of Measure</th>\n",
       "      <th>Costs</th>\n",
       "      <th>Anticipated Containment / Completion Date</th>\n",
       "      <th>Structures Destroyed</th>\n",
       "      <th>start_date</th>\n",
       "      <th>year</th>\n",
       "    </tr>\n",
       "  </thead>\n",
       "  <tbody>\n",
       "    <tr>\n",
       "      <th>0</th>\n",
       "      <td>CA-MNF</td>\n",
       "      <td>CA-MNF-000874</td>\n",
       "      <td>EEL</td>\n",
       "      <td>WF</td>\n",
       "      <td>07/31/2018 1521 PDT</td>\n",
       "      <td>Dale Shippelhoute - ICT3</td>\n",
       "      <td>Type 3 IC</td>\n",
       "      <td>40</td>\n",
       "      <td>123</td>\n",
       "      <td>972</td>\n",
       "      <td>Acres</td>\n",
       "      <td>1300000.0</td>\n",
       "      <td>08/08/2018 1200</td>\n",
       "      <td>10</td>\n",
       "      <td>2018-07-31 22:21:00+00:00</td>\n",
       "      <td>2018</td>\n",
       "    </tr>\n",
       "    <tr>\n",
       "      <th>1</th>\n",
       "      <td>CA-TGU</td>\n",
       "      <td>CA-TGU-009672</td>\n",
       "      <td>Sun</td>\n",
       "      <td>WF</td>\n",
       "      <td>10/07/2018 1245 PDT</td>\n",
       "      <td>Sun IC</td>\n",
       "      <td>Type 3 IC</td>\n",
       "      <td>40</td>\n",
       "      <td>122</td>\n",
       "      <td>3889</td>\n",
       "      <td>Acres</td>\n",
       "      <td>1500000.0</td>\n",
       "      <td>10/13/2018 1200</td>\n",
       "      <td>0</td>\n",
       "      <td>2018-10-07 19:45:00+00:00</td>\n",
       "      <td>2018</td>\n",
       "    </tr>\n",
       "  </tbody>\n",
       "</table>\n",
       "</div>"
      ],
      "text/plain": [
       "  State-Unit Incident Number Incident Name Incident Type           Start Date  \\\n",
       "0     CA-MNF   CA-MNF-000874           EEL            WF  07/31/2018 1521 PDT   \n",
       "1     CA-TGU   CA-TGU-009672           Sun            WF  10/07/2018 1245 PDT   \n",
       "\n",
       "                    IC Name  Team Type  Latitude  Longitude  Size  \\\n",
       "0  Dale Shippelhoute - ICT3  Type 3 IC        40        123   972   \n",
       "1                    Sun IC  Type 3 IC        40        122  3889   \n",
       "\n",
       "  Unit of Measure      Costs Anticipated Containment / Completion Date  \\\n",
       "0           Acres  1300000.0                           08/08/2018 1200   \n",
       "1           Acres  1500000.0                           10/13/2018 1200   \n",
       "\n",
       "   Structures Destroyed                start_date  year  \n",
       "0                    10 2018-07-31 22:21:00+00:00  2018  \n",
       "1                     0 2018-10-07 19:45:00+00:00  2018  "
      ]
     },
     "execution_count": 23,
     "metadata": {},
     "output_type": "execute_result"
    }
   ],
   "source": [
    "fires_df.head(2)"
   ]
  },
  {
   "cell_type": "code",
   "execution_count": 49,
   "metadata": {},
   "outputs": [
    {
     "data": {
      "text/plain": [
       "year\n",
       "2017    2.300000e+08\n",
       "2018    1.370392e+09\n",
       "2019    3.413502e+08\n",
       "Name: Costs, dtype: float64"
      ]
     },
     "execution_count": 49,
     "metadata": {},
     "output_type": "execute_result"
    }
   ],
   "source": [
    "fires_df.groupby('year')['Costs'].sum()"
   ]
  },
  {
   "cell_type": "code",
   "execution_count": 38,
   "metadata": {},
   "outputs": [
    {
     "data": {
      "image/png": "[encoded data removed]",
      "text/plain": [
       "<Figure size 720x576 with 1 Axes>"
      ]
     },
     "metadata": {},
     "output_type": "display_data"
    }
   ],
   "source": [
    "plt.style.use('ggplot')\n",
    "plt.subplots(figsize=(10,8))\n",
    "sns.scatterplot(x = 'Size', \n",
    "                y = 'Structures Destroyed', \n",
    "                data = fires_df, \n",
    "                size= 'Costs',\n",
    "                hue='year',\n",
    "                palette='viridis')\n",
    "plt.legend(loc='best');"
   ]
  },
  {
   "cell_type": "code",
   "execution_count": 42,
   "metadata": {},
   "outputs": [
    {
     "data": {
      "image/png": "[encoded data removed]",
      "text/plain": [
       "<Figure size 720x576 with 1 Axes>"
      ]
     },
     "metadata": {},
     "output_type": "display_data"
    }
   ],
   "source": [
    "plt.style.use('ggplot')\n",
    "plt.subplots(figsize=(10,8))\n",
    "sns.scatterplot(x = 'Size', \n",
    "                y = 'Costs', \n",
    "                data = fires_df, \n",
    "                hue='year',\n",
    "                palette='viridis')\n",
    "plt.legend(loc='best');"
   ]
  },
  {
   "cell_type": "code",
   "execution_count": 44,
   "metadata": {},
   "outputs": [
    {
     "data": {
      "image/png": "[encoded data removed]",
      "text/plain": [
       "<Figure size 720x576 with 1 Axes>"
      ]
     },
     "metadata": {},
     "output_type": "display_data"
    }
   ],
   "source": [
    "plt.style.use('ggplot')\n",
    "plt.subplots(figsize=(10,8))\n",
    "sns.scatterplot(x = 'Structures Destroyed', \n",
    "                y = 'Costs', \n",
    "                data = fires_df, \n",
    "                hue='year',\n",
    "                palette='viridis')\n",
    "plt.legend(loc='best');"
   ]
  },
  {
   "cell_type": "code",
   "execution_count": null,
   "metadata": {},
   "outputs": [],
   "source": []
  }
 ],
 "metadata": {
  "kernelspec": {
   "display_name": "Python 3",
   "language": "python",
   "name": "python3"
  },
  "language_info": {
   "codemirror_mode": {
    "name": "ipython",
    "version": 3
   },
   "file_extension": ".py",
   "mimetype": "text/x-python",
   "name": "python",
   "nbconvert_exporter": "python",
   "pygments_lexer": "ipython3",
   "version": "3.8.3"
  }
 },
 "nbformat": 4,
 "nbformat_minor": 4
}
