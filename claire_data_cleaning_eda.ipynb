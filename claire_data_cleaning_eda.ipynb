{
 "cells": [
  {
   "cell_type": "code",
   "execution_count": 17,
   "metadata": {},
   "outputs": [],
   "source": [
    "# import libraries\n",
    "import pandas as pd\n",
    "import numpy as np\n",
    "\n",
    "import matplotlib.pyplot as plt\n",
    "import seaborn as sns\n",
    "plt.style.use('ggplot')\n",
    "\n",
    "import warnings\n",
    "warnings.filterwarnings(\"ignore\")"
   ]
  },
  {
   "cell_type": "markdown",
   "metadata": {},
   "source": [
    "### Import major incidents files\n",
    "\n",
    "These are separated into Northern and Southern California Area Coordination Centers. Each report had to be downloaded separately by year. I will pull them all into individual variables which can then be concatenated together to create one inclusive incident report dataframe.\n",
    "\n",
    "This data includes all major wildfire incidents, defined as larger than 100 acres."
   ]
  },
  {
   "cell_type": "code",
   "execution_count": 2,
   "metadata": {},
   "outputs": [],
   "source": [
    "fire_df_nc_19 = pd.read_excel('./claire_data/Significant Incident Summary Spreadsheet by GACC norcal 2019.xlsx')\n",
    "fire_df_nc_18 = pd.read_excel('./claire_data/Significant Incident Summary Spreadsheet by GACC norcal 2018.xlsx')\n",
    "fire_df_nc_17 = pd.read_excel('./claire_data/Significant Incident Summary Spreadsheet by GACC norcal 2017.xlsx')\n",
    "fire_df_nc_16 = pd.read_excel('./claire_data/Significant Incident Summary Spreadsheet by GACC norcal 2016.xlsx')\n",
    "fire_df_nc_15 = pd.read_excel('./claire_data/Significant Incident Summary Spreadsheet by GACC norcal 2015.xlsx')\n",
    "fire_df_nc_14 = pd.read_excel('./claire_data/Significant Incident Summary Spreadsheet by GACC norcal 2014.xlsx')\n",
    "\n",
    "fire_df_sc_19 = pd.read_excel('./claire_data/Significant Incident Summary Spreadsheet by GACC socal 2019.xlsx')\n",
    "fire_df_sc_18 = pd.read_excel('./claire_data/Significant Incident Summary Spreadsheet by GACC socal 2018.xlsx')\n",
    "fire_df_sc_17 = pd.read_excel('./claire_data/Significant Incident Summary Spreadsheet by GACC socal 2017.xlsx')\n",
    "fire_df_sc_16 = pd.read_excel('./claire_data/Significant Incident Summary Spreadsheet by GACC socal 2016.xlsx')\n",
    "fire_df_sc_15 = pd.read_excel('./claire_data/Significant Incident Summary Spreadsheet by GACC socal 2015.xlsx')\n",
    "fire_df_sc_14 = pd.read_excel('./claire_data/Significant Incident Summary Spreadsheet by GACC socal 2014.xlsx')"
   ]
  },
  {
   "cell_type": "code",
   "execution_count": 3,
   "metadata": {},
   "outputs": [],
   "source": [
    "fires_df = pd.concat([fire_df_nc_14, fire_df_sc_14, \n",
    "                      fire_df_nc_15, fire_df_sc_15,\n",
    "                      fire_df_nc_16, fire_df_sc_16,\n",
    "                      fire_df_nc_17, fire_df_sc_17,\n",
    "                      fire_df_nc_18, fire_df_sc_18, \n",
    "                      fire_df_nc_19, fire_df_sc_19])"
   ]
  },
  {
   "cell_type": "code",
   "execution_count": 4,
   "metadata": {},
   "outputs": [
    {
     "data": {
      "text/html": [
       "<div>\n",
       "<style scoped>\n",
       "    .dataframe tbody tr th:only-of-type {\n",
       "        vertical-align: middle;\n",
       "    }\n",
       "\n",
       "    .dataframe tbody tr th {\n",
       "        vertical-align: top;\n",
       "    }\n",
       "\n",
       "    .dataframe thead th {\n",
       "        text-align: right;\n",
       "    }\n",
       "</style>\n",
       "<table border=\"1\" class=\"dataframe\">\n",
       "  <thead>\n",
       "    <tr style=\"text-align: right;\">\n",
       "      <th></th>\n",
       "      <th>State-Unit</th>\n",
       "      <th>Incident Number</th>\n",
       "      <th>Incident Name</th>\n",
       "      <th>Incident Type</th>\n",
       "      <th>Start Date</th>\n",
       "      <th>IC Name</th>\n",
       "      <th>Team Type</th>\n",
       "      <th>Latitude</th>\n",
       "      <th>Longitude</th>\n",
       "      <th>Size</th>\n",
       "      <th>Unit of Measure</th>\n",
       "      <th>Costs</th>\n",
       "      <th>Anticipated Containment / Completion Date</th>\n",
       "      <th>Structures Destroyed</th>\n",
       "    </tr>\n",
       "  </thead>\n",
       "  <tbody>\n",
       "    <tr>\n",
       "      <th>0</th>\n",
       "      <td>CA-LNU</td>\n",
       "      <td>CA-LNU-0005333</td>\n",
       "      <td>BUTTS</td>\n",
       "      <td>WF</td>\n",
       "      <td>07/01/2014 1405 CT</td>\n",
       "      <td>DC, SCOTT UPTON, LNU-CALFIRE</td>\n",
       "      <td>Type 3 IC</td>\n",
       "      <td>39</td>\n",
       "      <td>123</td>\n",
       "      <td>3200.0</td>\n",
       "      <td>Acres</td>\n",
       "      <td>6500000.0</td>\n",
       "      <td>NaN</td>\n",
       "      <td>5</td>\n",
       "    </tr>\n",
       "    <tr>\n",
       "      <th>1</th>\n",
       "      <td>CA-AEU</td>\n",
       "      <td>CA-AEU-018237</td>\n",
       "      <td>SAND</td>\n",
       "      <td>WF</td>\n",
       "      <td>07/25/2014 1834 CT</td>\n",
       "      <td>BC Mike Olivarria, AEU</td>\n",
       "      <td>Type 3 IC</td>\n",
       "      <td>39</td>\n",
       "      <td>121</td>\n",
       "      <td>4240.0</td>\n",
       "      <td>Acres</td>\n",
       "      <td>875500.0</td>\n",
       "      <td>08/02/2014 1400</td>\n",
       "      <td>67</td>\n",
       "    </tr>\n",
       "  </tbody>\n",
       "</table>\n",
       "</div>"
      ],
      "text/plain": [
       "  State-Unit Incident Number Incident Name Incident Type          Start Date  \\\n",
       "0     CA-LNU  CA-LNU-0005333         BUTTS            WF  07/01/2014 1405 CT   \n",
       "1     CA-AEU   CA-AEU-018237          SAND            WF  07/25/2014 1834 CT   \n",
       "\n",
       "                        IC Name  Team Type  Latitude  Longitude    Size  \\\n",
       "0  DC, SCOTT UPTON, LNU-CALFIRE  Type 3 IC        39        123  3200.0   \n",
       "1        BC Mike Olivarria, AEU  Type 3 IC        39        121  4240.0   \n",
       "\n",
       "  Unit of Measure      Costs Anticipated Containment / Completion Date  \\\n",
       "0           Acres  6500000.0                                       NaN   \n",
       "1           Acres   875500.0                           08/02/2014 1400   \n",
       "\n",
       "   Structures Destroyed  \n",
       "0                     5  \n",
       "1                    67  "
      ]
     },
     "execution_count": 4,
     "metadata": {},
     "output_type": "execute_result"
    }
   ],
   "source": [
    "fires_df.head(2)"
   ]
  },
  {
   "cell_type": "code",
   "execution_count": 5,
   "metadata": {},
   "outputs": [
    {
     "name": "stdout",
     "output_type": "stream",
     "text": [
      "<class 'pandas.core.frame.DataFrame'>\n",
      "Int64Index: 588 entries, 0 to 43\n",
      "Data columns (total 14 columns):\n",
      " #   Column                                     Non-Null Count  Dtype  \n",
      "---  ------                                     --------------  -----  \n",
      " 0   State-Unit                                 588 non-null    object \n",
      " 1   Incident Number                            588 non-null    object \n",
      " 2   Incident Name                              588 non-null    object \n",
      " 3   Incident Type                              588 non-null    object \n",
      " 4   Start Date                                 588 non-null    object \n",
      " 5   IC Name                                    587 non-null    object \n",
      " 6   Team Type                                  559 non-null    object \n",
      " 7   Latitude                                   588 non-null    int64  \n",
      " 8   Longitude                                  588 non-null    int64  \n",
      " 9   Size                                       588 non-null    float64\n",
      " 10  Unit of Measure                            588 non-null    object \n",
      " 11  Costs                                      587 non-null    float64\n",
      " 12  Anticipated Containment / Completion Date  558 non-null    object \n",
      " 13  Structures Destroyed                       588 non-null    int64  \n",
      "dtypes: float64(2), int64(3), object(9)\n",
      "memory usage: 68.9+ KB\n"
     ]
    }
   ],
   "source": [
    "fires_df.info()"
   ]
  },
  {
   "cell_type": "code",
   "execution_count": 6,
   "metadata": {},
   "outputs": [],
   "source": [
    "fires_df['start_date'] = pd.to_datetime(fires_df['Start Date'], utc=True).dt.date"
   ]
  },
  {
   "cell_type": "code",
   "execution_count": 8,
   "metadata": {},
   "outputs": [],
   "source": [
    "fires_df['year'] = pd.to_datetime(fires_df['Start Date'], utc=True).dt.year"
   ]
  },
  {
   "cell_type": "code",
   "execution_count": 10,
   "metadata": {},
   "outputs": [
    {
     "data": {
      "text/html": [
       "<div>\n",
       "<style scoped>\n",
       "    .dataframe tbody tr th:only-of-type {\n",
       "        vertical-align: middle;\n",
       "    }\n",
       "\n",
       "    .dataframe tbody tr th {\n",
       "        vertical-align: top;\n",
       "    }\n",
       "\n",
       "    .dataframe thead th {\n",
       "        text-align: right;\n",
       "    }\n",
       "</style>\n",
       "<table border=\"1\" class=\"dataframe\">\n",
       "  <thead>\n",
       "    <tr style=\"text-align: right;\">\n",
       "      <th></th>\n",
       "      <th>State-Unit</th>\n",
       "      <th>Incident Number</th>\n",
       "      <th>Incident Name</th>\n",
       "      <th>Incident Type</th>\n",
       "      <th>Start Date</th>\n",
       "      <th>IC Name</th>\n",
       "      <th>Team Type</th>\n",
       "      <th>Latitude</th>\n",
       "      <th>Longitude</th>\n",
       "      <th>Size</th>\n",
       "      <th>Unit of Measure</th>\n",
       "      <th>Costs</th>\n",
       "      <th>Anticipated Containment / Completion Date</th>\n",
       "      <th>Structures Destroyed</th>\n",
       "      <th>start_date</th>\n",
       "      <th>year</th>\n",
       "    </tr>\n",
       "  </thead>\n",
       "  <tbody>\n",
       "    <tr>\n",
       "      <th>0</th>\n",
       "      <td>CA-LNU</td>\n",
       "      <td>CA-LNU-0005333</td>\n",
       "      <td>BUTTS</td>\n",
       "      <td>WF</td>\n",
       "      <td>07/01/2014 1405 CT</td>\n",
       "      <td>DC, SCOTT UPTON, LNU-CALFIRE</td>\n",
       "      <td>Type 3 IC</td>\n",
       "      <td>39</td>\n",
       "      <td>123</td>\n",
       "      <td>3200.0</td>\n",
       "      <td>Acres</td>\n",
       "      <td>6500000.0</td>\n",
       "      <td>NaN</td>\n",
       "      <td>5</td>\n",
       "      <td>2014-07-01</td>\n",
       "      <td>2014</td>\n",
       "    </tr>\n",
       "    <tr>\n",
       "      <th>1</th>\n",
       "      <td>CA-AEU</td>\n",
       "      <td>CA-AEU-018237</td>\n",
       "      <td>SAND</td>\n",
       "      <td>WF</td>\n",
       "      <td>07/25/2014 1834 CT</td>\n",
       "      <td>BC Mike Olivarria, AEU</td>\n",
       "      <td>Type 3 IC</td>\n",
       "      <td>39</td>\n",
       "      <td>121</td>\n",
       "      <td>4240.0</td>\n",
       "      <td>Acres</td>\n",
       "      <td>875500.0</td>\n",
       "      <td>08/02/2014 1400</td>\n",
       "      <td>67</td>\n",
       "      <td>2014-07-25</td>\n",
       "      <td>2014</td>\n",
       "    </tr>\n",
       "  </tbody>\n",
       "</table>\n",
       "</div>"
      ],
      "text/plain": [
       "  State-Unit Incident Number Incident Name Incident Type          Start Date  \\\n",
       "0     CA-LNU  CA-LNU-0005333         BUTTS            WF  07/01/2014 1405 CT   \n",
       "1     CA-AEU   CA-AEU-018237          SAND            WF  07/25/2014 1834 CT   \n",
       "\n",
       "                        IC Name  Team Type  Latitude  Longitude    Size  \\\n",
       "0  DC, SCOTT UPTON, LNU-CALFIRE  Type 3 IC        39        123  3200.0   \n",
       "1        BC Mike Olivarria, AEU  Type 3 IC        39        121  4240.0   \n",
       "\n",
       "  Unit of Measure      Costs Anticipated Containment / Completion Date  \\\n",
       "0           Acres  6500000.0                                       NaN   \n",
       "1           Acres   875500.0                           08/02/2014 1400   \n",
       "\n",
       "   Structures Destroyed  start_date  year  \n",
       "0                     5  2014-07-01  2014  \n",
       "1                    67  2014-07-25  2014  "
      ]
     },
     "execution_count": 10,
     "metadata": {},
     "output_type": "execute_result"
    }
   ],
   "source": [
    "fires_df.head(2)"
   ]
  },
  {
   "cell_type": "code",
   "execution_count": 11,
   "metadata": {},
   "outputs": [],
   "source": [
    "fires_df.dropna(subset=['Costs'], axis=0, inplace=True)"
   ]
  },
  {
   "cell_type": "code",
   "execution_count": 12,
   "metadata": {},
   "outputs": [
    {
     "data": {
      "text/plain": [
       "WF    573\n",
       "CX      9\n",
       "OT      2\n",
       "LS      1\n",
       "WS      1\n",
       "FL      1\n",
       "Name: Incident Type, dtype: int64"
      ]
     },
     "execution_count": 12,
     "metadata": {},
     "output_type": "execute_result"
    }
   ],
   "source": [
    "fires_df['Incident Type'].value_counts()"
   ]
  },
  {
   "cell_type": "code",
   "execution_count": 13,
   "metadata": {},
   "outputs": [],
   "source": [
    "# Drop all non-wildfire incidents\n",
    "fires_df = fires_df[fires_df['Incident Type'] == 'WF']"
   ]
  },
  {
   "cell_type": "code",
   "execution_count": 14,
   "metadata": {},
   "outputs": [
    {
     "data": {
      "text/html": [
       "<div>\n",
       "<style scoped>\n",
       "    .dataframe tbody tr th:only-of-type {\n",
       "        vertical-align: middle;\n",
       "    }\n",
       "\n",
       "    .dataframe tbody tr th {\n",
       "        vertical-align: top;\n",
       "    }\n",
       "\n",
       "    .dataframe thead th {\n",
       "        text-align: right;\n",
       "    }\n",
       "</style>\n",
       "<table border=\"1\" class=\"dataframe\">\n",
       "  <thead>\n",
       "    <tr style=\"text-align: right;\">\n",
       "      <th></th>\n",
       "      <th>Incident Number</th>\n",
       "      <th>Incident Name</th>\n",
       "      <th>Incident Type</th>\n",
       "      <th>Latitude</th>\n",
       "      <th>Longitude</th>\n",
       "      <th>Size</th>\n",
       "      <th>Unit of Measure</th>\n",
       "      <th>Costs</th>\n",
       "      <th>Structures Destroyed</th>\n",
       "      <th>start_date</th>\n",
       "      <th>year</th>\n",
       "    </tr>\n",
       "  </thead>\n",
       "  <tbody>\n",
       "    <tr>\n",
       "      <th>0</th>\n",
       "      <td>CA-LNU-0005333</td>\n",
       "      <td>BUTTS</td>\n",
       "      <td>WF</td>\n",
       "      <td>39</td>\n",
       "      <td>123</td>\n",
       "      <td>3200.0</td>\n",
       "      <td>Acres</td>\n",
       "      <td>6500000.0</td>\n",
       "      <td>5</td>\n",
       "      <td>2014-07-01</td>\n",
       "      <td>2014</td>\n",
       "    </tr>\n",
       "    <tr>\n",
       "      <th>1</th>\n",
       "      <td>CA-AEU-018237</td>\n",
       "      <td>SAND</td>\n",
       "      <td>WF</td>\n",
       "      <td>39</td>\n",
       "      <td>121</td>\n",
       "      <td>4240.0</td>\n",
       "      <td>Acres</td>\n",
       "      <td>875500.0</td>\n",
       "      <td>67</td>\n",
       "      <td>2014-07-25</td>\n",
       "      <td>2014</td>\n",
       "    </tr>\n",
       "  </tbody>\n",
       "</table>\n",
       "</div>"
      ],
      "text/plain": [
       "  Incident Number Incident Name Incident Type  Latitude  Longitude    Size  \\\n",
       "0  CA-LNU-0005333         BUTTS            WF        39        123  3200.0   \n",
       "1   CA-AEU-018237          SAND            WF        39        121  4240.0   \n",
       "\n",
       "  Unit of Measure      Costs  Structures Destroyed  start_date  year  \n",
       "0           Acres  6500000.0                     5  2014-07-01  2014  \n",
       "1           Acres   875500.0                    67  2014-07-25  2014  "
      ]
     },
     "execution_count": 14,
     "metadata": {},
     "output_type": "execute_result"
    }
   ],
   "source": [
    "fires_df_clean = fires_df.drop(columns = ['State-Unit', 'Start Date', \n",
    "                               'IC Name', 'Team Type', 'Anticipated Containment / Completion Date'])\n",
    "fires_df_clean.head(2)"
   ]
  },
  {
   "cell_type": "code",
   "execution_count": 15,
   "metadata": {},
   "outputs": [
    {
     "name": "stdout",
     "output_type": "stream",
     "text": [
      "<class 'pandas.core.frame.DataFrame'>\n",
      "Int64Index: 573 entries, 0 to 43\n",
      "Data columns (total 11 columns):\n",
      " #   Column                Non-Null Count  Dtype  \n",
      "---  ------                --------------  -----  \n",
      " 0   Incident Number       573 non-null    object \n",
      " 1   Incident Name         573 non-null    object \n",
      " 2   Incident Type         573 non-null    object \n",
      " 3   Latitude              573 non-null    int64  \n",
      " 4   Longitude             573 non-null    int64  \n",
      " 5   Size                  573 non-null    float64\n",
      " 6   Unit of Measure       573 non-null    object \n",
      " 7   Costs                 573 non-null    float64\n",
      " 8   Structures Destroyed  573 non-null    int64  \n",
      " 9   start_date            573 non-null    object \n",
      " 10  year                  573 non-null    int64  \n",
      "dtypes: float64(2), int64(4), object(5)\n",
      "memory usage: 53.7+ KB\n"
     ]
    }
   ],
   "source": [
    "fires_df_clean.info()"
   ]
  },
  {
   "cell_type": "code",
   "execution_count": 36,
   "metadata": {},
   "outputs": [],
   "source": [
    "fires_df_clean.to_csv('./claire_data/fires_compiled.csv', index=False)"
   ]
  },
  {
   "cell_type": "code",
   "execution_count": 18,
   "metadata": {},
   "outputs": [
    {
     "data": {
      "image/png": "[encoded data removed]",
      "text/plain": [
       "<Figure size 432x288 with 1 Axes>"
      ]
     },
     "metadata": {},
     "output_type": "display_data"
    }
   ],
   "source": [
    "fires_df_clean.groupby('year')['Costs'].sum().plot(kind='bar');"
   ]
  },
  {
   "cell_type": "code",
   "execution_count": 26,
   "metadata": {},
   "outputs": [
    {
     "data": {
      "image/png": "[encoded data removed]",
      "text/plain": [
       "<Figure size 432x288 with 1 Axes>"
      ]
     },
     "metadata": {},
     "output_type": "display_data"
    }
   ],
   "source": [
    "fires_df_clean.groupby('year')['Incident Number'].count().plot(kind='bar');"
   ]
  },
  {
   "cell_type": "code",
   "execution_count": 27,
   "metadata": {},
   "outputs": [
    {
     "data": {
      "image/png": "[encoded data removed]",
      "text/plain": [
       "<Figure size 432x288 with 1 Axes>"
      ]
     },
     "metadata": {},
     "output_type": "display_data"
    }
   ],
   "source": [
    "fires_df_clean.groupby('year')['Size'].sum().plot(kind='bar');"
   ]
  },
  {
   "cell_type": "code",
   "execution_count": 25,
   "metadata": {},
   "outputs": [
    {
     "data": {
      "image/png": "[encoded data removed]",
      "text/plain": [
       "<Figure size 720x576 with 1 Axes>"
      ]
     },
     "metadata": {},
     "output_type": "display_data"
    }
   ],
   "source": [
    "plt.style.use('ggplot')\n",
    "plt.subplots(figsize=(10,8))\n",
    "sns.scatterplot(x = 'Size', \n",
    "                y = 'Structures Destroyed', \n",
    "                data = fires_df_clean, \n",
    "                size= 'Costs',\n",
    "                hue='year',\n",
    "                palette='viridis')\n",
    "plt.legend(loc='best');"
   ]
  },
  {
   "cell_type": "code",
   "execution_count": 28,
   "metadata": {},
   "outputs": [
    {
     "data": {
      "image/png": "[encoded data removed]",
      "text/plain": [
       "<Figure size 720x576 with 1 Axes>"
      ]
     },
     "metadata": {},
     "output_type": "display_data"
    }
   ],
   "source": [
    "plt.style.use('ggplot')\n",
    "plt.subplots(figsize=(10,8))\n",
    "sns.scatterplot(x = 'Size', \n",
    "                y = 'Costs', \n",
    "                data = fires_df_clean, \n",
    "                hue='year',\n",
    "                palette='viridis')\n",
    "plt.legend(loc='best');"
   ]
  },
  {
   "cell_type": "code",
   "execution_count": 29,
   "metadata": {},
   "outputs": [
    {
     "data": {
      "image/png": "[encoded data removed]",
      "text/plain": [
       "<Figure size 720x576 with 1 Axes>"
      ]
     },
     "metadata": {},
     "output_type": "display_data"
    }
   ],
   "source": [
    "plt.style.use('ggplot')\n",
    "plt.subplots(figsize=(10,8))\n",
    "sns.scatterplot(x = 'Structures Destroyed', \n",
    "                y = 'Costs', \n",
    "                data = fires_df_clean, \n",
    "                hue='year',\n",
    "                palette='viridis')\n",
    "plt.legend(loc='best');"
   ]
  },
  {
   "cell_type": "code",
   "execution_count": 24,
   "metadata": {},
   "outputs": [
    {
     "data": {
      "text/html": [
       "<div>\n",
       "<style scoped>\n",
       "    .dataframe tbody tr th:only-of-type {\n",
       "        vertical-align: middle;\n",
       "    }\n",
       "\n",
       "    .dataframe tbody tr th {\n",
       "        vertical-align: top;\n",
       "    }\n",
       "\n",
       "    .dataframe thead th {\n",
       "        text-align: right;\n",
       "    }\n",
       "</style>\n",
       "<table border=\"1\" class=\"dataframe\">\n",
       "  <thead>\n",
       "    <tr style=\"text-align: right;\">\n",
       "      <th></th>\n",
       "      <th>State-Unit</th>\n",
       "      <th>Incident Number</th>\n",
       "      <th>Incident Name</th>\n",
       "      <th>Incident Type</th>\n",
       "      <th>Start Date</th>\n",
       "      <th>IC Name</th>\n",
       "      <th>Team Type</th>\n",
       "      <th>Latitude</th>\n",
       "      <th>Longitude</th>\n",
       "      <th>Size</th>\n",
       "      <th>Unit of Measure</th>\n",
       "      <th>Costs</th>\n",
       "      <th>Anticipated Containment / Completion Date</th>\n",
       "      <th>Structures Destroyed</th>\n",
       "      <th>start_date</th>\n",
       "      <th>year</th>\n",
       "    </tr>\n",
       "  </thead>\n",
       "  <tbody>\n",
       "    <tr>\n",
       "      <th>35</th>\n",
       "      <td>CA-BTU</td>\n",
       "      <td>CA-BTU-016737</td>\n",
       "      <td>CAMP</td>\n",
       "      <td>WF</td>\n",
       "      <td>11/08/2018 0629 PST</td>\n",
       "      <td>Russell-CAL FIRE IMT 4,Bell-Butte County Sheri...</td>\n",
       "      <td>Type 1 Team</td>\n",
       "      <td>40</td>\n",
       "      <td>121</td>\n",
       "      <td>153336.0</td>\n",
       "      <td>Acres</td>\n",
       "      <td>102843527.0</td>\n",
       "      <td>11/25/2018 1200</td>\n",
       "      <td>18804</td>\n",
       "      <td>2018-11-08</td>\n",
       "      <td>2018</td>\n",
       "    </tr>\n",
       "    <tr>\n",
       "      <th>28</th>\n",
       "      <td>CA-LNU</td>\n",
       "      <td>CA-LNU-010104</td>\n",
       "      <td>CENTRAL LNU COMPLEX</td>\n",
       "      <td>WF</td>\n",
       "      <td>10/09/2017 0545 PDT</td>\n",
       "      <td>2 Zone IC's:\\nKirk VanWormer\\nMarshall Turbeville</td>\n",
       "      <td>Type 3 Team</td>\n",
       "      <td>38</td>\n",
       "      <td>123</td>\n",
       "      <td>110720.0</td>\n",
       "      <td>Acres</td>\n",
       "      <td>102000000.0</td>\n",
       "      <td>10/31/2017 1200</td>\n",
       "      <td>7010</td>\n",
       "      <td>2017-10-09</td>\n",
       "      <td>2017</td>\n",
       "    </tr>\n",
       "    <tr>\n",
       "      <th>15</th>\n",
       "      <td>CA-LNU</td>\n",
       "      <td>CA-LNU-008670</td>\n",
       "      <td>VALLEY</td>\n",
       "      <td>WF</td>\n",
       "      <td>09/12/2015 1325 PDT</td>\n",
       "      <td>Mike Wink</td>\n",
       "      <td>Type 3 Team</td>\n",
       "      <td>39</td>\n",
       "      <td>123</td>\n",
       "      <td>76067.0</td>\n",
       "      <td>Acres</td>\n",
       "      <td>56220000.0</td>\n",
       "      <td>10/06/2015 1200</td>\n",
       "      <td>1958</td>\n",
       "      <td>2015-09-12</td>\n",
       "      <td>2015</td>\n",
       "    </tr>\n",
       "    <tr>\n",
       "      <th>43</th>\n",
       "      <td>CA-VNC</td>\n",
       "      <td>CA-VNC-091023</td>\n",
       "      <td>WOOLSEY</td>\n",
       "      <td>WF</td>\n",
       "      <td>11/08/2018 1430 PST</td>\n",
       "      <td>Monday-VNC\\nWhittle-LAC\\nGage-LASD</td>\n",
       "      <td>Type 3 Team</td>\n",
       "      <td>34</td>\n",
       "      <td>119</td>\n",
       "      <td>96949.0</td>\n",
       "      <td>Acres</td>\n",
       "      <td>56943320.0</td>\n",
       "      <td>11/22/2018 1200</td>\n",
       "      <td>1643</td>\n",
       "      <td>2018-11-08</td>\n",
       "      <td>2018</td>\n",
       "    </tr>\n",
       "    <tr>\n",
       "      <th>30</th>\n",
       "      <td>CA-WNP</td>\n",
       "      <td>CA-WNP-001084</td>\n",
       "      <td>CARR</td>\n",
       "      <td>WF</td>\n",
       "      <td>07/23/2018 1318 PDT</td>\n",
       "      <td>Nick Truax - CAL FIRE,\\nTodd Mack, Dan Ostmann...</td>\n",
       "      <td>Type 3 Team</td>\n",
       "      <td>41</td>\n",
       "      <td>123</td>\n",
       "      <td>229651.0</td>\n",
       "      <td>Acres</td>\n",
       "      <td>158744844.0</td>\n",
       "      <td>09/01/2018 1200</td>\n",
       "      <td>1604</td>\n",
       "      <td>2018-07-23</td>\n",
       "      <td>2018</td>\n",
       "    </tr>\n",
       "    <tr>\n",
       "      <th>...</th>\n",
       "      <td>...</td>\n",
       "      <td>...</td>\n",
       "      <td>...</td>\n",
       "      <td>...</td>\n",
       "      <td>...</td>\n",
       "      <td>...</td>\n",
       "      <td>...</td>\n",
       "      <td>...</td>\n",
       "      <td>...</td>\n",
       "      <td>...</td>\n",
       "      <td>...</td>\n",
       "      <td>...</td>\n",
       "      <td>...</td>\n",
       "      <td>...</td>\n",
       "      <td>...</td>\n",
       "      <td>...</td>\n",
       "    </tr>\n",
       "    <tr>\n",
       "      <th>32</th>\n",
       "      <td>CA-CNF</td>\n",
       "      <td>CA-CNF-002642</td>\n",
       "      <td>HOLY</td>\n",
       "      <td>WF</td>\n",
       "      <td>08/31/2016 0410 PDT</td>\n",
       "      <td>Jacob Gipson USFS\\nRon Roberts OCFA IMT #3\\nR,...</td>\n",
       "      <td>Type 3 Team</td>\n",
       "      <td>34</td>\n",
       "      <td>118</td>\n",
       "      <td>150.0</td>\n",
       "      <td>Acres</td>\n",
       "      <td>1700000.0</td>\n",
       "      <td>09/05/2016 1200</td>\n",
       "      <td>0</td>\n",
       "      <td>2016-08-31</td>\n",
       "      <td>2016</td>\n",
       "    </tr>\n",
       "    <tr>\n",
       "      <th>31</th>\n",
       "      <td>CA-CND</td>\n",
       "      <td>CA-CND-001171</td>\n",
       "      <td>SODA</td>\n",
       "      <td>WF</td>\n",
       "      <td>06/04/2016 1741 PDT</td>\n",
       "      <td>Chris Matthews ICT4</td>\n",
       "      <td>Type 4 IC</td>\n",
       "      <td>35</td>\n",
       "      <td>120</td>\n",
       "      <td>2003.0</td>\n",
       "      <td>Acres</td>\n",
       "      <td>500000.0</td>\n",
       "      <td>06/06/2016 1200</td>\n",
       "      <td>0</td>\n",
       "      <td>2016-06-05</td>\n",
       "      <td>2016</td>\n",
       "    </tr>\n",
       "    <tr>\n",
       "      <th>30</th>\n",
       "      <td>CA-FKU</td>\n",
       "      <td>CA-FKU-006574</td>\n",
       "      <td>AVOCADO</td>\n",
       "      <td>WF</td>\n",
       "      <td>05/15/2016 1624 PDT</td>\n",
       "      <td>JIM FITZGERALD (CALFIRE FKU)</td>\n",
       "      <td>NaN</td>\n",
       "      <td>37</td>\n",
       "      <td>119</td>\n",
       "      <td>132.0</td>\n",
       "      <td>Acres</td>\n",
       "      <td>50000.0</td>\n",
       "      <td>05/18/2016 1200</td>\n",
       "      <td>0</td>\n",
       "      <td>2016-05-15</td>\n",
       "      <td>2016</td>\n",
       "    </tr>\n",
       "    <tr>\n",
       "      <th>29</th>\n",
       "      <td>CA-BEU</td>\n",
       "      <td>CA-BEU-002369</td>\n",
       "      <td>METZ</td>\n",
       "      <td>WF</td>\n",
       "      <td>05/22/2016 1532 PDT</td>\n",
       "      <td>B. Muenzer\\nCAL FIRE</td>\n",
       "      <td>Type 3 IC</td>\n",
       "      <td>36</td>\n",
       "      <td>121</td>\n",
       "      <td>3876.0</td>\n",
       "      <td>Acres</td>\n",
       "      <td>825436.0</td>\n",
       "      <td>05/25/2016 1200</td>\n",
       "      <td>0</td>\n",
       "      <td>2016-05-22</td>\n",
       "      <td>2016</td>\n",
       "    </tr>\n",
       "    <tr>\n",
       "      <th>43</th>\n",
       "      <td>CA-SLU</td>\n",
       "      <td>CA-SLU-012773</td>\n",
       "      <td>LOPEZ</td>\n",
       "      <td>WF</td>\n",
       "      <td>09/21/2019 1426 PDT</td>\n",
       "      <td>IC Matt Guzman</td>\n",
       "      <td>Type 5 IC</td>\n",
       "      <td>35</td>\n",
       "      <td>120</td>\n",
       "      <td>220.0</td>\n",
       "      <td>Acres</td>\n",
       "      <td>2000000.0</td>\n",
       "      <td>09/27/2019 1200</td>\n",
       "      <td>0</td>\n",
       "      <td>2019-09-21</td>\n",
       "      <td>2019</td>\n",
       "    </tr>\n",
       "  </tbody>\n",
       "</table>\n",
       "<p>573 rows × 16 columns</p>\n",
       "</div>"
      ],
      "text/plain": [
       "   State-Unit Incident Number        Incident Name Incident Type  \\\n",
       "35     CA-BTU   CA-BTU-016737                 CAMP            WF   \n",
       "28     CA-LNU   CA-LNU-010104  CENTRAL LNU COMPLEX            WF   \n",
       "15     CA-LNU   CA-LNU-008670               VALLEY            WF   \n",
       "43     CA-VNC   CA-VNC-091023              WOOLSEY            WF   \n",
       "30     CA-WNP   CA-WNP-001084                 CARR            WF   \n",
       "..        ...             ...                  ...           ...   \n",
       "32     CA-CNF   CA-CNF-002642                 HOLY            WF   \n",
       "31     CA-CND   CA-CND-001171                 SODA            WF   \n",
       "30     CA-FKU   CA-FKU-006574              AVOCADO            WF   \n",
       "29     CA-BEU   CA-BEU-002369                 METZ            WF   \n",
       "43     CA-SLU   CA-SLU-012773                LOPEZ            WF   \n",
       "\n",
       "             Start Date                                            IC Name  \\\n",
       "35  11/08/2018 0629 PST  Russell-CAL FIRE IMT 4,Bell-Butte County Sheri...   \n",
       "28  10/09/2017 0545 PDT  2 Zone IC's:\\nKirk VanWormer\\nMarshall Turbeville   \n",
       "15  09/12/2015 1325 PDT                                          Mike Wink   \n",
       "43  11/08/2018 1430 PST                 Monday-VNC\\nWhittle-LAC\\nGage-LASD   \n",
       "30  07/23/2018 1318 PDT  Nick Truax - CAL FIRE,\\nTodd Mack, Dan Ostmann...   \n",
       "..                  ...                                                ...   \n",
       "32  08/31/2016 0410 PDT  Jacob Gipson USFS\\nRon Roberts OCFA IMT #3\\nR,...   \n",
       "31  06/04/2016 1741 PDT                                Chris Matthews ICT4   \n",
       "30  05/15/2016 1624 PDT                       JIM FITZGERALD (CALFIRE FKU)   \n",
       "29  05/22/2016 1532 PDT                               B. Muenzer\\nCAL FIRE   \n",
       "43  09/21/2019 1426 PDT                                     IC Matt Guzman   \n",
       "\n",
       "      Team Type  Latitude  Longitude      Size Unit of Measure        Costs  \\\n",
       "35  Type 1 Team        40        121  153336.0           Acres  102843527.0   \n",
       "28  Type 3 Team        38        123  110720.0           Acres  102000000.0   \n",
       "15  Type 3 Team        39        123   76067.0           Acres   56220000.0   \n",
       "43  Type 3 Team        34        119   96949.0           Acres   56943320.0   \n",
       "30  Type 3 Team        41        123  229651.0           Acres  158744844.0   \n",
       "..          ...       ...        ...       ...             ...          ...   \n",
       "32  Type 3 Team        34        118     150.0           Acres    1700000.0   \n",
       "31    Type 4 IC        35        120    2003.0           Acres     500000.0   \n",
       "30          NaN        37        119     132.0           Acres      50000.0   \n",
       "29    Type 3 IC        36        121    3876.0           Acres     825436.0   \n",
       "43    Type 5 IC        35        120     220.0           Acres    2000000.0   \n",
       "\n",
       "   Anticipated Containment / Completion Date  Structures Destroyed  \\\n",
       "35                           11/25/2018 1200                 18804   \n",
       "28                           10/31/2017 1200                  7010   \n",
       "15                           10/06/2015 1200                  1958   \n",
       "43                           11/22/2018 1200                  1643   \n",
       "30                           09/01/2018 1200                  1604   \n",
       "..                                       ...                   ...   \n",
       "32                           09/05/2016 1200                     0   \n",
       "31                           06/06/2016 1200                     0   \n",
       "30                           05/18/2016 1200                     0   \n",
       "29                           05/25/2016 1200                     0   \n",
       "43                           09/27/2019 1200                     0   \n",
       "\n",
       "    start_date  year  \n",
       "35  2018-11-08  2018  \n",
       "28  2017-10-09  2017  \n",
       "15  2015-09-12  2015  \n",
       "43  2018-11-08  2018  \n",
       "30  2018-07-23  2018  \n",
       "..         ...   ...  \n",
       "32  2016-08-31  2016  \n",
       "31  2016-06-05  2016  \n",
       "30  2016-05-15  2016  \n",
       "29  2016-05-22  2016  \n",
       "43  2019-09-21  2019  \n",
       "\n",
       "[573 rows x 16 columns]"
      ]
     },
     "execution_count": 24,
     "metadata": {},
     "output_type": "execute_result"
    }
   ],
   "source": [
    "fires_df.sort_values(by='Structures Destroyed', ascending=False)"
   ]
  },
  {
   "cell_type": "code",
   "execution_count": null,
   "metadata": {},
   "outputs": [],
   "source": []
  }
 ],
 "metadata": {
  "kernelspec": {
   "display_name": "Python 3",
   "language": "python",
   "name": "python3"
  },
  "language_info": {
   "codemirror_mode": {
    "name": "ipython",
    "version": 3
   },
   "file_extension": ".py",
   "mimetype": "text/x-python",
   "name": "python",
   "nbconvert_exporter": "python",
   "pygments_lexer": "ipython3",
   "version": "3.8.3"
  }
 },
 "nbformat": 4,
 "nbformat_minor": 4
}
