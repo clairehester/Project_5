{
 "cells": [
  {
   "cell_type": "code",
   "execution_count": 2,
   "metadata": {},
   "outputs": [],
   "source": [
    "# import libraries\n",
    "import pandas as pd\n",
    "import numpy as np\n",
    "\n",
    "# from uszipcode import Zipcode, SearchEngine\n",
    "\n",
    "import warnings\n",
    "warnings.filterwarnings(\"ignore\")"
   ]
  },
  {
   "cell_type": "markdown",
   "metadata": {},
   "source": [
    "### Import major incidents files\n",
    "\n",
    "These are separated into Northern and Southern California Area Coordination Centers. Each report had to be downloaded separately by year. I will pull them all into individual variables which can then be concatenated together to create one inclusive incident report dataframe.\n",
    "\n",
    "This data includes all major wildfire incidents, defined as larger than 100 acres."
   ]
  },
  {
   "cell_type": "code",
   "execution_count": null,
   "metadata": {},
   "outputs": [],
   "source": [
    "fire_df_nc_19 = pd.read_excel('../claire_data/Significant Incident Summary Spreadsheet by GACC norcal 2019.xlsx')\n",
    "fire_df_nc_18 = pd.read_excel('../claire_data/Significant Incident Summary Spreadsheet by GACC norcal 2018.xlsx')\n",
    "fire_df_nc_17 = pd.read_excel('../claire_data/Significant Incident Summary Spreadsheet by GACC norcal 2017.xlsx')\n",
    "fire_df_nc_16 = pd.read_excel('../claire_data/Significant Incident Summary Spreadsheet by GACC norcal 2016.xlsx')\n",
    "fire_df_nc_15 = pd.read_excel('../claire_data/Significant Incident Summary Spreadsheet by GACC norcal 2015.xlsx')\n",
    "fire_df_nc_14 = pd.read_excel('../claire_data/Significant Incident Summary Spreadsheet by GACC norcal 2014.xlsx')\n",
    "\n",
    "fire_df_sc_19 = pd.read_excel('./claire_data/Significant Incident Summary Spreadsheet by GACC socal 2019.xlsx')\n",
    "fire_df_sc_18 = pd.read_excel('./claire_data/Significant Incident Summary Spreadsheet by GACC socal 2018.xlsx')\n",
    "fire_df_sc_17 = pd.read_excel('./claire_data/Significant Incident Summary Spreadsheet by GACC socal 2017.xlsx')\n",
    "fire_df_sc_16 = pd.read_excel('./claire_data/Significant Incident Summary Spreadsheet by GACC socal 2016.xlsx')\n",
    "fire_df_sc_15 = pd.read_excel('./claire_data/Significant Incident Summary Spreadsheet by GACC socal 2015.xlsx')\n",
    "fire_df_sc_14 = pd.read_excel('./claire_data/Significant Incident Summary Spreadsheet by GACC socal 2014.xlsx')"
   ]
  },
  {
   "cell_type": "code",
   "execution_count": null,
   "metadata": {},
   "outputs": [],
   "source": [
    "fires_df = pd.concat([fire_df_nc_14, fire_df_sc_14, \n",
    "                      fire_df_nc_15, fire_df_sc_15,\n",
    "                      fire_df_nc_16, fire_df_sc_16,\n",
    "                      fire_df_nc_17, fire_df_sc_17,\n",
    "                      fire_df_nc_18, fire_df_sc_18, \n",
    "                      fire_df_nc_19, fire_df_sc_19]).reset_index(drop=True)"
   ]
  },
  {
   "cell_type": "code",
   "execution_count": null,
   "metadata": {},
   "outputs": [],
   "source": [
    "fires_df.head(2)"
   ]
  },
  {
   "cell_type": "code",
   "execution_count": null,
   "metadata": {},
   "outputs": [],
   "source": [
    "fires_df.info()"
   ]
  },
  {
   "cell_type": "markdown",
   "metadata": {},
   "source": [
    "### Data Cleaning\n",
    "\n",
    "There are several features to be updated here. A few of them are:\n",
    "- Making all incident names uppercase to match the shapefile data\n",
    "- Year: extract year from start date\n",
    "- Costs: remove all fires that don't have an associated cost\n",
    "- Incident Type: remove all incidents that are not classified as wildfires\n",
    "- State: remove all fires outside of CA (a few fires in HI are under Southern CA's jurisdiction)\n",
    "- County: use 'uszipcode' library to extract county using latitude and longitude measures"
   ]
  },
  {
   "cell_type": "code",
   "execution_count": null,
   "metadata": {},
   "outputs": [],
   "source": [
    "fires_df['Fire Name'] = fires_df['Incident Name'].str.upper()"
   ]
  },
  {
   "cell_type": "code",
   "execution_count": null,
   "metadata": {},
   "outputs": [],
   "source": [
    "fires_df['start_date'] = pd.to_datetime(fires_df['Start Date'], utc=True).dt.date"
   ]
  },
  {
   "cell_type": "code",
   "execution_count": null,
   "metadata": {},
   "outputs": [],
   "source": [
    "fires_df['year'] = pd.to_datetime(fires_df['Start Date'], utc=True).dt.year"
   ]
  },
  {
   "cell_type": "code",
   "execution_count": null,
   "metadata": {},
   "outputs": [],
   "source": [
    "fires_df.head(2)"
   ]
  },
  {
   "cell_type": "code",
   "execution_count": null,
   "metadata": {},
   "outputs": [],
   "source": [
    "fires_df.dropna(subset=['Costs'], axis=0, inplace=True)"
   ]
  },
  {
   "cell_type": "code",
   "execution_count": null,
   "metadata": {},
   "outputs": [],
   "source": [
    "fires_df['Incident Type'].value_counts()"
   ]
  },
  {
   "cell_type": "code",
   "execution_count": null,
   "metadata": {},
   "outputs": [],
   "source": [
    "# Drop all non-wildfire incidents\n",
    "fires_df = fires_df[fires_df['Incident Type'] == 'WF']"
   ]
  },
  {
   "cell_type": "code",
   "execution_count": null,
   "metadata": {},
   "outputs": [],
   "source": [
    "fires_df['State-Unit'].unique()"
   ]
  },
  {
   "cell_type": "code",
   "execution_count": null,
   "metadata": {},
   "outputs": [],
   "source": [
    "fires_df = fires_df[fires_df['State-Unit'].str.startswith('CA')]"
   ]
  },
  {
   "cell_type": "code",
   "execution_count": null,
   "metadata": {},
   "outputs": [],
   "source": [
    "fires_df.reset_index(drop=True, inplace=True)"
   ]
  },
  {
   "cell_type": "code",
   "execution_count": null,
   "metadata": {},
   "outputs": [],
   "source": [
    "# Code adapted from Emiko Sano\n",
    "\n",
    "def county_name(lat, long, radius=100):\n",
    "    '''Takes in latitude and longitude (as an iterable) and returns the closest county name for the given coordinates'''\n",
    "    lat, long = lat, long * -1\n",
    "    search = SearchEngine()\n",
    "    result = search.by_coordinates(lat, long)\n",
    "    # get the county name\n",
    "    try:\n",
    "        county = result[0].county\n",
    "        # this is in 'XXXX County', so fix the format so that it's only the county name without 'County' at the end\n",
    "        county = county.split()\n",
    "        # get everything but the last item (which is 'County')\n",
    "        county = county[:-1]\n",
    "        # return a string\n",
    "        return ' '.join(county)\n",
    "    except:\n",
    "        print(f'Something went wrong. Check your coordinates: {lat, long}') "
   ]
  },
  {
   "cell_type": "code",
   "execution_count": null,
   "metadata": {},
   "outputs": [],
   "source": [
    "def county_column(df):\n",
    "    '''Applies the county_name function to latitude and longitude columns in order to create a new county column'''\n",
    "    county_list = []\n",
    "    for num in range(len(df)):\n",
    "        latitude, longitude = float(fires_df.iloc[num, 7]), float(fires_df.iloc[num, 8])\n",
    "        county_list.append(county_name(latitude, longitude))\n",
    "        \n",
    "    return county_list"
   ]
  },
  {
   "cell_type": "code",
   "execution_count": null,
   "metadata": {},
   "outputs": [],
   "source": [
    "fires_df['county'] = county_column(fires_df)"
   ]
  },
  {
   "cell_type": "code",
   "execution_count": null,
   "metadata": {},
   "outputs": [],
   "source": [
    "fires_df[fires_df['county'].isna()]"
   ]
  },
  {
   "cell_type": "code",
   "execution_count": null,
   "metadata": {},
   "outputs": [],
   "source": [
    "# Manually correcting counties that had NaN values\n",
    "fires_df.loc[45, 'county'] = 'San Diego'\n",
    "fires_df.loc[61, 'county'] = 'Los Angeles'\n",
    "fires_df.loc[136, 'county'] = 'San Diego'\n",
    "fires_df.loc[328, 'county'] = 'San Diego'"
   ]
  },
  {
   "cell_type": "code",
   "execution_count": null,
   "metadata": {},
   "outputs": [],
   "source": [
    "fires_df_clean = fires_df.drop(columns = ['State-Unit', 'Start Date', \n",
    "                               'IC Name', 'Team Type', 'Anticipated Containment / Completion Date'])\n",
    "fires_df_clean.head(2)"
   ]
  },
  {
   "cell_type": "code",
   "execution_count": null,
   "metadata": {},
   "outputs": [],
   "source": [
    "fires_df_clean.info()"
   ]
  },
  {
   "cell_type": "code",
   "execution_count": null,
   "metadata": {},
   "outputs": [],
   "source": [
    "fires_df_clean.describe()"
   ]
  },
  {
   "cell_type": "code",
   "execution_count": null,
   "metadata": {},
   "outputs": [],
   "source": [
    "fires_df_clean = fires_df_clean[(fires_df_clean['Size'] > 100) & (fires_df_clean['Costs'] > 0)]"
   ]
  },
  {
   "cell_type": "code",
   "execution_count": null,
   "metadata": {},
   "outputs": [],
   "source": [
    "fires_df_clean.to_csv('./claire_data/fires_compiled.csv', index=False)"
   ]
  },
  {
   "cell_type": "markdown",
   "metadata": {},
   "source": [
    "### Acres Burned Over Time\n",
    "\n",
    "This will be used for time series forecasting."
   ]
  },
  {
   "cell_type": "code",
   "execution_count": 4,
   "metadata": {},
   "outputs": [],
   "source": [
    "acres_df = pd.read_csv('../claire_data/California_Fire_Perimeters.csv')"
   ]
  },
  {
   "cell_type": "code",
   "execution_count": 5,
   "metadata": {},
   "outputs": [
    {
     "name": "stdout",
     "output_type": "stream",
     "text": [
      "<class 'pandas.core.frame.DataFrame'>\n",
      "RangeIndex: 12202 entries, 0 to 12201\n",
      "Data columns (total 19 columns):\n",
      " #   Column        Non-Null Count  Dtype  \n",
      "---  ------        --------------  -----  \n",
      " 0   OBJECTID      12202 non-null  int64  \n",
      " 1   YEAR_         12140 non-null  float64\n",
      " 2   STATE         12148 non-null  object \n",
      " 3   AGENCY        12202 non-null  object \n",
      " 4   UNIT_ID       12199 non-null  object \n",
      " 5   FIRE_NAME     12174 non-null  object \n",
      " 6   INC_NUM       11720 non-null  object \n",
      " 7   ALARM_DATE    8214 non-null   object \n",
      " 8   CONT_DATE     3375 non-null   object \n",
      " 9   CAUSE         12190 non-null  float64\n",
      " 10  COMMENTS      1886 non-null   object \n",
      " 11  REPORT_AC     3836 non-null   float64\n",
      " 12  GIS_ACRES     12202 non-null  float64\n",
      " 13  C_METHOD      3759 non-null   float64\n",
      " 14  OBJECTIVE     12146 non-null  float64\n",
      " 15  FIRE_NUM      10952 non-null  object \n",
      " 16  GlobalID      12202 non-null  object \n",
      " 17  SHAPE_Length  12202 non-null  float64\n",
      " 18  SHAPE_Area    12202 non-null  float64\n",
      "dtypes: float64(8), int64(1), object(10)\n",
      "memory usage: 1.8+ MB\n"
     ]
    }
   ],
   "source": [
    "acres_df.info()"
   ]
  },
  {
   "cell_type": "code",
   "execution_count": 6,
   "metadata": {},
   "outputs": [],
   "source": [
    "acres_df.dropna(subset=['YEAR_'], inplace=True)"
   ]
  },
  {
   "cell_type": "code",
   "execution_count": 7,
   "metadata": {},
   "outputs": [],
   "source": [
    "acres_df = acres_df[(acres_df['YEAR_'] > 1970) & (acres_df['GIS_ACRES'] > 100)]"
   ]
  },
  {
   "cell_type": "code",
   "execution_count": 8,
   "metadata": {},
   "outputs": [
    {
     "name": "stdout",
     "output_type": "stream",
     "text": [
      "<class 'pandas.core.frame.DataFrame'>\n",
      "Int64Index: 6086 entries, 0 to 12201\n",
      "Data columns (total 19 columns):\n",
      " #   Column        Non-Null Count  Dtype  \n",
      "---  ------        --------------  -----  \n",
      " 0   OBJECTID      6086 non-null   int64  \n",
      " 1   YEAR_         6086 non-null   float64\n",
      " 2   STATE         6032 non-null   object \n",
      " 3   AGENCY        6086 non-null   object \n",
      " 4   UNIT_ID       6083 non-null   object \n",
      " 5   FIRE_NAME     6068 non-null   object \n",
      " 6   INC_NUM       5924 non-null   object \n",
      " 7   ALARM_DATE    5526 non-null   object \n",
      " 8   CONT_DATE     3252 non-null   object \n",
      " 9   CAUSE         6074 non-null   float64\n",
      " 10  COMMENTS      1079 non-null   object \n",
      " 11  REPORT_AC     3207 non-null   float64\n",
      " 12  GIS_ACRES     6086 non-null   float64\n",
      " 13  C_METHOD      3351 non-null   float64\n",
      " 14  OBJECTIVE     6057 non-null   float64\n",
      " 15  FIRE_NUM      4930 non-null   object \n",
      " 16  GlobalID      6086 non-null   object \n",
      " 17  SHAPE_Length  6086 non-null   float64\n",
      " 18  SHAPE_Area    6086 non-null   float64\n",
      "dtypes: float64(8), int64(1), object(10)\n",
      "memory usage: 950.9+ KB\n"
     ]
    }
   ],
   "source": [
    "acres_df.info()"
   ]
  },
  {
   "cell_type": "code",
   "execution_count": null,
   "metadata": {},
   "outputs": [],
   "source": []
  }
 ],
 "metadata": {
  "kernelspec": {
   "display_name": "Python 3",
   "language": "python",
   "name": "python3"
  },
  "language_info": {
   "codemirror_mode": {
    "name": "ipython",
    "version": 3
   },
   "file_extension": ".py",
   "mimetype": "text/x-python",
   "name": "python",
   "nbconvert_exporter": "python",
   "pygments_lexer": "ipython3",
   "version": "3.8.5"
  }
 },
 "nbformat": 4,
 "nbformat_minor": 4
}
