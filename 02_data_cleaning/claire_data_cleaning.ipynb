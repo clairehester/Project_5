{
 "cells": [
  {
   "cell_type": "code",
   "execution_count": 3,
   "metadata": {},
   "outputs": [],
   "source": [
    "# import libraries\n",
    "import pandas as pd\n",
    "import numpy as np\n",
    "\n",
    "from uszipcode import Zipcode, SearchEngine\n",
    "\n",
    "import warnings\n",
    "warnings.filterwarnings(\"ignore\")"
   ]
  },
  {
   "cell_type": "markdown",
   "metadata": {},
   "source": [
    "### Import major incidents files\n",
    "\n",
    "These are separated into Northern and Southern California Area Coordination Centers. Each report had to be downloaded separately by year. I will pull them all into individual variables which can then be concatenated together to create one inclusive incident report dataframe.\n",
    "\n",
    "This data includes all major wildfire incidents, defined as larger than 100 acres."
   ]
  },
  {
   "cell_type": "code",
   "execution_count": 4,
   "metadata": {},
   "outputs": [],
   "source": [
    "fire_df_nc_19 = pd.read_excel('../claire_data/Significant Incident Summary Spreadsheet by GACC norcal 2019.xlsx')\n",
    "fire_df_nc_18 = pd.read_excel('../claire_data/Significant Incident Summary Spreadsheet by GACC norcal 2018.xlsx')\n",
    "fire_df_nc_17 = pd.read_excel('../claire_data/Significant Incident Summary Spreadsheet by GACC norcal 2017.xlsx')\n",
    "fire_df_nc_16 = pd.read_excel('../claire_data/Significant Incident Summary Spreadsheet by GACC norcal 2016.xlsx')\n",
    "fire_df_nc_15 = pd.read_excel('../claire_data/Significant Incident Summary Spreadsheet by GACC norcal 2015.xlsx')\n",
    "fire_df_nc_14 = pd.read_excel('../claire_data/Significant Incident Summary Spreadsheet by GACC norcal 2014.xlsx')\n",
    "\n",
    "fire_df_sc_19 = pd.read_excel('../claire_data/Significant Incident Summary Spreadsheet by GACC socal 2019.xlsx')\n",
    "fire_df_sc_18 = pd.read_excel('../claire_data/Significant Incident Summary Spreadsheet by GACC socal 2018.xlsx')\n",
    "fire_df_sc_17 = pd.read_excel('../claire_data/Significant Incident Summary Spreadsheet by GACC socal 2017.xlsx')\n",
    "fire_df_sc_16 = pd.read_excel('../claire_data/Significant Incident Summary Spreadsheet by GACC socal 2016.xlsx')\n",
    "fire_df_sc_15 = pd.read_excel('../claire_data/Significant Incident Summary Spreadsheet by GACC socal 2015.xlsx')\n",
    "fire_df_sc_14 = pd.read_excel('../claire_data/Significant Incident Summary Spreadsheet by GACC socal 2014.xlsx')"
   ]
  },
  {
   "cell_type": "code",
   "execution_count": 5,
   "metadata": {},
   "outputs": [],
   "source": [
    "fires_df = pd.concat([fire_df_nc_14, fire_df_sc_14, \n",
    "                      fire_df_nc_15, fire_df_sc_15,\n",
    "                      fire_df_nc_16, fire_df_sc_16,\n",
    "                      fire_df_nc_17, fire_df_sc_17,\n",
    "                      fire_df_nc_18, fire_df_sc_18, \n",
    "                      fire_df_nc_19, fire_df_sc_19]).reset_index(drop=True)"
   ]
  },
  {
   "cell_type": "code",
   "execution_count": 6,
   "metadata": {},
   "outputs": [
    {
     "data": {
      "text/html": [
       "<div>\n",
       "<style scoped>\n",
       "    .dataframe tbody tr th:only-of-type {\n",
       "        vertical-align: middle;\n",
       "    }\n",
       "\n",
       "    .dataframe tbody tr th {\n",
       "        vertical-align: top;\n",
       "    }\n",
       "\n",
       "    .dataframe thead th {\n",
       "        text-align: right;\n",
       "    }\n",
       "</style>\n",
       "<table border=\"1\" class=\"dataframe\">\n",
       "  <thead>\n",
       "    <tr style=\"text-align: right;\">\n",
       "      <th></th>\n",
       "      <th>State-Unit</th>\n",
       "      <th>Incident Number</th>\n",
       "      <th>Incident Name</th>\n",
       "      <th>Incident Type</th>\n",
       "      <th>Start Date</th>\n",
       "      <th>IC Name</th>\n",
       "      <th>Team Type</th>\n",
       "      <th>Latitude</th>\n",
       "      <th>Longitude</th>\n",
       "      <th>Size</th>\n",
       "      <th>Unit of Measure</th>\n",
       "      <th>Costs</th>\n",
       "      <th>Anticipated Containment / Completion Date</th>\n",
       "      <th>Structures Destroyed</th>\n",
       "    </tr>\n",
       "  </thead>\n",
       "  <tbody>\n",
       "    <tr>\n",
       "      <th>0</th>\n",
       "      <td>CA-LNU</td>\n",
       "      <td>CA-LNU-0005333</td>\n",
       "      <td>BUTTS</td>\n",
       "      <td>WF</td>\n",
       "      <td>07/01/2014 1405 CT</td>\n",
       "      <td>DC, SCOTT UPTON, LNU-CALFIRE</td>\n",
       "      <td>Type 3 IC</td>\n",
       "      <td>39</td>\n",
       "      <td>123</td>\n",
       "      <td>3200.0</td>\n",
       "      <td>Acres</td>\n",
       "      <td>6500000.0</td>\n",
       "      <td>NaN</td>\n",
       "      <td>5</td>\n",
       "    </tr>\n",
       "    <tr>\n",
       "      <th>1</th>\n",
       "      <td>CA-AEU</td>\n",
       "      <td>CA-AEU-018237</td>\n",
       "      <td>SAND</td>\n",
       "      <td>WF</td>\n",
       "      <td>07/25/2014 1834 CT</td>\n",
       "      <td>BC Mike Olivarria, AEU</td>\n",
       "      <td>Type 3 IC</td>\n",
       "      <td>39</td>\n",
       "      <td>121</td>\n",
       "      <td>4240.0</td>\n",
       "      <td>Acres</td>\n",
       "      <td>875500.0</td>\n",
       "      <td>08/02/2014 1400</td>\n",
       "      <td>67</td>\n",
       "    </tr>\n",
       "  </tbody>\n",
       "</table>\n",
       "</div>"
      ],
      "text/plain": [
       "  State-Unit Incident Number Incident Name Incident Type          Start Date  \\\n",
       "0     CA-LNU  CA-LNU-0005333         BUTTS            WF  07/01/2014 1405 CT   \n",
       "1     CA-AEU   CA-AEU-018237          SAND            WF  07/25/2014 1834 CT   \n",
       "\n",
       "                        IC Name  Team Type  Latitude  Longitude    Size  \\\n",
       "0  DC, SCOTT UPTON, LNU-CALFIRE  Type 3 IC        39        123  3200.0   \n",
       "1        BC Mike Olivarria, AEU  Type 3 IC        39        121  4240.0   \n",
       "\n",
       "  Unit of Measure      Costs Anticipated Containment / Completion Date  \\\n",
       "0           Acres  6500000.0                                       NaN   \n",
       "1           Acres   875500.0                           08/02/2014 1400   \n",
       "\n",
       "   Structures Destroyed  \n",
       "0                     5  \n",
       "1                    67  "
      ]
     },
     "execution_count": 6,
     "metadata": {},
     "output_type": "execute_result"
    }
   ],
   "source": [
    "fires_df.head(2)"
   ]
  },
  {
   "cell_type": "code",
   "execution_count": 7,
   "metadata": {},
   "outputs": [
    {
     "name": "stdout",
     "output_type": "stream",
     "text": [
      "<class 'pandas.core.frame.DataFrame'>\n",
      "RangeIndex: 588 entries, 0 to 587\n",
      "Data columns (total 14 columns):\n",
      " #   Column                                     Non-Null Count  Dtype  \n",
      "---  ------                                     --------------  -----  \n",
      " 0   State-Unit                                 588 non-null    object \n",
      " 1   Incident Number                            588 non-null    object \n",
      " 2   Incident Name                              588 non-null    object \n",
      " 3   Incident Type                              588 non-null    object \n",
      " 4   Start Date                                 588 non-null    object \n",
      " 5   IC Name                                    587 non-null    object \n",
      " 6   Team Type                                  559 non-null    object \n",
      " 7   Latitude                                   588 non-null    int64  \n",
      " 8   Longitude                                  588 non-null    int64  \n",
      " 9   Size                                       588 non-null    float64\n",
      " 10  Unit of Measure                            588 non-null    object \n",
      " 11  Costs                                      587 non-null    float64\n",
      " 12  Anticipated Containment / Completion Date  558 non-null    object \n",
      " 13  Structures Destroyed                       588 non-null    int64  \n",
      "dtypes: float64(2), int64(3), object(9)\n",
      "memory usage: 64.4+ KB\n"
     ]
    }
   ],
   "source": [
    "fires_df.info()"
   ]
  },
  {
   "cell_type": "markdown",
   "metadata": {},
   "source": [
    "### Data Cleaning\n",
    "\n",
    "There are several features to be updated here. A few of them are:\n",
    "- Making all incident names uppercase to match the shapefile data\n",
    "- Year: extract year from start date\n",
    "- Costs: remove all fires that don't have an associated cost\n",
    "- Incident Type: remove all incidents that are not classified as wildfires\n",
    "- State: remove all fires outside of CA (a few fires in HI are under Southern CA's jurisdiction)\n",
    "- County: use 'uszipcode' library to extract county using latitude and longitude measures"
   ]
  },
  {
   "cell_type": "code",
   "execution_count": 8,
   "metadata": {},
   "outputs": [],
   "source": [
    "fires_df['Fire Name'] = fires_df['Incident Name'].str.upper()"
   ]
  },
  {
   "cell_type": "code",
   "execution_count": 9,
   "metadata": {},
   "outputs": [],
   "source": [
    "fires_df['start_date'] = pd.to_datetime(fires_df['Start Date'], utc=True).dt.date"
   ]
  },
  {
   "cell_type": "code",
   "execution_count": 10,
   "metadata": {},
   "outputs": [],
   "source": [
    "fires_df['year'] = pd.to_datetime(fires_df['Start Date'], utc=True).dt.year"
   ]
  },
  {
   "cell_type": "code",
   "execution_count": 11,
   "metadata": {},
   "outputs": [
    {
     "data": {
      "text/html": [
       "<div>\n",
       "<style scoped>\n",
       "    .dataframe tbody tr th:only-of-type {\n",
       "        vertical-align: middle;\n",
       "    }\n",
       "\n",
       "    .dataframe tbody tr th {\n",
       "        vertical-align: top;\n",
       "    }\n",
       "\n",
       "    .dataframe thead th {\n",
       "        text-align: right;\n",
       "    }\n",
       "</style>\n",
       "<table border=\"1\" class=\"dataframe\">\n",
       "  <thead>\n",
       "    <tr style=\"text-align: right;\">\n",
       "      <th></th>\n",
       "      <th>State-Unit</th>\n",
       "      <th>Incident Number</th>\n",
       "      <th>Incident Name</th>\n",
       "      <th>Incident Type</th>\n",
       "      <th>Start Date</th>\n",
       "      <th>IC Name</th>\n",
       "      <th>Team Type</th>\n",
       "      <th>Latitude</th>\n",
       "      <th>Longitude</th>\n",
       "      <th>Size</th>\n",
       "      <th>Unit of Measure</th>\n",
       "      <th>Costs</th>\n",
       "      <th>Anticipated Containment / Completion Date</th>\n",
       "      <th>Structures Destroyed</th>\n",
       "      <th>Fire Name</th>\n",
       "      <th>start_date</th>\n",
       "      <th>year</th>\n",
       "    </tr>\n",
       "  </thead>\n",
       "  <tbody>\n",
       "    <tr>\n",
       "      <th>0</th>\n",
       "      <td>CA-LNU</td>\n",
       "      <td>CA-LNU-0005333</td>\n",
       "      <td>BUTTS</td>\n",
       "      <td>WF</td>\n",
       "      <td>07/01/2014 1405 CT</td>\n",
       "      <td>DC, SCOTT UPTON, LNU-CALFIRE</td>\n",
       "      <td>Type 3 IC</td>\n",
       "      <td>39</td>\n",
       "      <td>123</td>\n",
       "      <td>3200.0</td>\n",
       "      <td>Acres</td>\n",
       "      <td>6500000.0</td>\n",
       "      <td>NaN</td>\n",
       "      <td>5</td>\n",
       "      <td>BUTTS</td>\n",
       "      <td>2014-07-01</td>\n",
       "      <td>2014</td>\n",
       "    </tr>\n",
       "    <tr>\n",
       "      <th>1</th>\n",
       "      <td>CA-AEU</td>\n",
       "      <td>CA-AEU-018237</td>\n",
       "      <td>SAND</td>\n",
       "      <td>WF</td>\n",
       "      <td>07/25/2014 1834 CT</td>\n",
       "      <td>BC Mike Olivarria, AEU</td>\n",
       "      <td>Type 3 IC</td>\n",
       "      <td>39</td>\n",
       "      <td>121</td>\n",
       "      <td>4240.0</td>\n",
       "      <td>Acres</td>\n",
       "      <td>875500.0</td>\n",
       "      <td>08/02/2014 1400</td>\n",
       "      <td>67</td>\n",
       "      <td>SAND</td>\n",
       "      <td>2014-07-25</td>\n",
       "      <td>2014</td>\n",
       "    </tr>\n",
       "  </tbody>\n",
       "</table>\n",
       "</div>"
      ],
      "text/plain": [
       "  State-Unit Incident Number Incident Name Incident Type          Start Date  \\\n",
       "0     CA-LNU  CA-LNU-0005333         BUTTS            WF  07/01/2014 1405 CT   \n",
       "1     CA-AEU   CA-AEU-018237          SAND            WF  07/25/2014 1834 CT   \n",
       "\n",
       "                        IC Name  Team Type  Latitude  Longitude    Size  \\\n",
       "0  DC, SCOTT UPTON, LNU-CALFIRE  Type 3 IC        39        123  3200.0   \n",
       "1        BC Mike Olivarria, AEU  Type 3 IC        39        121  4240.0   \n",
       "\n",
       "  Unit of Measure      Costs Anticipated Containment / Completion Date  \\\n",
       "0           Acres  6500000.0                                       NaN   \n",
       "1           Acres   875500.0                           08/02/2014 1400   \n",
       "\n",
       "   Structures Destroyed Fire Name  start_date  year  \n",
       "0                     5     BUTTS  2014-07-01  2014  \n",
       "1                    67      SAND  2014-07-25  2014  "
      ]
     },
     "execution_count": 11,
     "metadata": {},
     "output_type": "execute_result"
    }
   ],
   "source": [
    "fires_df.head(2)"
   ]
  },
  {
   "cell_type": "code",
   "execution_count": 12,
   "metadata": {},
   "outputs": [],
   "source": [
    "fires_df.dropna(subset=['Costs'], axis=0, inplace=True)"
   ]
  },
  {
   "cell_type": "code",
   "execution_count": 13,
   "metadata": {},
   "outputs": [
    {
     "data": {
      "text/plain": [
       "WF    573\n",
       "CX      9\n",
       "OT      2\n",
       "LS      1\n",
       "WS      1\n",
       "FL      1\n",
       "Name: Incident Type, dtype: int64"
      ]
     },
     "execution_count": 13,
     "metadata": {},
     "output_type": "execute_result"
    }
   ],
   "source": [
    "fires_df['Incident Type'].value_counts()"
   ]
  },
  {
   "cell_type": "code",
   "execution_count": 14,
   "metadata": {},
   "outputs": [],
   "source": [
    "# Drop all non-wildfire incidents\n",
    "fires_df = fires_df[fires_df['Incident Type'] == 'WF']"
   ]
  },
  {
   "cell_type": "code",
   "execution_count": 15,
   "metadata": {},
   "outputs": [
    {
     "data": {
      "text/plain": [
       "array(['CA-LNU', 'CA-AEU', 'CA-NEU', 'CA-NOD', 'CA-ENF', 'CA-SHU',\n",
       "       'CA-SKU', 'CA-MDF', 'CA-KNF', 'CA-HIA', 'CA-LMU', 'CA-BTU',\n",
       "       'CA-LNF', 'CA-SWR', 'CA-SHF', 'CA-MEU', 'CA-MCP', 'CA-ANF',\n",
       "       'CA-TCU', 'CA-BDF', 'CA-INF', 'CA-STF', 'CA-BDU', 'CA-FKU',\n",
       "       'CA-CND', 'CA-MMU', 'CA-YNP', 'CA-MVU', 'CA-LAC', 'CA-FHL',\n",
       "       'CA-CBD', 'CA-CNF', 'CA-SQF', 'CA-SNF', 'CA-RRU', 'CA-SBC',\n",
       "       'CA-BEU', 'CA--BRR', 'CA-SRF', 'CA-PNF', 'CA-HUU', 'HI-CNTY',\n",
       "       'CA-SCU', 'HI-JCR', 'CA-VNC', 'CA-KRN', 'CA-OVD', 'CA-LPF',\n",
       "       'CA-ORC', 'CA-SLU', 'CA-TUU', 'CA-KNP', 'CA-TGU', 'CA-AFV',\n",
       "       'CA-MNF', 'CA-CZU', 'HI-DFW', 'CA-MRN', 'CA-TNF', 'CA-LFD',\n",
       "       'HI-HVP', 'CA-WNP', 'CA-CNP', 'CA-CDD'], dtype=object)"
      ]
     },
     "execution_count": 15,
     "metadata": {},
     "output_type": "execute_result"
    }
   ],
   "source": [
    "fires_df['State-Unit'].unique()"
   ]
  },
  {
   "cell_type": "code",
   "execution_count": 16,
   "metadata": {},
   "outputs": [],
   "source": [
    "fires_df = fires_df[fires_df['State-Unit'].str.startswith('CA')]"
   ]
  },
  {
   "cell_type": "code",
   "execution_count": 17,
   "metadata": {},
   "outputs": [],
   "source": [
    "fires_df.reset_index(drop=True, inplace=True)"
   ]
  },
  {
   "cell_type": "code",
   "execution_count": 18,
   "metadata": {},
   "outputs": [],
   "source": [
    "# Code adapted from Emiko Sano\n",
    "\n",
    "def county_name(lat, long, radius=100):\n",
    "    '''Takes in latitude and longitude (as an iterable) and returns the closest county name for the given coordinates'''\n",
    "    lat, long = lat, long * -1\n",
    "    search = SearchEngine()\n",
    "    result = search.by_coordinates(lat, long)\n",
    "    # get the county name\n",
    "    try:\n",
    "        county = result[0].county\n",
    "        # this is in 'XXXX County', so fix the format so that it's only the county name without 'County' at the end\n",
    "        county = county.split()\n",
    "        # get everything but the last item (which is 'County')\n",
    "        county = county[:-1]\n",
    "        # return a string\n",
    "        return ' '.join(county)\n",
    "    except:\n",
    "        print(f'Something went wrong. Check your coordinates: {lat, long}') "
   ]
  },
  {
   "cell_type": "code",
   "execution_count": 19,
   "metadata": {},
   "outputs": [],
   "source": [
    "def county_column(df):\n",
    "    '''Applies the county_name function to latitude and longitude columns in order to create a new county column'''\n",
    "    county_list = []\n",
    "    for num in range(len(df)):\n",
    "        latitude, longitude = float(fires_df.iloc[num, 7]), float(fires_df.iloc[num, 8])\n",
    "        county_list.append(county_name(latitude, longitude))\n",
    "        \n",
    "    return county_list"
   ]
  },
  {
   "cell_type": "code",
   "execution_count": 20,
   "metadata": {},
   "outputs": [
    {
     "name": "stdout",
     "output_type": "stream",
     "text": [
      "Something went wrong. Check your coordinates: (33.0, -118.0)\n",
      "Something went wrong. Check your coordinates: (34.0, -125.0)\n",
      "Something went wrong. Check your coordinates: (33.0, -118.0)\n",
      "Something went wrong. Check your coordinates: (33.0, -118.0)\n"
     ]
    }
   ],
   "source": [
    "fires_df['county'] = county_column(fires_df)"
   ]
  },
  {
   "cell_type": "code",
   "execution_count": 21,
   "metadata": {},
   "outputs": [
    {
     "data": {
      "text/html": [
       "<div>\n",
       "<style scoped>\n",
       "    .dataframe tbody tr th:only-of-type {\n",
       "        vertical-align: middle;\n",
       "    }\n",
       "\n",
       "    .dataframe tbody tr th {\n",
       "        vertical-align: top;\n",
       "    }\n",
       "\n",
       "    .dataframe thead th {\n",
       "        text-align: right;\n",
       "    }\n",
       "</style>\n",
       "<table border=\"1\" class=\"dataframe\">\n",
       "  <thead>\n",
       "    <tr style=\"text-align: right;\">\n",
       "      <th></th>\n",
       "      <th>State-Unit</th>\n",
       "      <th>Incident Number</th>\n",
       "      <th>Incident Name</th>\n",
       "      <th>Incident Type</th>\n",
       "      <th>Start Date</th>\n",
       "      <th>IC Name</th>\n",
       "      <th>Team Type</th>\n",
       "      <th>Latitude</th>\n",
       "      <th>Longitude</th>\n",
       "      <th>Size</th>\n",
       "      <th>Unit of Measure</th>\n",
       "      <th>Costs</th>\n",
       "      <th>Anticipated Containment / Completion Date</th>\n",
       "      <th>Structures Destroyed</th>\n",
       "      <th>Fire Name</th>\n",
       "      <th>start_date</th>\n",
       "      <th>year</th>\n",
       "      <th>county</th>\n",
       "    </tr>\n",
       "  </thead>\n",
       "  <tbody>\n",
       "    <tr>\n",
       "      <th>45</th>\n",
       "      <td>CA-MCP</td>\n",
       "      <td>CA-MCP-001359</td>\n",
       "      <td>Combat</td>\n",
       "      <td>WF</td>\n",
       "      <td>05/16/2014 1115 CT</td>\n",
       "      <td>None Assigned</td>\n",
       "      <td>NaN</td>\n",
       "      <td>33</td>\n",
       "      <td>118</td>\n",
       "      <td>300.0</td>\n",
       "      <td>Acres</td>\n",
       "      <td>10000.0</td>\n",
       "      <td>NaN</td>\n",
       "      <td>0</td>\n",
       "      <td>COMBAT</td>\n",
       "      <td>2014-05-16</td>\n",
       "      <td>2014</td>\n",
       "      <td>None</td>\n",
       "    </tr>\n",
       "    <tr>\n",
       "      <th>61</th>\n",
       "      <td>CA-ANF</td>\n",
       "      <td>CA-ANF-003975</td>\n",
       "      <td>Shoemaker</td>\n",
       "      <td>WF</td>\n",
       "      <td>08/14/2014 2348 CT</td>\n",
       "      <td>A. LEYVA</td>\n",
       "      <td>Type 3 IC</td>\n",
       "      <td>34</td>\n",
       "      <td>125</td>\n",
       "      <td>190.0</td>\n",
       "      <td>Acres</td>\n",
       "      <td>700000.0</td>\n",
       "      <td>NaN</td>\n",
       "      <td>0</td>\n",
       "      <td>SHOEMAKER</td>\n",
       "      <td>2014-08-14</td>\n",
       "      <td>2014</td>\n",
       "      <td>None</td>\n",
       "    </tr>\n",
       "    <tr>\n",
       "      <th>136</th>\n",
       "      <td>CA-MCP</td>\n",
       "      <td>CA-MCP-001207</td>\n",
       "      <td>CARL</td>\n",
       "      <td>WF</td>\n",
       "      <td>04/28/2015 1415 PDT</td>\n",
       "      <td>MCP</td>\n",
       "      <td>NaN</td>\n",
       "      <td>33</td>\n",
       "      <td>118</td>\n",
       "      <td>4000.0</td>\n",
       "      <td>Acres</td>\n",
       "      <td>1000.0</td>\n",
       "      <td>NaN</td>\n",
       "      <td>0</td>\n",
       "      <td>CARL</td>\n",
       "      <td>2015-04-28</td>\n",
       "      <td>2015</td>\n",
       "      <td>None</td>\n",
       "    </tr>\n",
       "    <tr>\n",
       "      <th>328</th>\n",
       "      <td>CA-MCP</td>\n",
       "      <td>CA-MCP-17-2047</td>\n",
       "      <td>Cristianitos</td>\n",
       "      <td>WF</td>\n",
       "      <td>06/28/2017 1630 PDT</td>\n",
       "      <td>John Crook MCP\\nKen Cruz ORC</td>\n",
       "      <td>Type 3 IC</td>\n",
       "      <td>33</td>\n",
       "      <td>118</td>\n",
       "      <td>761.0</td>\n",
       "      <td>Acres</td>\n",
       "      <td>500000.0</td>\n",
       "      <td>07/01/2017 1200</td>\n",
       "      <td>0</td>\n",
       "      <td>CRISTIANITOS</td>\n",
       "      <td>2017-06-28</td>\n",
       "      <td>2017</td>\n",
       "      <td>None</td>\n",
       "    </tr>\n",
       "  </tbody>\n",
       "</table>\n",
       "</div>"
      ],
      "text/plain": [
       "    State-Unit Incident Number Incident Name Incident Type  \\\n",
       "45      CA-MCP   CA-MCP-001359        Combat            WF   \n",
       "61      CA-ANF   CA-ANF-003975     Shoemaker            WF   \n",
       "136     CA-MCP   CA-MCP-001207          CARL            WF   \n",
       "328     CA-MCP  CA-MCP-17-2047  Cristianitos            WF   \n",
       "\n",
       "              Start Date                       IC Name  Team Type  Latitude  \\\n",
       "45    05/16/2014 1115 CT                 None Assigned        NaN        33   \n",
       "61    08/14/2014 2348 CT                      A. LEYVA  Type 3 IC        34   \n",
       "136  04/28/2015 1415 PDT                           MCP        NaN        33   \n",
       "328  06/28/2017 1630 PDT  John Crook MCP\\nKen Cruz ORC  Type 3 IC        33   \n",
       "\n",
       "     Longitude    Size Unit of Measure     Costs  \\\n",
       "45         118   300.0           Acres   10000.0   \n",
       "61         125   190.0           Acres  700000.0   \n",
       "136        118  4000.0           Acres    1000.0   \n",
       "328        118   761.0           Acres  500000.0   \n",
       "\n",
       "    Anticipated Containment / Completion Date  Structures Destroyed  \\\n",
       "45                                        NaN                     0   \n",
       "61                                        NaN                     0   \n",
       "136                                       NaN                     0   \n",
       "328                           07/01/2017 1200                     0   \n",
       "\n",
       "        Fire Name  start_date  year county  \n",
       "45         COMBAT  2014-05-16  2014   None  \n",
       "61      SHOEMAKER  2014-08-14  2014   None  \n",
       "136          CARL  2015-04-28  2015   None  \n",
       "328  CRISTIANITOS  2017-06-28  2017   None  "
      ]
     },
     "execution_count": 21,
     "metadata": {},
     "output_type": "execute_result"
    }
   ],
   "source": [
    "fires_df[fires_df['county'].isna()]"
   ]
  },
  {
   "cell_type": "code",
   "execution_count": 22,
   "metadata": {},
   "outputs": [],
   "source": [
    "# Manually correcting counties that had NaN values\n",
    "fires_df.loc[45, 'county'] = 'San Diego'\n",
    "fires_df.loc[61, 'county'] = 'Los Angeles'\n",
    "fires_df.loc[136, 'county'] = 'San Diego'\n",
    "fires_df.loc[328, 'county'] = 'San Diego'"
   ]
  },
  {
   "cell_type": "code",
   "execution_count": 23,
   "metadata": {},
   "outputs": [
    {
     "data": {
      "text/html": [
       "<div>\n",
       "<style scoped>\n",
       "    .dataframe tbody tr th:only-of-type {\n",
       "        vertical-align: middle;\n",
       "    }\n",
       "\n",
       "    .dataframe tbody tr th {\n",
       "        vertical-align: top;\n",
       "    }\n",
       "\n",
       "    .dataframe thead th {\n",
       "        text-align: right;\n",
       "    }\n",
       "</style>\n",
       "<table border=\"1\" class=\"dataframe\">\n",
       "  <thead>\n",
       "    <tr style=\"text-align: right;\">\n",
       "      <th></th>\n",
       "      <th>Incident Number</th>\n",
       "      <th>Incident Name</th>\n",
       "      <th>Incident Type</th>\n",
       "      <th>Latitude</th>\n",
       "      <th>Longitude</th>\n",
       "      <th>Size</th>\n",
       "      <th>Unit of Measure</th>\n",
       "      <th>Costs</th>\n",
       "      <th>Structures Destroyed</th>\n",
       "      <th>Fire Name</th>\n",
       "      <th>start_date</th>\n",
       "      <th>year</th>\n",
       "      <th>county</th>\n",
       "    </tr>\n",
       "  </thead>\n",
       "  <tbody>\n",
       "    <tr>\n",
       "      <th>0</th>\n",
       "      <td>CA-LNU-0005333</td>\n",
       "      <td>BUTTS</td>\n",
       "      <td>WF</td>\n",
       "      <td>39</td>\n",
       "      <td>123</td>\n",
       "      <td>3200.0</td>\n",
       "      <td>Acres</td>\n",
       "      <td>6500000.0</td>\n",
       "      <td>5</td>\n",
       "      <td>BUTTS</td>\n",
       "      <td>2014-07-01</td>\n",
       "      <td>2014</td>\n",
       "      <td>Lake</td>\n",
       "    </tr>\n",
       "    <tr>\n",
       "      <th>1</th>\n",
       "      <td>CA-AEU-018237</td>\n",
       "      <td>SAND</td>\n",
       "      <td>WF</td>\n",
       "      <td>39</td>\n",
       "      <td>121</td>\n",
       "      <td>4240.0</td>\n",
       "      <td>Acres</td>\n",
       "      <td>875500.0</td>\n",
       "      <td>67</td>\n",
       "      <td>SAND</td>\n",
       "      <td>2014-07-25</td>\n",
       "      <td>2014</td>\n",
       "      <td>Placer</td>\n",
       "    </tr>\n",
       "  </tbody>\n",
       "</table>\n",
       "</div>"
      ],
      "text/plain": [
       "  Incident Number Incident Name Incident Type  Latitude  Longitude    Size  \\\n",
       "0  CA-LNU-0005333         BUTTS            WF        39        123  3200.0   \n",
       "1   CA-AEU-018237          SAND            WF        39        121  4240.0   \n",
       "\n",
       "  Unit of Measure      Costs  Structures Destroyed Fire Name  start_date  \\\n",
       "0           Acres  6500000.0                     5     BUTTS  2014-07-01   \n",
       "1           Acres   875500.0                    67      SAND  2014-07-25   \n",
       "\n",
       "   year  county  \n",
       "0  2014    Lake  \n",
       "1  2014  Placer  "
      ]
     },
     "execution_count": 23,
     "metadata": {},
     "output_type": "execute_result"
    }
   ],
   "source": [
    "fires_df_clean = fires_df.drop(columns = ['State-Unit', 'Start Date', \n",
    "                               'IC Name', 'Team Type', 'Anticipated Containment / Completion Date'])\n",
    "fires_df_clean.head(2)"
   ]
  },
  {
   "cell_type": "code",
   "execution_count": 24,
   "metadata": {},
   "outputs": [
    {
     "name": "stdout",
     "output_type": "stream",
     "text": [
      "<class 'pandas.core.frame.DataFrame'>\n",
      "RangeIndex: 559 entries, 0 to 558\n",
      "Data columns (total 13 columns):\n",
      " #   Column                Non-Null Count  Dtype  \n",
      "---  ------                --------------  -----  \n",
      " 0   Incident Number       559 non-null    object \n",
      " 1   Incident Name         559 non-null    object \n",
      " 2   Incident Type         559 non-null    object \n",
      " 3   Latitude              559 non-null    int64  \n",
      " 4   Longitude             559 non-null    int64  \n",
      " 5   Size                  559 non-null    float64\n",
      " 6   Unit of Measure       559 non-null    object \n",
      " 7   Costs                 559 non-null    float64\n",
      " 8   Structures Destroyed  559 non-null    int64  \n",
      " 9   Fire Name             559 non-null    object \n",
      " 10  start_date            559 non-null    object \n",
      " 11  year                  559 non-null    int64  \n",
      " 12  county                559 non-null    object \n",
      "dtypes: float64(2), int64(4), object(7)\n",
      "memory usage: 56.9+ KB\n"
     ]
    }
   ],
   "source": [
    "fires_df_clean.info()"
   ]
  },
  {
   "cell_type": "code",
   "execution_count": 25,
   "metadata": {},
   "outputs": [
    {
     "data": {
      "text/html": [
       "<div>\n",
       "<style scoped>\n",
       "    .dataframe tbody tr th:only-of-type {\n",
       "        vertical-align: middle;\n",
       "    }\n",
       "\n",
       "    .dataframe tbody tr th {\n",
       "        vertical-align: top;\n",
       "    }\n",
       "\n",
       "    .dataframe thead th {\n",
       "        text-align: right;\n",
       "    }\n",
       "</style>\n",
       "<table border=\"1\" class=\"dataframe\">\n",
       "  <thead>\n",
       "    <tr style=\"text-align: right;\">\n",
       "      <th></th>\n",
       "      <th>Latitude</th>\n",
       "      <th>Longitude</th>\n",
       "      <th>Size</th>\n",
       "      <th>Costs</th>\n",
       "      <th>Structures Destroyed</th>\n",
       "      <th>year</th>\n",
       "    </tr>\n",
       "  </thead>\n",
       "  <tbody>\n",
       "    <tr>\n",
       "      <th>count</th>\n",
       "      <td>559.000000</td>\n",
       "      <td>559.000000</td>\n",
       "      <td>559.000000</td>\n",
       "      <td>5.590000e+02</td>\n",
       "      <td>559.000000</td>\n",
       "      <td>559.000000</td>\n",
       "    </tr>\n",
       "    <tr>\n",
       "      <th>mean</th>\n",
       "      <td>37.402504</td>\n",
       "      <td>120.245081</td>\n",
       "      <td>9640.852594</td>\n",
       "      <td>9.073276e+06</td>\n",
       "      <td>73.733453</td>\n",
       "      <td>2016.515206</td>\n",
       "    </tr>\n",
       "    <tr>\n",
       "      <th>std</th>\n",
       "      <td>2.727280</td>\n",
       "      <td>2.023794</td>\n",
       "      <td>31933.767732</td>\n",
       "      <td>2.518517e+07</td>\n",
       "      <td>861.440021</td>\n",
       "      <td>1.612908</td>\n",
       "    </tr>\n",
       "    <tr>\n",
       "      <th>min</th>\n",
       "      <td>33.000000</td>\n",
       "      <td>116.000000</td>\n",
       "      <td>1.000000</td>\n",
       "      <td>0.000000e+00</td>\n",
       "      <td>0.000000</td>\n",
       "      <td>2014.000000</td>\n",
       "    </tr>\n",
       "    <tr>\n",
       "      <th>25%</th>\n",
       "      <td>35.000000</td>\n",
       "      <td>119.000000</td>\n",
       "      <td>319.500000</td>\n",
       "      <td>3.500000e+05</td>\n",
       "      <td>0.000000</td>\n",
       "      <td>2015.000000</td>\n",
       "    </tr>\n",
       "    <tr>\n",
       "      <th>50%</th>\n",
       "      <td>37.000000</td>\n",
       "      <td>120.000000</td>\n",
       "      <td>1021.000000</td>\n",
       "      <td>1.500000e+06</td>\n",
       "      <td>0.000000</td>\n",
       "      <td>2017.000000</td>\n",
       "    </tr>\n",
       "    <tr>\n",
       "      <th>75%</th>\n",
       "      <td>40.000000</td>\n",
       "      <td>122.000000</td>\n",
       "      <td>4305.000000</td>\n",
       "      <td>6.456838e+06</td>\n",
       "      <td>2.000000</td>\n",
       "      <td>2018.000000</td>\n",
       "    </tr>\n",
       "    <tr>\n",
       "      <th>max</th>\n",
       "      <td>42.000000</td>\n",
       "      <td>125.000000</td>\n",
       "      <td>410203.000000</td>\n",
       "      <td>2.625000e+08</td>\n",
       "      <td>18804.000000</td>\n",
       "      <td>2019.000000</td>\n",
       "    </tr>\n",
       "  </tbody>\n",
       "</table>\n",
       "</div>"
      ],
      "text/plain": [
       "         Latitude   Longitude           Size         Costs  \\\n",
       "count  559.000000  559.000000     559.000000  5.590000e+02   \n",
       "mean    37.402504  120.245081    9640.852594  9.073276e+06   \n",
       "std      2.727280    2.023794   31933.767732  2.518517e+07   \n",
       "min     33.000000  116.000000       1.000000  0.000000e+00   \n",
       "25%     35.000000  119.000000     319.500000  3.500000e+05   \n",
       "50%     37.000000  120.000000    1021.000000  1.500000e+06   \n",
       "75%     40.000000  122.000000    4305.000000  6.456838e+06   \n",
       "max     42.000000  125.000000  410203.000000  2.625000e+08   \n",
       "\n",
       "       Structures Destroyed         year  \n",
       "count            559.000000   559.000000  \n",
       "mean              73.733453  2016.515206  \n",
       "std              861.440021     1.612908  \n",
       "min                0.000000  2014.000000  \n",
       "25%                0.000000  2015.000000  \n",
       "50%                0.000000  2017.000000  \n",
       "75%                2.000000  2018.000000  \n",
       "max            18804.000000  2019.000000  "
      ]
     },
     "execution_count": 25,
     "metadata": {},
     "output_type": "execute_result"
    }
   ],
   "source": [
    "fires_df_clean.describe()"
   ]
  },
  {
   "cell_type": "code",
   "execution_count": 26,
   "metadata": {},
   "outputs": [],
   "source": [
    "fires_df_clean = fires_df_clean[(fires_df_clean['Size'] > 100) & (fires_df_clean['Costs'] > 0)]"
   ]
  },
  {
   "cell_type": "code",
   "execution_count": 96,
   "metadata": {},
   "outputs": [],
   "source": [
    "fires_df_clean['cost_per_acre'] = fires_df_clean['Costs'] / fires_df_clean['Size']"
   ]
  },
  {
   "cell_type": "code",
   "execution_count": 97,
   "metadata": {},
   "outputs": [],
   "source": [
    "fires_df_clean['structures_per_acre'] = fires_df_clean['Structures Destroyed'] / fires_df_clean['Size']"
   ]
  },
  {
   "cell_type": "code",
   "execution_count": 98,
   "metadata": {},
   "outputs": [],
   "source": [
    "fires_df_clean.to_csv('../claire_data/fires_compiled.csv', index=False)"
   ]
  },
  {
   "cell_type": "markdown",
   "metadata": {},
   "source": [
    "### Acres Burned Over Time\n",
    "\n",
    "This will be used for time series forecasting, and so the only 2 measures that are important to us are Year and Acres burned."
   ]
  },
  {
   "cell_type": "code",
   "execution_count": 72,
   "metadata": {},
   "outputs": [],
   "source": [
    "acres_df = pd.read_csv('../claire_data/California_Fire_Perimeters.csv')"
   ]
  },
  {
   "cell_type": "code",
   "execution_count": 73,
   "metadata": {},
   "outputs": [
    {
     "name": "stdout",
     "output_type": "stream",
     "text": [
      "<class 'pandas.core.frame.DataFrame'>\n",
      "RangeIndex: 12202 entries, 0 to 12201\n",
      "Data columns (total 19 columns):\n",
      " #   Column        Non-Null Count  Dtype  \n",
      "---  ------        --------------  -----  \n",
      " 0   OBJECTID      12202 non-null  int64  \n",
      " 1   YEAR_         12140 non-null  float64\n",
      " 2   STATE         12148 non-null  object \n",
      " 3   AGENCY        12202 non-null  object \n",
      " 4   UNIT_ID       12199 non-null  object \n",
      " 5   FIRE_NAME     12174 non-null  object \n",
      " 6   INC_NUM       11720 non-null  object \n",
      " 7   ALARM_DATE    8214 non-null   object \n",
      " 8   CONT_DATE     3375 non-null   object \n",
      " 9   CAUSE         12190 non-null  float64\n",
      " 10  COMMENTS      1886 non-null   object \n",
      " 11  REPORT_AC     3836 non-null   float64\n",
      " 12  GIS_ACRES     12202 non-null  float64\n",
      " 13  C_METHOD      3759 non-null   float64\n",
      " 14  OBJECTIVE     12146 non-null  float64\n",
      " 15  FIRE_NUM      10952 non-null  object \n",
      " 16  GlobalID      12202 non-null  object \n",
      " 17  SHAPE_Length  12202 non-null  float64\n",
      " 18  SHAPE_Area    12202 non-null  float64\n",
      "dtypes: float64(8), int64(1), object(10)\n",
      "memory usage: 1.8+ MB\n"
     ]
    }
   ],
   "source": [
    "acres_df.info()"
   ]
  },
  {
   "cell_type": "code",
   "execution_count": 74,
   "metadata": {},
   "outputs": [],
   "source": [
    "acres_df.dropna(subset=['YEAR_'], inplace=True)"
   ]
  },
  {
   "cell_type": "code",
   "execution_count": 75,
   "metadata": {},
   "outputs": [],
   "source": [
    "acres_df = acres_df.sort_values(by='YEAR_')"
   ]
  },
  {
   "cell_type": "code",
   "execution_count": 76,
   "metadata": {},
   "outputs": [],
   "source": [
    "acres_df = acres_df[(acres_df['YEAR_'] >= 1950) & (acres_df['GIS_ACRES'] > 100)]"
   ]
  },
  {
   "cell_type": "code",
   "execution_count": 77,
   "metadata": {},
   "outputs": [],
   "source": [
    "acres_df = acres_df[['YEAR_', 'GIS_ACRES']]"
   ]
  },
  {
   "cell_type": "code",
   "execution_count": 78,
   "metadata": {},
   "outputs": [],
   "source": [
    "acres_df.columns = ['year', 'acres_burned']"
   ]
  },
  {
   "cell_type": "code",
   "execution_count": 81,
   "metadata": {},
   "outputs": [],
   "source": [
    "acres_df['year'] = acres_df['year'].astype('int64')"
   ]
  },
  {
   "cell_type": "code",
   "execution_count": 82,
   "metadata": {},
   "outputs": [
    {
     "name": "stdout",
     "output_type": "stream",
     "text": [
      "<class 'pandas.core.frame.DataFrame'>\n",
      "Int64Index: 8479 entries, 4941 to 12201\n",
      "Data columns (total 2 columns):\n",
      " #   Column        Non-Null Count  Dtype  \n",
      "---  ------        --------------  -----  \n",
      " 0   year          8479 non-null   int64  \n",
      " 1   acres_burned  8479 non-null   float64\n",
      "dtypes: float64(1), int64(1)\n",
      "memory usage: 198.7 KB\n"
     ]
    }
   ],
   "source": [
    "acres_df.info()"
   ]
  },
  {
   "cell_type": "code",
   "execution_count": 83,
   "metadata": {},
   "outputs": [],
   "source": [
    "acres_df = acres_df.groupby('year').sum()"
   ]
  },
  {
   "cell_type": "code",
   "execution_count": 84,
   "metadata": {},
   "outputs": [
    {
     "data": {
      "text/html": [
       "<div>\n",
       "<style scoped>\n",
       "    .dataframe tbody tr th:only-of-type {\n",
       "        vertical-align: middle;\n",
       "    }\n",
       "\n",
       "    .dataframe tbody tr th {\n",
       "        vertical-align: top;\n",
       "    }\n",
       "\n",
       "    .dataframe thead th {\n",
       "        text-align: right;\n",
       "    }\n",
       "</style>\n",
       "<table border=\"1\" class=\"dataframe\">\n",
       "  <thead>\n",
       "    <tr style=\"text-align: right;\">\n",
       "      <th></th>\n",
       "      <th>acres_burned</th>\n",
       "    </tr>\n",
       "    <tr>\n",
       "      <th>year</th>\n",
       "      <th></th>\n",
       "    </tr>\n",
       "  </thead>\n",
       "  <tbody>\n",
       "    <tr>\n",
       "      <th>1950</th>\n",
       "      <td>537538.72271</td>\n",
       "    </tr>\n",
       "    <tr>\n",
       "      <th>1951</th>\n",
       "      <td>305721.20676</td>\n",
       "    </tr>\n",
       "    <tr>\n",
       "      <th>1952</th>\n",
       "      <td>132370.47070</td>\n",
       "    </tr>\n",
       "    <tr>\n",
       "      <th>1953</th>\n",
       "      <td>333854.81594</td>\n",
       "    </tr>\n",
       "    <tr>\n",
       "      <th>1954</th>\n",
       "      <td>218733.99078</td>\n",
       "    </tr>\n",
       "  </tbody>\n",
       "</table>\n",
       "</div>"
      ],
      "text/plain": [
       "      acres_burned\n",
       "year              \n",
       "1950  537538.72271\n",
       "1951  305721.20676\n",
       "1952  132370.47070\n",
       "1953  333854.81594\n",
       "1954  218733.99078"
      ]
     },
     "execution_count": 84,
     "metadata": {},
     "output_type": "execute_result"
    }
   ],
   "source": [
    "acres_df.head()"
   ]
  },
  {
   "cell_type": "code",
   "execution_count": 93,
   "metadata": {},
   "outputs": [],
   "source": [
    "# Manually adding 2020, acre count here: https://www.fire.ca.gov/incidents/2020/\n",
    "acres_df = acres_df.append(pd.DataFrame({'acres_burned': 4149345}, index=[2020]))"
   ]
  },
  {
   "cell_type": "code",
   "execution_count": 95,
   "metadata": {},
   "outputs": [
    {
     "data": {
      "text/html": [
       "<div>\n",
       "<style scoped>\n",
       "    .dataframe tbody tr th:only-of-type {\n",
       "        vertical-align: middle;\n",
       "    }\n",
       "\n",
       "    .dataframe tbody tr th {\n",
       "        vertical-align: top;\n",
       "    }\n",
       "\n",
       "    .dataframe thead th {\n",
       "        text-align: right;\n",
       "    }\n",
       "</style>\n",
       "<table border=\"1\" class=\"dataframe\">\n",
       "  <thead>\n",
       "    <tr style=\"text-align: right;\">\n",
       "      <th></th>\n",
       "      <th>acres_burned</th>\n",
       "    </tr>\n",
       "  </thead>\n",
       "  <tbody>\n",
       "    <tr>\n",
       "      <th>1950</th>\n",
       "      <td>537538.72271</td>\n",
       "    </tr>\n",
       "    <tr>\n",
       "      <th>1951</th>\n",
       "      <td>305721.20676</td>\n",
       "    </tr>\n",
       "    <tr>\n",
       "      <th>1952</th>\n",
       "      <td>132370.47070</td>\n",
       "    </tr>\n",
       "    <tr>\n",
       "      <th>1953</th>\n",
       "      <td>333854.81594</td>\n",
       "    </tr>\n",
       "    <tr>\n",
       "      <th>1954</th>\n",
       "      <td>218733.99078</td>\n",
       "    </tr>\n",
       "  </tbody>\n",
       "</table>\n",
       "</div>"
      ],
      "text/plain": [
       "      acres_burned\n",
       "1950  537538.72271\n",
       "1951  305721.20676\n",
       "1952  132370.47070\n",
       "1953  333854.81594\n",
       "1954  218733.99078"
      ]
     },
     "execution_count": 95,
     "metadata": {},
     "output_type": "execute_result"
    }
   ],
   "source": [
    "acres_df.head()"
   ]
  },
  {
   "cell_type": "code",
   "execution_count": 94,
   "metadata": {},
   "outputs": [],
   "source": [
    "acres_df.to_csv('../claire_data/acres_clean.csv')"
   ]
  },
  {
   "cell_type": "code",
   "execution_count": null,
   "metadata": {},
   "outputs": [],
   "source": []
  }
 ],
 "metadata": {
  "kernelspec": {
   "display_name": "Python 3",
   "language": "python",
   "name": "python3"
  },
  "language_info": {
   "codemirror_mode": {
    "name": "ipython",
    "version": 3
   },
   "file_extension": ".py",
   "mimetype": "text/x-python",
   "name": "python",
   "nbconvert_exporter": "python",
   "pygments_lexer": "ipython3",
   "version": "3.8.3"
  }
 },
 "nbformat": 4,
 "nbformat_minor": 4
}
