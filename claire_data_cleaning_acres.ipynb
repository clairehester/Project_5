{
 "cells": [
  {
   "cell_type": "code",
   "execution_count": 21,
   "metadata": {},
   "outputs": [],
   "source": [
    "# import libraries\n",
    "import pandas as pd\n",
    "import numpy as np\n",
    "\n",
    "import matplotlib.pyplot as plt\n",
    "import seaborn as sns\n",
    "plt.style.use('ggplot')\n",
    "\n",
    "import warnings\n",
    "warnings.filterwarnings(\"ignore\")"
   ]
  },
  {
   "cell_type": "code",
   "execution_count": 3,
   "metadata": {},
   "outputs": [],
   "source": [
    "acres_df = pd.read_csv('./claire_data/California_Fire_Perimeters.csv')"
   ]
  },
  {
   "cell_type": "code",
   "execution_count": 4,
   "metadata": {},
   "outputs": [
    {
     "name": "stdout",
     "output_type": "stream",
     "text": [
      "<class 'pandas.core.frame.DataFrame'>\n",
      "RangeIndex: 12202 entries, 0 to 12201\n",
      "Data columns (total 19 columns):\n",
      " #   Column        Non-Null Count  Dtype  \n",
      "---  ------        --------------  -----  \n",
      " 0   OBJECTID      12202 non-null  int64  \n",
      " 1   YEAR_         12140 non-null  float64\n",
      " 2   STATE         12148 non-null  object \n",
      " 3   AGENCY        12202 non-null  object \n",
      " 4   UNIT_ID       12199 non-null  object \n",
      " 5   FIRE_NAME     12174 non-null  object \n",
      " 6   INC_NUM       11720 non-null  object \n",
      " 7   ALARM_DATE    8214 non-null   object \n",
      " 8   CONT_DATE     3375 non-null   object \n",
      " 9   CAUSE         12190 non-null  float64\n",
      " 10  COMMENTS      1886 non-null   object \n",
      " 11  REPORT_AC     3836 non-null   float64\n",
      " 12  GIS_ACRES     12202 non-null  float64\n",
      " 13  C_METHOD      3759 non-null   float64\n",
      " 14  OBJECTIVE     12146 non-null  float64\n",
      " 15  FIRE_NUM      10952 non-null  object \n",
      " 16  GlobalID      12202 non-null  object \n",
      " 17  SHAPE_Length  12202 non-null  float64\n",
      " 18  SHAPE_Area    12202 non-null  float64\n",
      "dtypes: float64(8), int64(1), object(10)\n",
      "memory usage: 1.8+ MB\n"
     ]
    }
   ],
   "source": [
    "acres_df.info()"
   ]
  },
  {
   "cell_type": "code",
   "execution_count": 9,
   "metadata": {},
   "outputs": [],
   "source": [
    "acres_df.dropna(subset=['YEAR_'], inplace=True)"
   ]
  },
  {
   "cell_type": "code",
   "execution_count": 16,
   "metadata": {},
   "outputs": [],
   "source": [
    "acres_df = acres_df[(acres_df['YEAR_'] > 1970) & (acres_df['GIS_ACRES'] > 100)]"
   ]
  },
  {
   "cell_type": "code",
   "execution_count": 17,
   "metadata": {},
   "outputs": [
    {
     "name": "stdout",
     "output_type": "stream",
     "text": [
      "<class 'pandas.core.frame.DataFrame'>\n",
      "Int64Index: 6086 entries, 0 to 12201\n",
      "Data columns (total 19 columns):\n",
      " #   Column        Non-Null Count  Dtype  \n",
      "---  ------        --------------  -----  \n",
      " 0   OBJECTID      6086 non-null   int64  \n",
      " 1   YEAR_         6086 non-null   float64\n",
      " 2   STATE         6032 non-null   object \n",
      " 3   AGENCY        6086 non-null   object \n",
      " 4   UNIT_ID       6083 non-null   object \n",
      " 5   FIRE_NAME     6068 non-null   object \n",
      " 6   INC_NUM       5924 non-null   object \n",
      " 7   ALARM_DATE    5526 non-null   object \n",
      " 8   CONT_DATE     3252 non-null   object \n",
      " 9   CAUSE         6074 non-null   float64\n",
      " 10  COMMENTS      1079 non-null   object \n",
      " 11  REPORT_AC     3207 non-null   float64\n",
      " 12  GIS_ACRES     6086 non-null   float64\n",
      " 13  C_METHOD      3351 non-null   float64\n",
      " 14  OBJECTIVE     6057 non-null   float64\n",
      " 15  FIRE_NUM      4930 non-null   object \n",
      " 16  GlobalID      6086 non-null   object \n",
      " 17  SHAPE_Length  6086 non-null   float64\n",
      " 18  SHAPE_Area    6086 non-null   float64\n",
      "dtypes: float64(8), int64(1), object(10)\n",
      "memory usage: 950.9+ KB\n"
     ]
    }
   ],
   "source": [
    "acres_df.info()"
   ]
  },
  {
   "cell_type": "code",
   "execution_count": 23,
   "metadata": {},
   "outputs": [
    {
     "data": {
      "image/png": "[encoded data removed]",
      "text/plain": [
       "<Figure size 1008x432 with 1 Axes>"
      ]
     },
     "metadata": {},
     "output_type": "display_data"
    }
   ],
   "source": [
    "plt.subplots(figsize=(14, 6))\n",
    "acres_df.groupby('YEAR_')['GIS_ACRES'].sum().plot(kind='bar');"
   ]
  },
  {
   "cell_type": "code",
   "execution_count": null,
   "metadata": {},
   "outputs": [],
   "source": []
  }
 ],
 "metadata": {
  "kernelspec": {
   "display_name": "Python 3",
   "language": "python",
   "name": "python3"
  },
  "language_info": {
   "codemirror_mode": {
    "name": "ipython",
    "version": 3
   },
   "file_extension": ".py",
   "mimetype": "text/x-python",
   "name": "python",
   "nbconvert_exporter": "python",
   "pygments_lexer": "ipython3",
   "version": "3.7.6"
  }
 },
 "nbformat": 4,
 "nbformat_minor": 4
}
