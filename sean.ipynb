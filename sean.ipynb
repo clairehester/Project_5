{
 "cells": [
  {
   "cell_type": "code",
   "execution_count": 21,
   "metadata": {},
   "outputs": [],
   "source": [
    "import pandas as pd\n",
    "\n",
    "import requests\n",
    "\n",
    "import os"
   ]
  },
  {
   "cell_type": "code",
   "execution_count": 4,
   "metadata": {},
   "outputs": [],
   "source": [
    "import tweepy"
   ]
  },
  {
   "cell_type": "code",
   "execution_count": null,
   "metadata": {},
   "outputs": [],
   "source": []
  },
  {
   "cell_type": "code",
   "execution_count": 5,
   "metadata": {},
   "outputs": [],
   "source": [
    "auth = tweepy.AppAuthHandler('YOUR_CONSUMER_KEY','YOUR_CONSUMER_SECRET')"
   ]
  },
  {
   "cell_type": "code",
   "execution_count": 49,
   "metadata": {},
   "outputs": [],
   "source": [
    "api = tweepy.API(auth)\n",
    "output = []\n",
    "for tweet in tweepy.Cursor(api.search, q='wildfires-filter:retweets',geocode='37.77986,-122.42905,2500km',until='2020-10-26').items(100):\n",
    "    output.append({'date':tweet.created_at,'text':tweet.text,'geocode':tweet.place})\n",
    "output = pd.DataFrame(output)"
   ]
  },
  {
   "cell_type": "code",
   "execution_count": 51,
   "metadata": {},
   "outputs": [
    {
     "data": {
      "text/plain": [
       "date        0\n",
       "text        0\n",
       "geocode    96\n",
       "dtype: int64"
      ]
     },
     "execution_count": 51,
     "metadata": {},
     "output_type": "execute_result"
    }
   ],
   "source": [
    "output.isnull().sum()"
   ]
  },
  {
   "cell_type": "code",
   "execution_count": 52,
   "metadata": {},
   "outputs": [],
   "source": [
    "final = pd.DataFrame(output)"
   ]
  },
  {
   "cell_type": "code",
   "execution_count": 53,
   "metadata": {},
   "outputs": [],
   "source": [
    "final = pd.concat([final,output])"
   ]
  },
  {
   "cell_type": "code",
   "execution_count": 54,
   "metadata": {},
   "outputs": [
    {
     "data": {
      "text/html": [
       "<div>\n",
       "<style scoped>\n",
       "    .dataframe tbody tr th:only-of-type {\n",
       "        vertical-align: middle;\n",
       "    }\n",
       "\n",
       "    .dataframe tbody tr th {\n",
       "        vertical-align: top;\n",
       "    }\n",
       "\n",
       "    .dataframe thead th {\n",
       "        text-align: right;\n",
       "    }\n",
       "</style>\n",
       "<table border=\"1\" class=\"dataframe\">\n",
       "  <thead>\n",
       "    <tr style=\"text-align: right;\">\n",
       "      <th></th>\n",
       "      <th>date</th>\n",
       "      <th>text</th>\n",
       "      <th>geocode</th>\n",
       "    </tr>\n",
       "  </thead>\n",
       "  <tbody>\n",
       "    <tr>\n",
       "      <th>0</th>\n",
       "      <td>2020-10-25 23:58:59</td>\n",
       "      <td>@Geno1955 Same here. I haven't shut my down on...</td>\n",
       "      <td>None</td>\n",
       "    </tr>\n",
       "    <tr>\n",
       "      <th>1</th>\n",
       "      <td>2020-10-25 23:57:08</td>\n",
       "      <td>@fakegingerbitch Ordinarily I would agree.\\n\\n...</td>\n",
       "      <td>None</td>\n",
       "    </tr>\n",
       "    <tr>\n",
       "      <th>2</th>\n",
       "      <td>2020-10-25 23:50:38</td>\n",
       "      <td>Shasta County has already seen three relativel...</td>\n",
       "      <td>None</td>\n",
       "    </tr>\n",
       "    <tr>\n",
       "      <th>3</th>\n",
       "      <td>2020-10-25 23:50:30</td>\n",
       "      <td>Colorado photo dump plus my car setup for my f...</td>\n",
       "      <td>None</td>\n",
       "    </tr>\n",
       "    <tr>\n",
       "      <th>4</th>\n",
       "      <td>2020-10-25 23:49:05</td>\n",
       "      <td>@IdiosyncraticXL @Nightinghawk Dear Phil, I wi...</td>\n",
       "      <td>None</td>\n",
       "    </tr>\n",
       "    <tr>\n",
       "      <th>...</th>\n",
       "      <td>...</td>\n",
       "      <td>...</td>\n",
       "      <td>...</td>\n",
       "    </tr>\n",
       "    <tr>\n",
       "      <th>95</th>\n",
       "      <td>2020-10-25 20:07:18</td>\n",
       "      <td>@ContraPoints We’re about to evacuate some mor...</td>\n",
       "      <td>None</td>\n",
       "    </tr>\n",
       "    <tr>\n",
       "      <th>96</th>\n",
       "      <td>2020-10-25 20:03:02</td>\n",
       "      <td>Climate change is absolutely a Washington Stat...</td>\n",
       "      <td>None</td>\n",
       "    </tr>\n",
       "    <tr>\n",
       "      <th>97</th>\n",
       "      <td>2020-10-25 20:02:37</td>\n",
       "      <td>COVID and the wildfires here shook me more tha...</td>\n",
       "      <td>None</td>\n",
       "    </tr>\n",
       "    <tr>\n",
       "      <th>98</th>\n",
       "      <td>2020-10-25 20:00:41</td>\n",
       "      <td>California faces highest fire risk of 2020 wit...</td>\n",
       "      <td>None</td>\n",
       "    </tr>\n",
       "    <tr>\n",
       "      <th>99</th>\n",
       "      <td>2020-10-25 20:00:23</td>\n",
       "      <td>The Point Fire has grown to 200 acres in the t...</td>\n",
       "      <td>None</td>\n",
       "    </tr>\n",
       "  </tbody>\n",
       "</table>\n",
       "<p>200 rows × 3 columns</p>\n",
       "</div>"
      ],
      "text/plain": [
       "                  date                                               text  \\\n",
       "0  2020-10-25 23:58:59  @Geno1955 Same here. I haven't shut my down on...   \n",
       "1  2020-10-25 23:57:08  @fakegingerbitch Ordinarily I would agree.\\n\\n...   \n",
       "2  2020-10-25 23:50:38  Shasta County has already seen three relativel...   \n",
       "3  2020-10-25 23:50:30  Colorado photo dump plus my car setup for my f...   \n",
       "4  2020-10-25 23:49:05  @IdiosyncraticXL @Nightinghawk Dear Phil, I wi...   \n",
       "..                 ...                                                ...   \n",
       "95 2020-10-25 20:07:18  @ContraPoints We’re about to evacuate some mor...   \n",
       "96 2020-10-25 20:03:02  Climate change is absolutely a Washington Stat...   \n",
       "97 2020-10-25 20:02:37  COVID and the wildfires here shook me more tha...   \n",
       "98 2020-10-25 20:00:41  California faces highest fire risk of 2020 wit...   \n",
       "99 2020-10-25 20:00:23  The Point Fire has grown to 200 acres in the t...   \n",
       "\n",
       "   geocode  \n",
       "0     None  \n",
       "1     None  \n",
       "2     None  \n",
       "3     None  \n",
       "4     None  \n",
       "..     ...  \n",
       "95    None  \n",
       "96    None  \n",
       "97    None  \n",
       "98    None  \n",
       "99    None  \n",
       "\n",
       "[200 rows x 3 columns]"
      ]
     },
     "execution_count": 54,
     "metadata": {},
     "output_type": "execute_result"
    }
   ],
   "source": [
    "final"
   ]
  },
  {
   "cell_type": "code",
   "execution_count": 89,
   "metadata": {},
   "outputs": [],
   "source": [
    "import time"
   ]
  },
  {
   "cell_type": "code",
   "execution_count": 90,
   "metadata": {},
   "outputs": [],
   "source": [
    "my_dates = ['2020-10-27','2020-10-26','2020-10-25','2020-10-24','2020-10-23','2020-10-22','2020-10-21','2020-10-20','2020-10-19']"
   ]
  },
  {
   "cell_type": "code",
   "execution_count": 191,
   "metadata": {},
   "outputs": [],
   "source": [
    "def get_tweets(geocodee,date_range):\n",
    "    api = tweepy.API(auth)\n",
    "    output = []\n",
    "    last = pd.DataFrame(columns=['date','text','geocode'])\n",
    "    for date in date_range:\n",
    "        for tweet in tweepy.Cursor(api.search, q='wildfires-filter:retweets',geocode=geocodee,until=date,tweet_mode='extended',lang='en').items(100):\n",
    "            output.append({'date': tweet.created_at,'text':tweet.full_text,'geocode':tweet.place,'user_location':tweet.user.location})\n",
    "        time.sleep(5)\n",
    "    output = pd.DataFrame(output)\n",
    "        \n",
    "    return output"
   ]
  },
  {
   "cell_type": "code",
   "execution_count": 207,
   "metadata": {},
   "outputs": [],
   "source": [
    "la_geo = '34.05349,-118.24532,200km'\n",
    "sf_geo = '37.77986,-122.42905,300km'"
   ]
  },
  {
   "cell_type": "code",
   "execution_count": 198,
   "metadata": {},
   "outputs": [],
   "source": [
    "la_4 = get_tweets(la_geo,my_dates)"
   ]
  },
  {
   "cell_type": "code",
   "execution_count": 203,
   "metadata": {},
   "outputs": [
    {
     "data": {
      "text/html": [
       "<div>\n",
       "<style scoped>\n",
       "    .dataframe tbody tr th:only-of-type {\n",
       "        vertical-align: middle;\n",
       "    }\n",
       "\n",
       "    .dataframe tbody tr th {\n",
       "        vertical-align: top;\n",
       "    }\n",
       "\n",
       "    .dataframe thead th {\n",
       "        text-align: right;\n",
       "    }\n",
       "</style>\n",
       "<table border=\"1\" class=\"dataframe\">\n",
       "  <thead>\n",
       "    <tr style=\"text-align: right;\">\n",
       "      <th></th>\n",
       "      <th>date</th>\n",
       "      <th>text</th>\n",
       "      <th>geocode</th>\n",
       "      <th>user_location</th>\n",
       "    </tr>\n",
       "  </thead>\n",
       "  <tbody>\n",
       "    <tr>\n",
       "      <th>0</th>\n",
       "      <td>2020-10-26 17:40:11</td>\n",
       "      <td>LATEST: After first reporting that the #Silver...</td>\n",
       "      <td>None</td>\n",
       "      <td>Los Angeles, CA</td>\n",
       "    </tr>\n",
       "    <tr>\n",
       "      <th>1</th>\n",
       "      <td>2020-10-26 17:38:59</td>\n",
       "      <td>Planned power outages affect hundreds of thous...</td>\n",
       "      <td>None</td>\n",
       "      <td>Altadena, CA</td>\n",
       "    </tr>\n",
       "    <tr>\n",
       "      <th>2</th>\n",
       "      <td>2020-10-26 17:37:07</td>\n",
       "      <td>When writing political stories you often have ...</td>\n",
       "      <td>None</td>\n",
       "      <td>Los Angeles, CA</td>\n",
       "    </tr>\n",
       "    <tr>\n",
       "      <th>3</th>\n",
       "      <td>2020-10-26 17:36:15</td>\n",
       "      <td>\"Planned power outages affect hundreds of thou...</td>\n",
       "      <td>None</td>\n",
       "      <td>Los Angeles, CA</td>\n",
       "    </tr>\n",
       "    <tr>\n",
       "      <th>4</th>\n",
       "      <td>2020-10-26 17:32:54</td>\n",
       "      <td>If you are in a safe place after evacuating fr...</td>\n",
       "      <td>None</td>\n",
       "      <td>Los Angeles, CA</td>\n",
       "    </tr>\n",
       "    <tr>\n",
       "      <th>...</th>\n",
       "      <td>...</td>\n",
       "      <td>...</td>\n",
       "      <td>...</td>\n",
       "      <td>...</td>\n",
       "    </tr>\n",
       "    <tr>\n",
       "      <th>795</th>\n",
       "      <td>2020-10-18 22:51:06</td>\n",
       "      <td>Despite years of neglect and mismanagement in ...</td>\n",
       "      <td>None</td>\n",
       "      <td>Los Angeles, CA</td>\n",
       "    </tr>\n",
       "    <tr>\n",
       "      <th>796</th>\n",
       "      <td>2020-10-18 22:48:59</td>\n",
       "      <td>COVID - my gym has now been closed 31 weeks \\n...</td>\n",
       "      <td>None</td>\n",
       "      <td>Santa Clarita, CA</td>\n",
       "    </tr>\n",
       "    <tr>\n",
       "      <th>797</th>\n",
       "      <td>2020-10-18 22:30:06</td>\n",
       "      <td>Wildfires and floods threaten tens of millions...</td>\n",
       "      <td>None</td>\n",
       "      <td>San Diego, California</td>\n",
       "    </tr>\n",
       "    <tr>\n",
       "      <th>798</th>\n",
       "      <td>2020-10-18 22:26:30</td>\n",
       "      <td>@lexis_dawson23 ask him about the type of worl...</td>\n",
       "      <td>None</td>\n",
       "      <td>Los Angeles</td>\n",
       "    </tr>\n",
       "    <tr>\n",
       "      <th>799</th>\n",
       "      <td>2020-10-18 21:47:42</td>\n",
       "      <td>@NBC I think this warrants a journalistic inve...</td>\n",
       "      <td>None</td>\n",
       "      <td>Los Angeles, CA</td>\n",
       "    </tr>\n",
       "  </tbody>\n",
       "</table>\n",
       "<p>800 rows × 4 columns</p>\n",
       "</div>"
      ],
      "text/plain": [
       "                   date                                               text  \\\n",
       "0   2020-10-26 17:40:11  LATEST: After first reporting that the #Silver...   \n",
       "1   2020-10-26 17:38:59  Planned power outages affect hundreds of thous...   \n",
       "2   2020-10-26 17:37:07  When writing political stories you often have ...   \n",
       "3   2020-10-26 17:36:15  \"Planned power outages affect hundreds of thou...   \n",
       "4   2020-10-26 17:32:54  If you are in a safe place after evacuating fr...   \n",
       "..                  ...                                                ...   \n",
       "795 2020-10-18 22:51:06  Despite years of neglect and mismanagement in ...   \n",
       "796 2020-10-18 22:48:59  COVID - my gym has now been closed 31 weeks \\n...   \n",
       "797 2020-10-18 22:30:06  Wildfires and floods threaten tens of millions...   \n",
       "798 2020-10-18 22:26:30  @lexis_dawson23 ask him about the type of worl...   \n",
       "799 2020-10-18 21:47:42  @NBC I think this warrants a journalistic inve...   \n",
       "\n",
       "    geocode          user_location  \n",
       "0      None        Los Angeles, CA  \n",
       "1      None           Altadena, CA  \n",
       "2      None        Los Angeles, CA  \n",
       "3      None        Los Angeles, CA  \n",
       "4      None        Los Angeles, CA  \n",
       "..      ...                    ...  \n",
       "795    None        Los Angeles, CA  \n",
       "796    None      Santa Clarita, CA  \n",
       "797    None  San Diego, California  \n",
       "798    None            Los Angeles  \n",
       "799    None        Los Angeles, CA  \n",
       "\n",
       "[800 rows x 4 columns]"
      ]
     },
     "execution_count": 203,
     "metadata": {},
     "output_type": "execute_result"
    }
   ],
   "source": [
    "la_4"
   ]
  },
  {
   "cell_type": "code",
   "execution_count": 193,
   "metadata": {},
   "outputs": [],
   "source": [
    "la_3F = get_tweets(la_geo,my_dates)"
   ]
  },
  {
   "cell_type": "code",
   "execution_count": 196,
   "metadata": {},
   "outputs": [
    {
     "data": {
      "text/plain": [
       "'Planned power outages affect hundreds of thousands as intense wildfires rage on in Northern California https://t.co/zjs7Z5dMjf'"
      ]
     },
     "execution_count": 196,
     "metadata": {},
     "output_type": "execute_result"
    }
   ],
   "source": [
    "la_3F['text'][1]"
   ]
  },
  {
   "cell_type": "code",
   "execution_count": 197,
   "metadata": {},
   "outputs": [],
   "source": [
    "sf_3F = get_tweets(sf_geo,my_dates)"
   ]
  },
  {
   "cell_type": "code",
   "execution_count": null,
   "metadata": {},
   "outputs": [],
   "source": [
    "sf_3F['text'][0]"
   ]
  },
  {
   "cell_type": "code",
   "execution_count": 205,
   "metadata": {},
   "outputs": [],
   "source": [
    "best = pd.concat([la_3F,sf_3F])\n",
    "best.reset_index(inplace=True,drop=True)"
   ]
  },
  {
   "cell_type": "code",
   "execution_count": 208,
   "metadata": {},
   "outputs": [],
   "source": [
    "best.to_csv('twitter/best_tweets.csv',index=False)"
   ]
  },
  {
   "cell_type": "markdown",
   "metadata": {},
   "source": [
    "## Next Steps:\n",
    "\n",
    "- Remove URL's from text.\n",
    "- Get the geocodes from my User Location for plotting later.\n",
    "\n",
    "## Problems Encountered:\n",
    "\n",
    "- It took a lot of tinkering before I was able to search for wildfires in a specific range. To do this I needed to enter the latitidue,longitude,and range of kms or mi.\n",
    "- Many tweets did not include a Geotag which is why I pulled in User Location to be used as our geocode input later.\n",
    "- We can only get tweets from the last 7 days. I would need to pay for Premium to get access to the entire database. I will continue to collect more tweets from smaller geo ranges and from today until Thursday. \n",
    "- Initially, tweets returned would contain only part of the tweet. I needed to specify in my query that I wanted extended tweets. After doing this, I was able to obtain full tweets.\n",
    "- I created my function to make running through the entire date range more efficient. Initially, I was searching by individual date and needing to combine dataframes after each run. Very inefficient.\n"
   ]
  },
  {
   "cell_type": "code",
   "execution_count": null,
   "metadata": {},
   "outputs": [],
   "source": []
  }
 ],
 "metadata": {
  "kernelspec": {
   "display_name": "Python 3",
   "language": "python",
   "name": "python3"
  },
  "language_info": {
   "codemirror_mode": {
    "name": "ipython",
    "version": 3
   },
   "file_extension": ".py",
   "mimetype": "text/x-python",
   "name": "python",
   "nbconvert_exporter": "python",
   "pygments_lexer": "ipython3",
   "version": "3.8.3"
  }
 },
 "nbformat": 4,
 "nbformat_minor": 4
}
