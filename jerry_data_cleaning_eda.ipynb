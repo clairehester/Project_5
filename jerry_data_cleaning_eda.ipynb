{
 "cells": [
  {
   "cell_type": "markdown",
   "metadata": {},
   "source": [
    "## California wildfires (Part III):  Measuring and forecasting the economic impact on state & local government"
   ]
  },
  {
   "cell_type": "markdown",
   "metadata": {},
   "source": [
    "### DSIR - 824 | Project 5 | 10/30/2020\n",
    "### Jerry Efremides\n",
    "#### Group members: Claire Hester & Sean Cleary "
   ]
  },
  {
   "cell_type": "markdown",
   "metadata": {},
   "source": [
    "<br>"
   ]
  },
  {
   "cell_type": "markdown",
   "metadata": {},
   "source": [
    "### TABLE OF CONTENTS"
   ]
  },
  {
   "cell_type": "markdown",
   "metadata": {},
   "source": [
    "1. Problem statement\n",
    "2. Executive summary\n",
    "3. Imports\n",
    "4. Data collection\n",
    "5. Data pre-processing\n",
    "6. Model preparation\n",
    "7. Modeling \n",
    "8. Conclusions & Recommendations"
   ]
  },
  {
   "cell_type": "markdown",
   "metadata": {},
   "source": [
    "<br>\n",
    "\n",
    "### PROBLEM STATEMENT\n"
   ]
  },
  {
   "cell_type": "markdown",
   "metadata": {},
   "source": [
    "Lorem ipsum dolor sit amet, option consequuntur vel id, option omnesque no vis. Ei omnesque platonem has. No nonumy volumus mei, cu ridens inimicus postulant nam. Cu est animal delicata adolescens. Ei simul animal erroribus usu, ea choro constituam quo, nobis adipisci corrumpit pro ea. Accusam eligendi vituperatoribus his eu, ut est aperiam utroque abhorreant."
   ]
  },
  {
   "cell_type": "markdown",
   "metadata": {},
   "source": [
    "### EXECUTIVE SUMMARY"
   ]
  },
  {
   "cell_type": "markdown",
   "metadata": {},
   "source": [
    "Lorem ipsum dolor sit amet, option consequuntur vel id, option omnesque no vis. Ei omnesque platonem has. No nonumy volumus mei, cu ridens inimicus postulant nam. Cu est animal delicata adolescens. Ei simul animal erroribus usu, ea choro constituam quo, nobis adipisci corrumpit pro ea. Accusam eligendi vituperatoribus his eu, ut est aperiam utroque abhorreant."
   ]
  },
  {
   "cell_type": "markdown",
   "metadata": {},
   "source": [
    "<br>\n",
    "\n",
    "### IMPORT LIBRARIES & DATA"
   ]
  },
  {
   "cell_type": "code",
   "execution_count": 22,
   "metadata": {},
   "outputs": [],
   "source": [
    "import numpy as np\n",
    "import pandas as pd\n",
    "import matplotlib.pyplot as plt\n",
    "import seaborn as sns\n",
    "\n",
    "import time\n",
    "import requests\n",
    "import json\n",
    "\n",
    "import datetime as dt"
   ]
  },
  {
   "cell_type": "markdown",
   "metadata": {},
   "source": [
    "<br>\n",
    "\n",
    "### DATA COLLECTION"
   ]
  },
  {
   "cell_type": "markdown",
   "metadata": {},
   "source": [
    "#### Source links"
   ]
  },
  {
   "cell_type": "markdown",
   "metadata": {},
   "source": [
    "- http://www.dof.ca.gov/Forecasting/Economics/Economic_and_Revenue_Updates/index.html\n",
    "- https://www.bls.gov/regions/west/california.htm#eag\n",
    "- https://www.labormarketinfo.edd.ca.gov/data/labor-force-and-unemployment-for-cities-and-census-areas.html\n",
    "- California State Board of Equalization and Department of Tax and Fee Administration (sales tax revenues), California Department of Finance  \n",
    "- CaliforniaCityFinance.com\n",
    "- http://www.bea.gov/\n",
    "- https://datausa.io/api/data?measure=PropertyValue%20Bucket\n",
    "- http://www.insurance.ca.gov/01-consumers/120-company/04-mrktshare/"
   ]
  },
  {
   "cell_type": "markdown",
   "metadata": {},
   "source": [
    "#### Files:"
   ]
  },
  {
   "cell_type": "markdown",
   "metadata": {},
   "source": [
    "- Total Wages and Salaries in California (CAWTOT)\n",
    "- Construction Wages and Salaries in California (CAWCON)\n",
    "- Accommodation and Food Services Wages and Salaries in California (CAWACC)\n",
    "- Real Estate, Rental and Leasing Wages and Salaries in California (CAWREA)\n",
    "- Unemployment Rate in California (CAUR)\n",
    "- All-Transactions House Price Index for California (CASTHPI)\n",
    "- Real Total Gross Domestic Product for California (CARGSP)\n",
    "- Median Household Income in California (MEHOINUSCAA646N)\n",
    "- Initial Claims in California (CAICLAIMS)\n",
    "- Homeownership Rate for California (CAHOWN)\n",
    "- New Private Housing Units Authorized by Building Permits for California (CABPPRIVSA)\n",
    "- Rental Vacancy Rate for California (CARVAC)\n",
    "- Producer Price Index by Industry: Wineries (PCU3121331213)\n",
    "\n",
    "- Local Sales and Use Tax Revenues per Resident (BOE_tax_per_capita)\n",
    "- Revenues Distributed to Cities and Counties From Local Sales and Use Taxes (BOE_tax_per_county_and_city)\n",
    "- SUMMARY OF ASSESSED VALUES OF PROPERTY SUBJECT TO LOCAL GENERAL PROPERTY TAXES  (property_taxes)\n",
    "- PER CAPITA PERSONAL INCOME a/ Source:  U.S. Department of Commerce, Bureau of Economic Analysis (per_capita_personal_income)\n",
    "- (income_by_county_race)\n",
    "- (employment_by_industries_CA)\n",
    "- (property_value)\n",
    "- fire insurance losses (ca_fire_insurance)     \n",
    "- cost of carbon "
   ]
  },
  {
   "cell_type": "markdown",
   "metadata": {},
   "source": [
    "<br>"
   ]
  },
  {
   "cell_type": "markdown",
   "metadata": {},
   "source": [
    "### DATA PRE-PROCESSING & EDA"
   ]
  },
  {
   "cell_type": "markdown",
   "metadata": {},
   "source": [
    "#### Import data sets and seperate data by freq avaialbility"
   ]
  },
  {
   "cell_type": "markdown",
   "metadata": {},
   "source": [
    "#### Annual"
   ]
  },
  {
   "cell_type": "code",
   "execution_count": 35,
   "metadata": {},
   "outputs": [],
   "source": [
    "ca_gdp = pd.read_csv('./jerry_data/CARGSP.csv')"
   ]
  },
  {
   "cell_type": "code",
   "execution_count": 36,
   "metadata": {},
   "outputs": [],
   "source": [
    "ca_household_income = pd.read_csv('./jerry_data/MEHOINUSCAA646N.csv')"
   ]
  },
  {
   "cell_type": "code",
   "execution_count": 38,
   "metadata": {},
   "outputs": [],
   "source": [
    "ca_homeownership = pd.read_csv('./jerry_data/CAHOWN.csv')"
   ]
  },
  {
   "cell_type": "code",
   "execution_count": 40,
   "metadata": {},
   "outputs": [],
   "source": [
    "ca_rental_vacancies = pd.read_csv('./jerry_data/CARVAC.csv')"
   ]
  },
  {
   "cell_type": "code",
   "execution_count": 43,
   "metadata": {},
   "outputs": [],
   "source": [
    "ca_county_tax_rev_per_capita = pd.read_csv('./jerry_data/BOE_tax_per_capita.csv')"
   ]
  },
  {
   "cell_type": "code",
   "execution_count": 44,
   "metadata": {},
   "outputs": [],
   "source": [
    "ca_state_property_tax = pd.read_csv('./jerry_data/property_taxes.csv')"
   ]
  },
  {
   "cell_type": "code",
   "execution_count": 45,
   "metadata": {},
   "outputs": [],
   "source": [
    "ca_per_cap_personal_income = pd.read_csv('./jerry_data/per_capita_personal_income_CA.csv')"
   ]
  },
  {
   "cell_type": "code",
   "execution_count": 46,
   "metadata": {},
   "outputs": [],
   "source": [
    "ca_county_employment = pd.read_csv('./jerry_data/ca_county_employment.csv')"
   ]
  },
  {
   "cell_type": "code",
   "execution_count": 48,
   "metadata": {},
   "outputs": [],
   "source": [
    "ca_fire_ins_costs = pd.read_csv('./jerry_data/ca_fire_insurance.csv')"
   ]
  },
  {
   "cell_type": "markdown",
   "metadata": {},
   "source": [
    "##### Merge into one dataframe"
   ]
  },
  {
   "cell_type": "code",
   "execution_count": null,
   "metadata": {},
   "outputs": [],
   "source": []
  },
  {
   "cell_type": "markdown",
   "metadata": {},
   "source": [
    "---"
   ]
  },
  {
   "cell_type": "markdown",
   "metadata": {},
   "source": [
    "#### Quarterly"
   ]
  },
  {
   "cell_type": "code",
   "execution_count": 26,
   "metadata": {},
   "outputs": [],
   "source": [
    "df_all_wages = pd.read_csv('./jerry_data/CAWTOT.csv')"
   ]
  },
  {
   "cell_type": "code",
   "execution_count": 28,
   "metadata": {},
   "outputs": [],
   "source": [
    "df_construction_wages = pd.read_csv('./jerry_data/CAWCON.csv')"
   ]
  },
  {
   "cell_type": "code",
   "execution_count": 30,
   "metadata": {},
   "outputs": [],
   "source": [
    "df_hospitality_wages = pd.read_csv('./jerry_data/CAWACC.csv')"
   ]
  },
  {
   "cell_type": "code",
   "execution_count": 31,
   "metadata": {},
   "outputs": [],
   "source": [
    "df_realestate_wages = pd.read_csv('./jerry_data/CAWREA.csv')"
   ]
  },
  {
   "cell_type": "code",
   "execution_count": 33,
   "metadata": {},
   "outputs": [],
   "source": [
    "df_houseprice_index = pd.read_csv('./jerry_data/CASTHPI.csv')"
   ]
  },
  {
   "cell_type": "markdown",
   "metadata": {},
   "source": [
    "##### Merge into one data frame"
   ]
  },
  {
   "cell_type": "code",
   "execution_count": null,
   "metadata": {},
   "outputs": [],
   "source": []
  },
  {
   "cell_type": "markdown",
   "metadata": {},
   "source": [
    "---"
   ]
  },
  {
   "cell_type": "markdown",
   "metadata": {},
   "source": [
    "#### Monthly"
   ]
  },
  {
   "cell_type": "code",
   "execution_count": 32,
   "metadata": {},
   "outputs": [],
   "source": [
    "df_unemployment = pd.read_csv('./jerry_data/CAUR.csv')"
   ]
  },
  {
   "cell_type": "code",
   "execution_count": 39,
   "metadata": {},
   "outputs": [],
   "source": [
    "df_building_permits = pd.read_csv('./jerry_data/CABPPRIVSA.csv')"
   ]
  },
  {
   "cell_type": "code",
   "execution_count": 41,
   "metadata": {},
   "outputs": [],
   "source": [
    "df_winery_ppi = pd.read_csv('./jerry_data/PCU3121331213.csv')"
   ]
  },
  {
   "cell_type": "code",
   "execution_count": 42,
   "metadata": {},
   "outputs": [],
   "source": [
    "ca_unemp_claims = pd.read_csv('./jerry_data/CAICLAIMS.csv')"
   ]
  },
  {
   "cell_type": "markdown",
   "metadata": {},
   "source": [
    "##### Merge into one dataframe"
   ]
  },
  {
   "cell_type": "code",
   "execution_count": null,
   "metadata": {},
   "outputs": [],
   "source": []
  },
  {
   "cell_type": "markdown",
   "metadata": {},
   "source": [
    "---"
   ]
  },
  {
   "cell_type": "markdown",
   "metadata": {},
   "source": [
    "#### Export original dataframes before further pre-processing"
   ]
  },
  {
   "cell_type": "code",
   "execution_count": null,
   "metadata": {},
   "outputs": [],
   "source": []
  },
  {
   "cell_type": "markdown",
   "metadata": {},
   "source": [
    "---"
   ]
  },
  {
   "cell_type": "markdown",
   "metadata": {},
   "source": [
    "### VISUALIZATIONS"
   ]
  },
  {
   "cell_type": "markdown",
   "metadata": {},
   "source": [
    "<br>\n",
    "\n",
    "### MODEL PREPERATION\n"
   ]
  },
  {
   "cell_type": "markdown",
   "metadata": {},
   "source": [
    "#### Train / Test / Split data for modeling"
   ]
  },
  {
   "cell_type": "code",
   "execution_count": null,
   "metadata": {},
   "outputs": [],
   "source": []
  },
  {
   "cell_type": "markdown",
   "metadata": {},
   "source": [
    "<br>\n",
    "\n",
    "### MODELING"
   ]
  },
  {
   "cell_type": "markdown",
   "metadata": {},
   "source": [
    "#### Model #1 - Baseline"
   ]
  },
  {
   "cell_type": "code",
   "execution_count": null,
   "metadata": {},
   "outputs": [],
   "source": []
  },
  {
   "cell_type": "markdown",
   "metadata": {},
   "source": [
    "#### Model #2 - Naive Bayes"
   ]
  },
  {
   "cell_type": "code",
   "execution_count": null,
   "metadata": {},
   "outputs": [],
   "source": []
  },
  {
   "cell_type": "markdown",
   "metadata": {},
   "source": [
    "#### Model #3 - Logistic Regression"
   ]
  },
  {
   "cell_type": "code",
   "execution_count": null,
   "metadata": {},
   "outputs": [],
   "source": []
  },
  {
   "cell_type": "markdown",
   "metadata": {},
   "source": [
    "<br>"
   ]
  },
  {
   "cell_type": "markdown",
   "metadata": {},
   "source": [
    "### CONCLUSIONS & RECOMMENDATIONS"
   ]
  }
 ],
 "metadata": {
  "kernelspec": {
   "display_name": "Python 3",
   "language": "python",
   "name": "python3"
  },
  "language_info": {
   "codemirror_mode": {
    "name": "ipython",
    "version": 3
   },
   "file_extension": ".py",
   "mimetype": "text/x-python",
   "name": "python",
   "nbconvert_exporter": "python",
   "pygments_lexer": "ipython3",
   "version": "3.7.6"
  }
 },
 "nbformat": 4,
 "nbformat_minor": 4
}
