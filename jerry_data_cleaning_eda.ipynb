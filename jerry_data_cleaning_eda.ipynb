{
 "cells": [
  {
   "cell_type": "markdown",
   "metadata": {},
   "source": [
    "## California wildfires (Part III):  Measuring and forecasting the economic impact on state & local government"
   ]
  },
  {
   "cell_type": "markdown",
   "metadata": {},
   "source": [
    "### DSIR - 824 | Project 5 | 10/30/2020\n",
    "### Jerry Efremides\n",
    "#### Group members: Claire Hester & Sean Cleary "
   ]
  },
  {
   "cell_type": "markdown",
   "metadata": {},
   "source": [
    "<br>"
   ]
  },
  {
   "cell_type": "markdown",
   "metadata": {},
   "source": [
    "### TABLE OF CONTENTS"
   ]
  },
  {
   "cell_type": "markdown",
   "metadata": {},
   "source": [
    "1. Problem statement\n",
    "2. Executive summary\n",
    "3. Imports\n",
    "4. Data collection\n",
    "5. Data pre-processing\n",
    "6. Model preparation\n",
    "7. Modeling \n",
    "8. Conclusions & Recommendations"
   ]
  },
  {
   "cell_type": "markdown",
   "metadata": {},
   "source": [
    "<br>\n",
    "\n",
    "### PROBLEM STATEMENT\n"
   ]
  },
  {
   "cell_type": "markdown",
   "metadata": {},
   "source": [
    "Lorem ipsum dolor sit amet, option consequuntur vel id, option omnesque no vis. Ei omnesque platonem has. No nonumy volumus mei, cu ridens inimicus postulant nam. Cu est animal delicata adolescens. Ei simul animal erroribus usu, ea choro constituam quo, nobis adipisci corrumpit pro ea. Accusam eligendi vituperatoribus his eu, ut est aperiam utroque abhorreant."
   ]
  },
  {
   "cell_type": "markdown",
   "metadata": {},
   "source": [
    "### EXECUTIVE SUMMARY"
   ]
  },
  {
   "cell_type": "markdown",
   "metadata": {},
   "source": [
    "Lorem ipsum dolor sit amet, option consequuntur vel id, option omnesque no vis. Ei omnesque platonem has. No nonumy volumus mei, cu ridens inimicus postulant nam. Cu est animal delicata adolescens. Ei simul animal erroribus usu, ea choro constituam quo, nobis adipisci corrumpit pro ea. Accusam eligendi vituperatoribus his eu, ut est aperiam utroque abhorreant."
   ]
  },
  {
   "cell_type": "markdown",
   "metadata": {},
   "source": [
    "<br>\n",
    "\n",
    "### IMPORT LIBRARIES & DATA"
   ]
  },
  {
   "cell_type": "code",
   "execution_count": 1,
   "metadata": {},
   "outputs": [],
   "source": [
    "import numpy as np\n",
    "import pandas as pd\n",
    "import matplotlib.pyplot as plt\n",
    "import seaborn as sns\n",
    "\n",
    "import time\n",
    "import requests\n",
    "import json\n",
    "\n",
    "import datetime as dt"
   ]
  },
  {
   "cell_type": "markdown",
   "metadata": {},
   "source": [
    "<br>\n",
    "\n",
    "### DATA COLLECTION"
   ]
  },
  {
   "cell_type": "markdown",
   "metadata": {},
   "source": [
    "#### Source links"
   ]
  },
  {
   "cell_type": "markdown",
   "metadata": {},
   "source": [
    "- http://www.dof.ca.gov/Forecasting/Economics/Economic_and_Revenue_Updates/index.html\n",
    "- https://www.bls.gov/regions/west/california.htm#eag\n",
    "- https://www.labormarketinfo.edd.ca.gov/data/labor-force-and-unemployment-for-cities-and-census-areas.html\n",
    "- California State Board of Equalization and Department of Tax and Fee Administration (sales tax revenues), California Department of Finance  \n",
    "- CaliforniaCityFinance.com\n",
    "- http://www.bea.gov/\n",
    "- https://datausa.io/api/data?measure=PropertyValue%20Bucket\n",
    "- http://www.insurance.ca.gov/01-consumers/120-company/04-mrktshare/"
   ]
  },
  {
   "cell_type": "markdown",
   "metadata": {},
   "source": [
    "#### Files:"
   ]
  },
  {
   "cell_type": "markdown",
   "metadata": {},
   "source": [
    "- Total Wages and Salaries in California (CAWTOT)\n",
    "- Construction Wages and Salaries in California (CAWCON)\n",
    "- Accommodation and Food Services Wages and Salaries in California (CAWACC)\n",
    "- Real Estate, Rental and Leasing Wages and Salaries in California (CAWREA)\n",
    "- Unemployment Rate in California (CAUR)\n",
    "- All-Transactions House Price Index for California (CASTHPI)\n",
    "- Real Total Gross Domestic Product for California (CARGSP)\n",
    "- Median Household Income in California (MEHOINUSCAA646N)\n",
    "- Initial Claims in California (CAICLAIMS)\n",
    "- Homeownership Rate for California (CAHOWN)\n",
    "- New Private Housing Units Authorized by Building Permits for California (CABPPRIVSA)\n",
    "- Rental Vacancy Rate for California (CARVAC)\n",
    "- Producer Price Index by Industry: Wineries (PCU3121331213)\n",
    "\n",
    "- Local Sales and Use Tax Revenues per Resident (BOE_tax_per_capita)\n",
    "- Revenues Distributed to Cities and Counties From Local Sales and Use Taxes (BOE_tax_per_county_and_city)\n",
    "- SUMMARY OF ASSESSED VALUES OF PROPERTY SUBJECT TO LOCAL GENERAL PROPERTY TAXES  (property_taxes)\n",
    "- PER CAPITA PERSONAL INCOME a/ Source:  U.S. Department of Commerce, Bureau of Economic Analysis (per_capita_personal_income)\n",
    "- (income_by_county_race)\n",
    "- (employment_by_industries_CA)\n",
    "- (property_value)\n",
    "- fire insurance losses (ca_fire_insurance)     \n",
    "- cost of carbon "
   ]
  },
  {
   "cell_type": "markdown",
   "metadata": {},
   "source": [
    "<br>"
   ]
  },
  {
   "cell_type": "markdown",
   "metadata": {},
   "source": [
    "### DATA PRE-PROCESSING & EDA"
   ]
  },
  {
   "cell_type": "markdown",
   "metadata": {},
   "source": [
    "#### Import data sets and seperate data by freq avaialbility"
   ]
  },
  {
   "cell_type": "markdown",
   "metadata": {},
   "source": [
    "#### Annual"
   ]
  },
  {
   "cell_type": "code",
   "execution_count": 5,
   "metadata": {},
   "outputs": [],
   "source": [
    "ca_gdp = pd.read_csv('./jerry_data/CARGSP.csv')"
   ]
  },
  {
   "cell_type": "code",
   "execution_count": 6,
   "metadata": {},
   "outputs": [],
   "source": [
    "ca_household_income = pd.read_csv('./jerry_data/MEHOINUSCAA646N.csv')"
   ]
  },
  {
   "cell_type": "code",
   "execution_count": 7,
   "metadata": {},
   "outputs": [],
   "source": [
    "ca_homeownership = pd.read_csv('./jerry_data/CAHOWN.csv')"
   ]
  },
  {
   "cell_type": "code",
   "execution_count": 8,
   "metadata": {},
   "outputs": [],
   "source": [
    "ca_rental_vacancies = pd.read_csv('./jerry_data/CARVAC.csv')"
   ]
  },
  {
   "cell_type": "code",
   "execution_count": 9,
   "metadata": {},
   "outputs": [],
   "source": [
    "ca_county_tax_rev_per_capita = pd.read_csv('./jerry_data/BOE_tax_per_capita.csv')"
   ]
  },
  {
   "cell_type": "code",
   "execution_count": 10,
   "metadata": {},
   "outputs": [],
   "source": [
    "ca_state_property_tax = pd.read_csv('./jerry_data/property_taxes.csv')"
   ]
  },
  {
   "cell_type": "code",
   "execution_count": 11,
   "metadata": {},
   "outputs": [],
   "source": [
    "ca_per_cap_personal_income = pd.read_csv('./jerry_data/per_capita_personal_income_CA.csv')"
   ]
  },
  {
   "cell_type": "code",
   "execution_count": 12,
   "metadata": {},
   "outputs": [],
   "source": [
    "ca_county_employment = pd.read_csv('./jerry_data/ca_county_employment.csv')"
   ]
  },
  {
   "cell_type": "code",
   "execution_count": 2,
   "metadata": {},
   "outputs": [],
   "source": [
    "ca_fire_ins_costs = pd.read_csv('./jerry_data/ca_fire_insurance.csv',skiprows=1)"
   ]
  },
  {
   "cell_type": "code",
   "execution_count": 14,
   "metadata": {},
   "outputs": [],
   "source": [
    "ca_per_cap_personal_income = ca_per_cap_personal_income.iloc[:,:6]"
   ]
  },
  {
   "cell_type": "code",
   "execution_count": 15,
   "metadata": {},
   "outputs": [],
   "source": [
    "ca_per_cap_personal_income['year'] = pd.to_datetime(ca_per_cap_personal_income['year'],format=\"%Y\")"
   ]
  },
  {
   "cell_type": "code",
   "execution_count": 16,
   "metadata": {},
   "outputs": [],
   "source": [
    "ca_per_cap_personal_income.rename(columns={'year':'DATE'},inplace=True)"
   ]
  },
  {
   "cell_type": "code",
   "execution_count": null,
   "metadata": {},
   "outputs": [],
   "source": []
  },
  {
   "cell_type": "code",
   "execution_count": 17,
   "metadata": {},
   "outputs": [],
   "source": [
    "ca_per_cap_personal_income.set_index('DATE',drop=True,inplace=True)"
   ]
  },
  {
   "cell_type": "code",
   "execution_count": 18,
   "metadata": {},
   "outputs": [],
   "source": [
    "ca_per_cap_personal_income=ca_per_cap_personal_income.loc['1984':'2019']"
   ]
  },
  {
   "cell_type": "code",
   "execution_count": 19,
   "metadata": {},
   "outputs": [],
   "source": [
    "ca_per_cap_personal_income.reset_index(inplace=True)"
   ]
  },
  {
   "cell_type": "code",
   "execution_count": 20,
   "metadata": {},
   "outputs": [],
   "source": [
    "ca_per_cap_personal_income['DATE'] = ca_per_cap_personal_income['DATE'].astype(str)"
   ]
  },
  {
   "cell_type": "markdown",
   "metadata": {},
   "source": [
    "##### Merge into one dataframe"
   ]
  },
  {
   "cell_type": "markdown",
   "metadata": {},
   "source": [
    "ca_gdp is annual 2001-2019"
   ]
  },
  {
   "cell_type": "code",
   "execution_count": 21,
   "metadata": {},
   "outputs": [],
   "source": [
    "ca_costs_2019 = ca_fire_ins_costs[ca_fire_ins_costs['Year']=='2019']"
   ]
  },
  {
   "cell_type": "code",
   "execution_count": 22,
   "metadata": {},
   "outputs": [
    {
     "data": {
      "text/plain": [
       "-156.6326530612245"
      ]
     },
     "execution_count": 22,
     "metadata": {},
     "output_type": "execute_result"
    }
   ],
   "source": [
    "(307 / -196)*100"
   ]
  },
  {
   "cell_type": "code",
   "execution_count": 21,
   "metadata": {},
   "outputs": [],
   "source": [
    "import re"
   ]
  },
  {
   "cell_type": "code",
   "execution_count": 22,
   "metadata": {},
   "outputs": [
    {
     "data": {
      "text/plain": [
       "0            (196)\n",
       "1          (7,113)\n",
       "2             -   \n",
       "3         111,352 \n",
       "4      16,673,408 \n",
       "5      54,045,259 \n",
       "6      (2,363,116)\n",
       "7        (125,026)\n",
       "8         (58,384)\n",
       "9      (1,339,190)\n",
       "10        121,711 \n",
       "11        (62,705)\n",
       "12           (309)\n",
       "13          5,360 \n",
       "14           (555)\n",
       "15     17,469,935 \n",
       "16      6,131,836 \n",
       "17        775,131 \n",
       "18      2,654,076 \n",
       "19        124,856 \n",
       "20      8,304,828 \n",
       "21          1,765 \n",
       "22         67,543 \n",
       "23          3,261 \n",
       "24           (182)\n",
       "25            190 \n",
       "26        857,434 \n",
       "27       (115,834)\n",
       "28         17,557 \n",
       "29        473,349 \n",
       "30        993,950 \n",
       "31         18,950 \n",
       "32        100,174 \n",
       "33        385,296 \n",
       "34             77 \n",
       "35         28,522 \n",
       "36        (18,958)\n",
       "37            528 \n",
       "38         11,193 \n",
       "39            111 \n",
       "Name:  Incurred Loss (b) , dtype: object"
      ]
     },
     "execution_count": 22,
     "metadata": {},
     "output_type": "execute_result"
    }
   ],
   "source": [
    "ca_fire_ins_costs[' Incurred Loss (b) '].head(40)"
   ]
  },
  {
   "cell_type": "code",
   "execution_count": 23,
   "metadata": {},
   "outputs": [],
   "source": [
    "ca_fire_ins_costs[' Incurred Loss (b) ']=ca_fire_ins_costs[' Incurred Loss (b) '].str.replace(',','')"
   ]
  },
  {
   "cell_type": "markdown",
   "metadata": {},
   "source": [
    "This regex is working at extracting only numbers in parentheses. Now I need to convert remove () and add a - sign."
   ]
  },
  {
   "cell_type": "code",
   "execution_count": 24,
   "metadata": {},
   "outputs": [
    {
     "data": {
      "text/plain": [
       "0         [(196)]\n",
       "1        [(7113)]\n",
       "2              []\n",
       "3              []\n",
       "4              []\n",
       "          ...    \n",
       "1373           []\n",
       "1374    [(34076)]\n",
       "1375           []\n",
       "1376           []\n",
       "1377           []\n",
       "Name:  Incurred Loss (b) , Length: 1378, dtype: object"
      ]
     },
     "execution_count": 24,
     "metadata": {},
     "output_type": "execute_result"
    }
   ],
   "source": [
    "ca_fire_ins_costs[' Incurred Loss (b) '].str.findall(r\"\\([0-9]+\\)\")"
   ]
  },
  {
   "cell_type": "code",
   "execution_count": 25,
   "metadata": {},
   "outputs": [
    {
     "ename": "SyntaxError",
     "evalue": "invalid syntax (<ipython-input-25-4de94265774e>, line 2)",
     "output_type": "error",
     "traceback": [
      "\u001b[1;36m  File \u001b[1;32m\"<ipython-input-25-4de94265774e>\"\u001b[1;36m, line \u001b[1;32m2\u001b[0m\n\u001b[1;33m    for x in ca_fire_ins_costs['']\u001b[0m\n\u001b[1;37m                                  ^\u001b[0m\n\u001b[1;31mSyntaxError\u001b[0m\u001b[1;31m:\u001b[0m invalid syntax\n"
     ]
    }
   ],
   "source": [
    "def replace_paren(column):\n",
    "    for x in ca_fire_ins_costs['']"
   ]
  },
  {
   "cell_type": "code",
   "execution_count": 3,
   "metadata": {},
   "outputs": [],
   "source": [
    "ca_fire_ins_costs['Loss Ratio'] = ca_fire_ins_costs['Loss Ratio'].str.replace(\"%\",\"\").astype(float)"
   ]
  },
  {
   "cell_type": "code",
   "execution_count": null,
   "metadata": {},
   "outputs": [],
   "source": [
    "ca_fire_ins_costs.groupby()"
   ]
  },
  {
   "cell_type": "code",
   "execution_count": 10,
   "metadata": {},
   "outputs": [],
   "source": [
    "target = ca_fire_ins_costs.groupby('Year')['Loss Ratio'].sum()"
   ]
  },
  {
   "cell_type": "code",
   "execution_count": 17,
   "metadata": {},
   "outputs": [],
   "source": [
    "target.index = pd.to_datetime(target.index,format = \"%Y\")"
   ]
  },
  {
   "cell_type": "code",
   "execution_count": 18,
   "metadata": {},
   "outputs": [
    {
     "data": {
      "text/plain": [
       "Year\n",
       "2014-01-01     -6676.510000\n",
       "2015-01-01        12.294063\n",
       "2016-01-01     42463.130000\n",
       "2017-01-01     19343.380000\n",
       "2018-01-01    133978.060000\n",
       "2019-01-01    -57908.700000\n",
       "Name: Loss Ratio, dtype: float64"
      ]
     },
     "execution_count": 18,
     "metadata": {},
     "output_type": "execute_result"
    }
   ],
   "source": [
    "target"
   ]
  },
  {
   "cell_type": "code",
   "execution_count": 4,
   "metadata": {},
   "outputs": [
    {
     "data": {
      "text/plain": [
       "-2.3"
      ]
     },
     "execution_count": 4,
     "metadata": {},
     "output_type": "execute_result"
    }
   ],
   "source": [
    "575/-250"
   ]
  },
  {
   "cell_type": "code",
   "execution_count": 25,
   "metadata": {},
   "outputs": [
    {
     "data": {
      "text/plain": [
       "Year\n",
       "2014    -28.290297\n",
       "2015      0.054640\n",
       "2016    188.725022\n",
       "2017     85.213128\n",
       "2018    575.013133\n",
       "2019   -249.606466\n",
       "Name: Loss Ratio, dtype: float64"
      ]
     },
     "execution_count": 25,
     "metadata": {},
     "output_type": "execute_result"
    }
   ],
   "source": [
    "ca_fire_ins_costs.groupby('Year')['Loss Ratio'].mean()"
   ]
  },
  {
   "cell_type": "code",
   "execution_count": 8,
   "metadata": {},
   "outputs": [],
   "source": [
    "x = ca_fire_ins_costs.groupby(['Year','Company'])['Loss Ratio'].mean()"
   ]
  },
  {
   "cell_type": "code",
   "execution_count": 25,
   "metadata": {},
   "outputs": [
    {
     "data": {
      "text/plain": [
       "54"
      ]
     },
     "execution_count": 25,
     "metadata": {},
     "output_type": "execute_result"
    }
   ],
   "source": [
    "len(ca_2019) -178"
   ]
  },
  {
   "cell_type": "code",
   "execution_count": 26,
   "metadata": {},
   "outputs": [
    {
     "data": {
      "text/html": [
       "<div>\n",
       "<style scoped>\n",
       "    .dataframe tbody tr th:only-of-type {\n",
       "        vertical-align: middle;\n",
       "    }\n",
       "\n",
       "    .dataframe tbody tr th {\n",
       "        vertical-align: top;\n",
       "    }\n",
       "\n",
       "    .dataframe thead th {\n",
       "        text-align: right;\n",
       "    }\n",
       "</style>\n",
       "<table border=\"1\" class=\"dataframe\">\n",
       "  <thead>\n",
       "    <tr style=\"text-align: right;\">\n",
       "      <th></th>\n",
       "      <th>Company</th>\n",
       "      <th>Written Premium (b)</th>\n",
       "      <th>Market Share</th>\n",
       "      <th>Earned Premium (b)</th>\n",
       "      <th>Incurred Loss (b)</th>\n",
       "      <th>Loss Ratio</th>\n",
       "      <th>Year</th>\n",
       "    </tr>\n",
       "  </thead>\n",
       "  <tbody>\n",
       "    <tr>\n",
       "      <th>154</th>\n",
       "      <td>Netherlands Ins Co The - 24171</td>\n",
       "      <td>210</td>\n",
       "      <td>0.0000%</td>\n",
       "      <td>2,017</td>\n",
       "      <td>(4,181,361)</td>\n",
       "      <td>-207305.95</td>\n",
       "      <td>2019</td>\n",
       "    </tr>\n",
       "    <tr>\n",
       "      <th>131</th>\n",
       "      <td>Liberty Mut Ins Co - 23043</td>\n",
       "      <td>5,450,668</td>\n",
       "      <td>0.5041%</td>\n",
       "      <td>3,471,371</td>\n",
       "      <td>(40,796,702)</td>\n",
       "      <td>-1175.23</td>\n",
       "      <td>2019</td>\n",
       "    </tr>\n",
       "    <tr>\n",
       "      <th>8</th>\n",
       "      <td>Allstate Ins Co - 19232</td>\n",
       "      <td>5,925</td>\n",
       "      <td>0.0005%</td>\n",
       "      <td>6,202</td>\n",
       "      <td>(58,384)</td>\n",
       "      <td>-941.37</td>\n",
       "      <td>2019</td>\n",
       "    </tr>\n",
       "    <tr>\n",
       "      <th>72</th>\n",
       "      <td>Factory Mut Ins Co - 21482</td>\n",
       "      <td>28,451,305</td>\n",
       "      <td>2.6314%</td>\n",
       "      <td>24,884,738</td>\n",
       "      <td>(158,462,041)</td>\n",
       "      <td>-636.78</td>\n",
       "      <td>2019</td>\n",
       "    </tr>\n",
       "    <tr>\n",
       "      <th>181</th>\n",
       "      <td>Sentry Select Ins Co - 21180</td>\n",
       "      <td>444,171</td>\n",
       "      <td>0.0411%</td>\n",
       "      <td>501,317</td>\n",
       "      <td>(2,293,620)</td>\n",
       "      <td>-457.52</td>\n",
       "      <td>2019</td>\n",
       "    </tr>\n",
       "    <tr>\n",
       "      <th>174</th>\n",
       "      <td>Riverport Ins Co - 36684</td>\n",
       "      <td>5,098</td>\n",
       "      <td>0.0005%</td>\n",
       "      <td>4,988</td>\n",
       "      <td>(13,014)</td>\n",
       "      <td>-260.91</td>\n",
       "      <td>2019</td>\n",
       "    </tr>\n",
       "    <tr>\n",
       "      <th>102</th>\n",
       "      <td>Great Amer Ins Co of NY - 22136</td>\n",
       "      <td>88,935</td>\n",
       "      <td>0.0082%</td>\n",
       "      <td>400,326</td>\n",
       "      <td>(753,523)</td>\n",
       "      <td>-188.23</td>\n",
       "      <td>2019</td>\n",
       "    </tr>\n",
       "    <tr>\n",
       "      <th>55</th>\n",
       "      <td>Continental Ins Co - 35289</td>\n",
       "      <td>585,254</td>\n",
       "      <td>0.0541%</td>\n",
       "      <td>275,749</td>\n",
       "      <td>(445,604)</td>\n",
       "      <td>-161.60</td>\n",
       "      <td>2019</td>\n",
       "    </tr>\n",
       "    <tr>\n",
       "      <th>108</th>\n",
       "      <td>Guideone Specialty Mut Ins Co - 14559</td>\n",
       "      <td>221,328</td>\n",
       "      <td>0.0205%</td>\n",
       "      <td>231,862</td>\n",
       "      <td>(372,729)</td>\n",
       "      <td>-160.75</td>\n",
       "      <td>2019</td>\n",
       "    </tr>\n",
       "    <tr>\n",
       "      <th>0</th>\n",
       "      <td>Acceptance Ind Ins Co - 20010</td>\n",
       "      <td>150</td>\n",
       "      <td>0.0000%</td>\n",
       "      <td>157</td>\n",
       "      <td>(196)</td>\n",
       "      <td>-124.84</td>\n",
       "      <td>2019</td>\n",
       "    </tr>\n",
       "  </tbody>\n",
       "</table>\n",
       "</div>"
      ],
      "text/plain": [
       "                                   Company  Written Premium (b)  Market Share  \\\n",
       "154         Netherlands Ins Co The - 24171                  210       0.0000%   \n",
       "131             Liberty Mut Ins Co - 23043            5,450,668       0.5041%   \n",
       "8                  Allstate Ins Co - 19232                5,925       0.0005%   \n",
       "72              Factory Mut Ins Co - 21482           28,451,305       2.6314%   \n",
       "181           Sentry Select Ins Co - 21180              444,171       0.0411%   \n",
       "174               Riverport Ins Co - 36684                5,098       0.0005%   \n",
       "102        Great Amer Ins Co of NY - 22136               88,935       0.0082%   \n",
       "55              Continental Ins Co - 35289              585,254       0.0541%   \n",
       "108  Guideone Specialty Mut Ins Co - 14559              221,328       0.0205%   \n",
       "0            Acceptance Ind Ins Co - 20010                  150       0.0000%   \n",
       "\n",
       "     Earned Premium (b)   Incurred Loss (b)   Loss Ratio  Year  \n",
       "154               2,017          (4,181,361)  -207305.95  2019  \n",
       "131           3,471,371         (40,796,702)    -1175.23  2019  \n",
       "8                 6,202             (58,384)     -941.37  2019  \n",
       "72           24,884,738        (158,462,041)     -636.78  2019  \n",
       "181             501,317          (2,293,620)     -457.52  2019  \n",
       "174               4,988             (13,014)     -260.91  2019  \n",
       "102             400,326            (753,523)     -188.23  2019  \n",
       "55              275,749            (445,604)     -161.60  2019  \n",
       "108             231,862            (372,729)     -160.75  2019  \n",
       "0                   157                (196)     -124.84  2019  "
      ]
     },
     "execution_count": 26,
     "metadata": {},
     "output_type": "execute_result"
    }
   ],
   "source": [
    "ca_2019=ca_fire_ins_costs[ca_fire_ins_costs['Year'] == 2019]\n",
    "\n",
    "len(ca_2019) - 178\n",
    "\n",
    "ca_2019[ca_2019['Loss Ratio'] < 0].sort_values(by='Loss Ratio')[:10]"
   ]
  },
  {
   "cell_type": "code",
   "execution_count": 26,
   "metadata": {},
   "outputs": [],
   "source": [
    "# This needs to be run through regex before we can aggregate\n",
    "\n",
    "# ca_fire_ins_costs.groupby('Year')[' Incurred Loss (b) '].mean()"
   ]
  },
  {
   "cell_type": "code",
   "execution_count": 27,
   "metadata": {},
   "outputs": [],
   "source": [
    "ca_gdp.rename(columns={'CARGSP':'gdp'},inplace=True)"
   ]
  },
  {
   "cell_type": "code",
   "execution_count": 28,
   "metadata": {},
   "outputs": [],
   "source": [
    "ca_household_income.rename(columns={'MEHOINUSCAA646N':\"median_houshold_income\"},inplace=True)"
   ]
  },
  {
   "cell_type": "code",
   "execution_count": 29,
   "metadata": {},
   "outputs": [],
   "source": [
    "ca_combined = ca_household_income.merge(ca_gdp,on='DATE',how='left')"
   ]
  },
  {
   "cell_type": "code",
   "execution_count": null,
   "metadata": {},
   "outputs": [],
   "source": []
  },
  {
   "cell_type": "code",
   "execution_count": 30,
   "metadata": {},
   "outputs": [],
   "source": [
    "ca_homeownership.rename(columns={'CAHOWN':'homeownership_pct'},inplace=True)"
   ]
  },
  {
   "cell_type": "code",
   "execution_count": 31,
   "metadata": {},
   "outputs": [],
   "source": [
    "ca_combined = ca_combined.merge(ca_homeownership,on='DATE',how='left')"
   ]
  },
  {
   "cell_type": "code",
   "execution_count": 32,
   "metadata": {},
   "outputs": [
    {
     "data": {
      "text/html": [
       "<div>\n",
       "<style scoped>\n",
       "    .dataframe tbody tr th:only-of-type {\n",
       "        vertical-align: middle;\n",
       "    }\n",
       "\n",
       "    .dataframe tbody tr th {\n",
       "        vertical-align: top;\n",
       "    }\n",
       "\n",
       "    .dataframe thead th {\n",
       "        text-align: right;\n",
       "    }\n",
       "</style>\n",
       "<table border=\"1\" class=\"dataframe\">\n",
       "  <thead>\n",
       "    <tr style=\"text-align: right;\">\n",
       "      <th></th>\n",
       "      <th>DATE</th>\n",
       "      <th>median_houshold_income</th>\n",
       "      <th>gdp</th>\n",
       "      <th>homeownership_pct</th>\n",
       "    </tr>\n",
       "  </thead>\n",
       "  <tbody>\n",
       "    <tr>\n",
       "      <th>0</th>\n",
       "      <td>1984-01-01</td>\n",
       "      <td>25287</td>\n",
       "      <td>NaN</td>\n",
       "      <td>53.7</td>\n",
       "    </tr>\n",
       "    <tr>\n",
       "      <th>1</th>\n",
       "      <td>1985-01-01</td>\n",
       "      <td>26981</td>\n",
       "      <td>NaN</td>\n",
       "      <td>54.2</td>\n",
       "    </tr>\n",
       "    <tr>\n",
       "      <th>2</th>\n",
       "      <td>1986-01-01</td>\n",
       "      <td>29010</td>\n",
       "      <td>NaN</td>\n",
       "      <td>53.8</td>\n",
       "    </tr>\n",
       "    <tr>\n",
       "      <th>3</th>\n",
       "      <td>1987-01-01</td>\n",
       "      <td>30146</td>\n",
       "      <td>NaN</td>\n",
       "      <td>54.3</td>\n",
       "    </tr>\n",
       "    <tr>\n",
       "      <th>4</th>\n",
       "      <td>1988-01-01</td>\n",
       "      <td>30287</td>\n",
       "      <td>NaN</td>\n",
       "      <td>54.4</td>\n",
       "    </tr>\n",
       "    <tr>\n",
       "      <th>5</th>\n",
       "      <td>1989-01-01</td>\n",
       "      <td>33009</td>\n",
       "      <td>NaN</td>\n",
       "      <td>53.6</td>\n",
       "    </tr>\n",
       "    <tr>\n",
       "      <th>6</th>\n",
       "      <td>1990-01-01</td>\n",
       "      <td>33290</td>\n",
       "      <td>NaN</td>\n",
       "      <td>53.8</td>\n",
       "    </tr>\n",
       "    <tr>\n",
       "      <th>7</th>\n",
       "      <td>1991-01-01</td>\n",
       "      <td>33664</td>\n",
       "      <td>NaN</td>\n",
       "      <td>54.5</td>\n",
       "    </tr>\n",
       "    <tr>\n",
       "      <th>8</th>\n",
       "      <td>1992-01-01</td>\n",
       "      <td>34903</td>\n",
       "      <td>NaN</td>\n",
       "      <td>55.3</td>\n",
       "    </tr>\n",
       "    <tr>\n",
       "      <th>9</th>\n",
       "      <td>1993-01-01</td>\n",
       "      <td>34073</td>\n",
       "      <td>NaN</td>\n",
       "      <td>56.0</td>\n",
       "    </tr>\n",
       "    <tr>\n",
       "      <th>10</th>\n",
       "      <td>1994-01-01</td>\n",
       "      <td>35331</td>\n",
       "      <td>NaN</td>\n",
       "      <td>55.5</td>\n",
       "    </tr>\n",
       "    <tr>\n",
       "      <th>11</th>\n",
       "      <td>1995-01-01</td>\n",
       "      <td>37009</td>\n",
       "      <td>NaN</td>\n",
       "      <td>55.4</td>\n",
       "    </tr>\n",
       "    <tr>\n",
       "      <th>12</th>\n",
       "      <td>1996-01-01</td>\n",
       "      <td>38812</td>\n",
       "      <td>NaN</td>\n",
       "      <td>55.0</td>\n",
       "    </tr>\n",
       "    <tr>\n",
       "      <th>13</th>\n",
       "      <td>1997-01-01</td>\n",
       "      <td>39694</td>\n",
       "      <td>1379722.1</td>\n",
       "      <td>55.7</td>\n",
       "    </tr>\n",
       "    <tr>\n",
       "      <th>14</th>\n",
       "      <td>1998-01-01</td>\n",
       "      <td>40934</td>\n",
       "      <td>1470543.0</td>\n",
       "      <td>56.0</td>\n",
       "    </tr>\n",
       "    <tr>\n",
       "      <th>15</th>\n",
       "      <td>1999-01-01</td>\n",
       "      <td>43629</td>\n",
       "      <td>1583231.3</td>\n",
       "      <td>55.7</td>\n",
       "    </tr>\n",
       "    <tr>\n",
       "      <th>16</th>\n",
       "      <td>2000-01-01</td>\n",
       "      <td>46816</td>\n",
       "      <td>1709490.6</td>\n",
       "      <td>57.1</td>\n",
       "    </tr>\n",
       "    <tr>\n",
       "      <th>17</th>\n",
       "      <td>2001-01-01</td>\n",
       "      <td>47262</td>\n",
       "      <td>1707064.7</td>\n",
       "      <td>58.2</td>\n",
       "    </tr>\n",
       "    <tr>\n",
       "      <th>18</th>\n",
       "      <td>2002-01-01</td>\n",
       "      <td>47437</td>\n",
       "      <td>1747199.5</td>\n",
       "      <td>57.7</td>\n",
       "    </tr>\n",
       "    <tr>\n",
       "      <th>19</th>\n",
       "      <td>2003-01-01</td>\n",
       "      <td>49300</td>\n",
       "      <td>1829296.5</td>\n",
       "      <td>58.9</td>\n",
       "    </tr>\n",
       "    <tr>\n",
       "      <th>20</th>\n",
       "      <td>2004-01-01</td>\n",
       "      <td>49222</td>\n",
       "      <td>1902550.4</td>\n",
       "      <td>59.7</td>\n",
       "    </tr>\n",
       "    <tr>\n",
       "      <th>21</th>\n",
       "      <td>2005-01-01</td>\n",
       "      <td>51755</td>\n",
       "      <td>1988736.5</td>\n",
       "      <td>59.7</td>\n",
       "    </tr>\n",
       "    <tr>\n",
       "      <th>22</th>\n",
       "      <td>2006-01-01</td>\n",
       "      <td>55319</td>\n",
       "      <td>2072274.1</td>\n",
       "      <td>60.2</td>\n",
       "    </tr>\n",
       "    <tr>\n",
       "      <th>23</th>\n",
       "      <td>2007-01-01</td>\n",
       "      <td>55734</td>\n",
       "      <td>2103014.8</td>\n",
       "      <td>58.3</td>\n",
       "    </tr>\n",
       "    <tr>\n",
       "      <th>24</th>\n",
       "      <td>2008-01-01</td>\n",
       "      <td>57014</td>\n",
       "      <td>2110596.1</td>\n",
       "      <td>57.5</td>\n",
       "    </tr>\n",
       "    <tr>\n",
       "      <th>25</th>\n",
       "      <td>2009-01-01</td>\n",
       "      <td>56134</td>\n",
       "      <td>2025633.2</td>\n",
       "      <td>57.0</td>\n",
       "    </tr>\n",
       "    <tr>\n",
       "      <th>26</th>\n",
       "      <td>2010-01-01</td>\n",
       "      <td>54283</td>\n",
       "      <td>2056990.4</td>\n",
       "      <td>56.1</td>\n",
       "    </tr>\n",
       "    <tr>\n",
       "      <th>27</th>\n",
       "      <td>2011-01-01</td>\n",
       "      <td>53367</td>\n",
       "      <td>2090836.8</td>\n",
       "      <td>55.3</td>\n",
       "    </tr>\n",
       "    <tr>\n",
       "      <th>28</th>\n",
       "      <td>2012-01-01</td>\n",
       "      <td>57020</td>\n",
       "      <td>2144089.6</td>\n",
       "      <td>54.5</td>\n",
       "    </tr>\n",
       "    <tr>\n",
       "      <th>29</th>\n",
       "      <td>2013-01-01</td>\n",
       "      <td>60794</td>\n",
       "      <td>2219610.5</td>\n",
       "      <td>54.3</td>\n",
       "    </tr>\n",
       "    <tr>\n",
       "      <th>30</th>\n",
       "      <td>2014-01-01</td>\n",
       "      <td>60487</td>\n",
       "      <td>2316331.2</td>\n",
       "      <td>54.2</td>\n",
       "    </tr>\n",
       "    <tr>\n",
       "      <th>31</th>\n",
       "      <td>2015-01-01</td>\n",
       "      <td>63636</td>\n",
       "      <td>2437366.9</td>\n",
       "      <td>54.3</td>\n",
       "    </tr>\n",
       "    <tr>\n",
       "      <th>32</th>\n",
       "      <td>2016-01-01</td>\n",
       "      <td>66637</td>\n",
       "      <td>2519133.6</td>\n",
       "      <td>53.8</td>\n",
       "    </tr>\n",
       "    <tr>\n",
       "      <th>33</th>\n",
       "      <td>2017-01-01</td>\n",
       "      <td>70038</td>\n",
       "      <td>2628314.6</td>\n",
       "      <td>54.4</td>\n",
       "    </tr>\n",
       "    <tr>\n",
       "      <th>34</th>\n",
       "      <td>2018-01-01</td>\n",
       "      <td>70489</td>\n",
       "      <td>2708966.9</td>\n",
       "      <td>55.1</td>\n",
       "    </tr>\n",
       "    <tr>\n",
       "      <th>35</th>\n",
       "      <td>2019-01-01</td>\n",
       "      <td>78105</td>\n",
       "      <td>2800505.4</td>\n",
       "      <td>54.8</td>\n",
       "    </tr>\n",
       "  </tbody>\n",
       "</table>\n",
       "</div>"
      ],
      "text/plain": [
       "          DATE  median_houshold_income        gdp  homeownership_pct\n",
       "0   1984-01-01                   25287        NaN               53.7\n",
       "1   1985-01-01                   26981        NaN               54.2\n",
       "2   1986-01-01                   29010        NaN               53.8\n",
       "3   1987-01-01                   30146        NaN               54.3\n",
       "4   1988-01-01                   30287        NaN               54.4\n",
       "5   1989-01-01                   33009        NaN               53.6\n",
       "6   1990-01-01                   33290        NaN               53.8\n",
       "7   1991-01-01                   33664        NaN               54.5\n",
       "8   1992-01-01                   34903        NaN               55.3\n",
       "9   1993-01-01                   34073        NaN               56.0\n",
       "10  1994-01-01                   35331        NaN               55.5\n",
       "11  1995-01-01                   37009        NaN               55.4\n",
       "12  1996-01-01                   38812        NaN               55.0\n",
       "13  1997-01-01                   39694  1379722.1               55.7\n",
       "14  1998-01-01                   40934  1470543.0               56.0\n",
       "15  1999-01-01                   43629  1583231.3               55.7\n",
       "16  2000-01-01                   46816  1709490.6               57.1\n",
       "17  2001-01-01                   47262  1707064.7               58.2\n",
       "18  2002-01-01                   47437  1747199.5               57.7\n",
       "19  2003-01-01                   49300  1829296.5               58.9\n",
       "20  2004-01-01                   49222  1902550.4               59.7\n",
       "21  2005-01-01                   51755  1988736.5               59.7\n",
       "22  2006-01-01                   55319  2072274.1               60.2\n",
       "23  2007-01-01                   55734  2103014.8               58.3\n",
       "24  2008-01-01                   57014  2110596.1               57.5\n",
       "25  2009-01-01                   56134  2025633.2               57.0\n",
       "26  2010-01-01                   54283  2056990.4               56.1\n",
       "27  2011-01-01                   53367  2090836.8               55.3\n",
       "28  2012-01-01                   57020  2144089.6               54.5\n",
       "29  2013-01-01                   60794  2219610.5               54.3\n",
       "30  2014-01-01                   60487  2316331.2               54.2\n",
       "31  2015-01-01                   63636  2437366.9               54.3\n",
       "32  2016-01-01                   66637  2519133.6               53.8\n",
       "33  2017-01-01                   70038  2628314.6               54.4\n",
       "34  2018-01-01                   70489  2708966.9               55.1\n",
       "35  2019-01-01                   78105  2800505.4               54.8"
      ]
     },
     "execution_count": 32,
     "metadata": {},
     "output_type": "execute_result"
    }
   ],
   "source": [
    "ca_combined"
   ]
  },
  {
   "cell_type": "code",
   "execution_count": 33,
   "metadata": {},
   "outputs": [],
   "source": [
    "ca_rental_vacancies.rename(columns={'CARVAC':'rental_vacancies'},inplace=True)"
   ]
  },
  {
   "cell_type": "code",
   "execution_count": 34,
   "metadata": {},
   "outputs": [],
   "source": [
    "ca_combined = ca_combined.merge(ca_rental_vacancies,on='DATE',how='left')"
   ]
  },
  {
   "cell_type": "code",
   "execution_count": 35,
   "metadata": {},
   "outputs": [
    {
     "name": "stdout",
     "output_type": "stream",
     "text": [
      "<class 'pandas.core.frame.DataFrame'>\n",
      "Int64Index: 36 entries, 0 to 35\n",
      "Data columns (total 5 columns):\n",
      " #   Column                  Non-Null Count  Dtype  \n",
      "---  ------                  --------------  -----  \n",
      " 0   DATE                    36 non-null     object \n",
      " 1   median_houshold_income  36 non-null     int64  \n",
      " 2   gdp                     23 non-null     float64\n",
      " 3   homeownership_pct       36 non-null     float64\n",
      " 4   rental_vacancies        34 non-null     float64\n",
      "dtypes: float64(3), int64(1), object(1)\n",
      "memory usage: 1.7+ KB\n"
     ]
    }
   ],
   "source": [
    "ca_combined.info()"
   ]
  },
  {
   "cell_type": "code",
   "execution_count": 36,
   "metadata": {},
   "outputs": [],
   "source": [
    "ca_county_tax_rev_per_capita.dropna(inplace=True)"
   ]
  },
  {
   "cell_type": "code",
   "execution_count": 37,
   "metadata": {
    "collapsed": true,
    "jupyter": {
     "outputs_hidden": true
    }
   },
   "outputs": [
    {
     "data": {
      "text/html": [
       "<div>\n",
       "<style scoped>\n",
       "    .dataframe tbody tr th:only-of-type {\n",
       "        vertical-align: middle;\n",
       "    }\n",
       "\n",
       "    .dataframe tbody tr th {\n",
       "        vertical-align: top;\n",
       "    }\n",
       "\n",
       "    .dataframe thead th {\n",
       "        text-align: right;\n",
       "    }\n",
       "</style>\n",
       "<table border=\"1\" class=\"dataframe\">\n",
       "  <thead>\n",
       "    <tr style=\"text-align: right;\">\n",
       "      <th></th>\n",
       "      <th>DATE</th>\n",
       "      <th>ca_per_cap_inc</th>\n",
       "      <th>%_change_ca</th>\n",
       "      <th>USA_per_cap_inc</th>\n",
       "      <th>%_change-USA</th>\n",
       "      <th>ca_%_of_USA</th>\n",
       "    </tr>\n",
       "  </thead>\n",
       "  <tbody>\n",
       "    <tr>\n",
       "      <th>0</th>\n",
       "      <td>1984-01-01</td>\n",
       "      <td>15895</td>\n",
       "      <td>0.09</td>\n",
       "      <td>13906</td>\n",
       "      <td>0.10</td>\n",
       "      <td>1.14</td>\n",
       "    </tr>\n",
       "    <tr>\n",
       "      <th>1</th>\n",
       "      <td>1985-01-01</td>\n",
       "      <td>16795</td>\n",
       "      <td>0.06</td>\n",
       "      <td>14755</td>\n",
       "      <td>0.06</td>\n",
       "      <td>1.14</td>\n",
       "    </tr>\n",
       "    <tr>\n",
       "      <th>2</th>\n",
       "      <td>1986-01-01</td>\n",
       "      <td>17588</td>\n",
       "      <td>0.05</td>\n",
       "      <td>15490</td>\n",
       "      <td>0.05</td>\n",
       "      <td>1.14</td>\n",
       "    </tr>\n",
       "    <tr>\n",
       "      <th>3</th>\n",
       "      <td>1987-01-01</td>\n",
       "      <td>18482</td>\n",
       "      <td>0.05</td>\n",
       "      <td>16289</td>\n",
       "      <td>0.05</td>\n",
       "      <td>1.13</td>\n",
       "    </tr>\n",
       "    <tr>\n",
       "      <th>4</th>\n",
       "      <td>1988-01-01</td>\n",
       "      <td>19605</td>\n",
       "      <td>0.06</td>\n",
       "      <td>17455</td>\n",
       "      <td>0.07</td>\n",
       "      <td>1.12</td>\n",
       "    </tr>\n",
       "    <tr>\n",
       "      <th>5</th>\n",
       "      <td>1989-01-01</td>\n",
       "      <td>20561</td>\n",
       "      <td>0.05</td>\n",
       "      <td>18676</td>\n",
       "      <td>0.07</td>\n",
       "      <td>1.10</td>\n",
       "    </tr>\n",
       "    <tr>\n",
       "      <th>6</th>\n",
       "      <td>1990-01-01</td>\n",
       "      <td>21485</td>\n",
       "      <td>0.04</td>\n",
       "      <td>19621</td>\n",
       "      <td>0.05</td>\n",
       "      <td>1.10</td>\n",
       "    </tr>\n",
       "    <tr>\n",
       "      <th>7</th>\n",
       "      <td>1991-01-01</td>\n",
       "      <td>21857</td>\n",
       "      <td>0.02</td>\n",
       "      <td>20030</td>\n",
       "      <td>0.02</td>\n",
       "      <td>1.09</td>\n",
       "    </tr>\n",
       "    <tr>\n",
       "      <th>8</th>\n",
       "      <td>1992-01-01</td>\n",
       "      <td>22678</td>\n",
       "      <td>0.04</td>\n",
       "      <td>21090</td>\n",
       "      <td>0.05</td>\n",
       "      <td>1.08</td>\n",
       "    </tr>\n",
       "    <tr>\n",
       "      <th>9</th>\n",
       "      <td>1993-01-01</td>\n",
       "      <td>23013</td>\n",
       "      <td>0.01</td>\n",
       "      <td>21733</td>\n",
       "      <td>0.03</td>\n",
       "      <td>1.06</td>\n",
       "    </tr>\n",
       "    <tr>\n",
       "      <th>10</th>\n",
       "      <td>1994-01-01</td>\n",
       "      <td>23581</td>\n",
       "      <td>0.02</td>\n",
       "      <td>22575</td>\n",
       "      <td>0.04</td>\n",
       "      <td>1.04</td>\n",
       "    </tr>\n",
       "    <tr>\n",
       "      <th>11</th>\n",
       "      <td>1995-01-01</td>\n",
       "      <td>24629</td>\n",
       "      <td>0.04</td>\n",
       "      <td>23607</td>\n",
       "      <td>0.05</td>\n",
       "      <td>1.04</td>\n",
       "    </tr>\n",
       "    <tr>\n",
       "      <th>12</th>\n",
       "      <td>1996-01-01</td>\n",
       "      <td>25912</td>\n",
       "      <td>0.05</td>\n",
       "      <td>24771</td>\n",
       "      <td>0.05</td>\n",
       "      <td>1.05</td>\n",
       "    </tr>\n",
       "    <tr>\n",
       "      <th>13</th>\n",
       "      <td>1997-01-01</td>\n",
       "      <td>27171</td>\n",
       "      <td>0.05</td>\n",
       "      <td>25993</td>\n",
       "      <td>0.05</td>\n",
       "      <td>1.05</td>\n",
       "    </tr>\n",
       "    <tr>\n",
       "      <th>14</th>\n",
       "      <td>1998-01-01</td>\n",
       "      <td>29100</td>\n",
       "      <td>0.07</td>\n",
       "      <td>27557</td>\n",
       "      <td>0.06</td>\n",
       "      <td>1.06</td>\n",
       "    </tr>\n",
       "    <tr>\n",
       "      <th>15</th>\n",
       "      <td>1999-01-01</td>\n",
       "      <td>30640</td>\n",
       "      <td>0.05</td>\n",
       "      <td>28675</td>\n",
       "      <td>0.04</td>\n",
       "      <td>1.07</td>\n",
       "    </tr>\n",
       "    <tr>\n",
       "      <th>16</th>\n",
       "      <td>2000-01-01</td>\n",
       "      <td>33364</td>\n",
       "      <td>0.09</td>\n",
       "      <td>30657</td>\n",
       "      <td>0.07</td>\n",
       "      <td>1.09</td>\n",
       "    </tr>\n",
       "    <tr>\n",
       "      <th>17</th>\n",
       "      <td>2001-01-01</td>\n",
       "      <td>34043</td>\n",
       "      <td>0.02</td>\n",
       "      <td>31589</td>\n",
       "      <td>0.03</td>\n",
       "      <td>1.08</td>\n",
       "    </tr>\n",
       "    <tr>\n",
       "      <th>18</th>\n",
       "      <td>2002-01-01</td>\n",
       "      <td>34214</td>\n",
       "      <td>0.01</td>\n",
       "      <td>31832</td>\n",
       "      <td>0.01</td>\n",
       "      <td>1.07</td>\n",
       "    </tr>\n",
       "    <tr>\n",
       "      <th>19</th>\n",
       "      <td>2003-01-01</td>\n",
       "      <td>35415</td>\n",
       "      <td>0.04</td>\n",
       "      <td>32681</td>\n",
       "      <td>0.03</td>\n",
       "      <td>1.08</td>\n",
       "    </tr>\n",
       "    <tr>\n",
       "      <th>20</th>\n",
       "      <td>2004-01-01</td>\n",
       "      <td>37369</td>\n",
       "      <td>0.06</td>\n",
       "      <td>34251</td>\n",
       "      <td>0.05</td>\n",
       "      <td>1.09</td>\n",
       "    </tr>\n",
       "    <tr>\n",
       "      <th>21</th>\n",
       "      <td>2005-01-01</td>\n",
       "      <td>39279</td>\n",
       "      <td>0.05</td>\n",
       "      <td>35849</td>\n",
       "      <td>0.05</td>\n",
       "      <td>1.10</td>\n",
       "    </tr>\n",
       "    <tr>\n",
       "      <th>22</th>\n",
       "      <td>2006-01-01</td>\n",
       "      <td>42088</td>\n",
       "      <td>0.07</td>\n",
       "      <td>38114</td>\n",
       "      <td>0.06</td>\n",
       "      <td>1.10</td>\n",
       "    </tr>\n",
       "    <tr>\n",
       "      <th>23</th>\n",
       "      <td>2007-01-01</td>\n",
       "      <td>43629</td>\n",
       "      <td>0.04</td>\n",
       "      <td>39844</td>\n",
       "      <td>0.05</td>\n",
       "      <td>1.09</td>\n",
       "    </tr>\n",
       "    <tr>\n",
       "      <th>24</th>\n",
       "      <td>2008-01-01</td>\n",
       "      <td>43890</td>\n",
       "      <td>0.01</td>\n",
       "      <td>40904</td>\n",
       "      <td>0.03</td>\n",
       "      <td>1.07</td>\n",
       "    </tr>\n",
       "    <tr>\n",
       "      <th>25</th>\n",
       "      <td>2009-01-01</td>\n",
       "      <td>42044</td>\n",
       "      <td>-0.04</td>\n",
       "      <td>39284</td>\n",
       "      <td>-0.04</td>\n",
       "      <td>1.07</td>\n",
       "    </tr>\n",
       "    <tr>\n",
       "      <th>26</th>\n",
       "      <td>2010-01-01</td>\n",
       "      <td>43636</td>\n",
       "      <td>0.04</td>\n",
       "      <td>40547</td>\n",
       "      <td>0.03</td>\n",
       "      <td>1.08</td>\n",
       "    </tr>\n",
       "    <tr>\n",
       "      <th>27</th>\n",
       "      <td>2011-01-01</td>\n",
       "      <td>46175</td>\n",
       "      <td>0.06</td>\n",
       "      <td>42739</td>\n",
       "      <td>0.05</td>\n",
       "      <td>1.08</td>\n",
       "    </tr>\n",
       "    <tr>\n",
       "      <th>28</th>\n",
       "      <td>2012-01-01</td>\n",
       "      <td>48813</td>\n",
       "      <td>0.06</td>\n",
       "      <td>44605</td>\n",
       "      <td>0.04</td>\n",
       "      <td>1.09</td>\n",
       "    </tr>\n",
       "    <tr>\n",
       "      <th>29</th>\n",
       "      <td>2013-01-01</td>\n",
       "      <td>49303</td>\n",
       "      <td>0.01</td>\n",
       "      <td>44860</td>\n",
       "      <td>0.01</td>\n",
       "      <td>1.10</td>\n",
       "    </tr>\n",
       "    <tr>\n",
       "      <th>30</th>\n",
       "      <td>2014-01-01</td>\n",
       "      <td>52363</td>\n",
       "      <td>0.06</td>\n",
       "      <td>47071</td>\n",
       "      <td>0.05</td>\n",
       "      <td>1.11</td>\n",
       "    </tr>\n",
       "    <tr>\n",
       "      <th>31</th>\n",
       "      <td>2015-01-01</td>\n",
       "      <td>55808</td>\n",
       "      <td>0.07</td>\n",
       "      <td>48994</td>\n",
       "      <td>0.04</td>\n",
       "      <td>1.14</td>\n",
       "    </tr>\n",
       "    <tr>\n",
       "      <th>32</th>\n",
       "      <td>2016-01-01</td>\n",
       "      <td>57801</td>\n",
       "      <td>0.04</td>\n",
       "      <td>49890</td>\n",
       "      <td>0.02</td>\n",
       "      <td>1.16</td>\n",
       "    </tr>\n",
       "    <tr>\n",
       "      <th>33</th>\n",
       "      <td>2017-01-01</td>\n",
       "      <td>60219</td>\n",
       "      <td>0.04</td>\n",
       "      <td>51910</td>\n",
       "      <td>0.04</td>\n",
       "      <td>1.16</td>\n",
       "    </tr>\n",
       "    <tr>\n",
       "      <th>34</th>\n",
       "      <td>2018-01-01</td>\n",
       "      <td>63711</td>\n",
       "      <td>0.06</td>\n",
       "      <td>54526</td>\n",
       "      <td>0.05</td>\n",
       "      <td>1.17</td>\n",
       "    </tr>\n",
       "    <tr>\n",
       "      <th>35</th>\n",
       "      <td>2019-01-01</td>\n",
       "      <td>66661</td>\n",
       "      <td>0.05</td>\n",
       "      <td>56663</td>\n",
       "      <td>0.04</td>\n",
       "      <td>1.18</td>\n",
       "    </tr>\n",
       "  </tbody>\n",
       "</table>\n",
       "</div>"
      ],
      "text/plain": [
       "          DATE  ca_per_cap_inc  %_change_ca  USA_per_cap_inc  %_change-USA  \\\n",
       "0   1984-01-01           15895         0.09            13906          0.10   \n",
       "1   1985-01-01           16795         0.06            14755          0.06   \n",
       "2   1986-01-01           17588         0.05            15490          0.05   \n",
       "3   1987-01-01           18482         0.05            16289          0.05   \n",
       "4   1988-01-01           19605         0.06            17455          0.07   \n",
       "5   1989-01-01           20561         0.05            18676          0.07   \n",
       "6   1990-01-01           21485         0.04            19621          0.05   \n",
       "7   1991-01-01           21857         0.02            20030          0.02   \n",
       "8   1992-01-01           22678         0.04            21090          0.05   \n",
       "9   1993-01-01           23013         0.01            21733          0.03   \n",
       "10  1994-01-01           23581         0.02            22575          0.04   \n",
       "11  1995-01-01           24629         0.04            23607          0.05   \n",
       "12  1996-01-01           25912         0.05            24771          0.05   \n",
       "13  1997-01-01           27171         0.05            25993          0.05   \n",
       "14  1998-01-01           29100         0.07            27557          0.06   \n",
       "15  1999-01-01           30640         0.05            28675          0.04   \n",
       "16  2000-01-01           33364         0.09            30657          0.07   \n",
       "17  2001-01-01           34043         0.02            31589          0.03   \n",
       "18  2002-01-01           34214         0.01            31832          0.01   \n",
       "19  2003-01-01           35415         0.04            32681          0.03   \n",
       "20  2004-01-01           37369         0.06            34251          0.05   \n",
       "21  2005-01-01           39279         0.05            35849          0.05   \n",
       "22  2006-01-01           42088         0.07            38114          0.06   \n",
       "23  2007-01-01           43629         0.04            39844          0.05   \n",
       "24  2008-01-01           43890         0.01            40904          0.03   \n",
       "25  2009-01-01           42044        -0.04            39284         -0.04   \n",
       "26  2010-01-01           43636         0.04            40547          0.03   \n",
       "27  2011-01-01           46175         0.06            42739          0.05   \n",
       "28  2012-01-01           48813         0.06            44605          0.04   \n",
       "29  2013-01-01           49303         0.01            44860          0.01   \n",
       "30  2014-01-01           52363         0.06            47071          0.05   \n",
       "31  2015-01-01           55808         0.07            48994          0.04   \n",
       "32  2016-01-01           57801         0.04            49890          0.02   \n",
       "33  2017-01-01           60219         0.04            51910          0.04   \n",
       "34  2018-01-01           63711         0.06            54526          0.05   \n",
       "35  2019-01-01           66661         0.05            56663          0.04   \n",
       "\n",
       "    ca_%_of_USA  \n",
       "0          1.14  \n",
       "1          1.14  \n",
       "2          1.14  \n",
       "3          1.13  \n",
       "4          1.12  \n",
       "5          1.10  \n",
       "6          1.10  \n",
       "7          1.09  \n",
       "8          1.08  \n",
       "9          1.06  \n",
       "10         1.04  \n",
       "11         1.04  \n",
       "12         1.05  \n",
       "13         1.05  \n",
       "14         1.06  \n",
       "15         1.07  \n",
       "16         1.09  \n",
       "17         1.08  \n",
       "18         1.07  \n",
       "19         1.08  \n",
       "20         1.09  \n",
       "21         1.10  \n",
       "22         1.10  \n",
       "23         1.09  \n",
       "24         1.07  \n",
       "25         1.07  \n",
       "26         1.08  \n",
       "27         1.08  \n",
       "28         1.09  \n",
       "29         1.10  \n",
       "30         1.11  \n",
       "31         1.14  \n",
       "32         1.16  \n",
       "33         1.16  \n",
       "34         1.17  \n",
       "35         1.18  "
      ]
     },
     "execution_count": 37,
     "metadata": {},
     "output_type": "execute_result"
    }
   ],
   "source": [
    "ca_per_cap_personal_income"
   ]
  },
  {
   "cell_type": "code",
   "execution_count": 38,
   "metadata": {},
   "outputs": [],
   "source": [
    "ca_combined = ca_combined.merge(ca_per_cap_personal_income,on='DATE',how='left')"
   ]
  },
  {
   "cell_type": "code",
   "execution_count": 41,
   "metadata": {},
   "outputs": [],
   "source": [
    "ca_combined.to_csv('jerry_data/combined_ca_annual.csv',index=False)"
   ]
  },
  {
   "cell_type": "code",
   "execution_count": 40,
   "metadata": {},
   "outputs": [
    {
     "data": {
      "text/html": [
       "<div>\n",
       "<style scoped>\n",
       "    .dataframe tbody tr th:only-of-type {\n",
       "        vertical-align: middle;\n",
       "    }\n",
       "\n",
       "    .dataframe tbody tr th {\n",
       "        vertical-align: top;\n",
       "    }\n",
       "\n",
       "    .dataframe thead th {\n",
       "        text-align: right;\n",
       "    }\n",
       "</style>\n",
       "<table border=\"1\" class=\"dataframe\">\n",
       "  <thead>\n",
       "    <tr style=\"text-align: right;\">\n",
       "      <th></th>\n",
       "      <th>0</th>\n",
       "      <th>1</th>\n",
       "      <th>2</th>\n",
       "      <th>3</th>\n",
       "      <th>4</th>\n",
       "      <th>5</th>\n",
       "      <th>6</th>\n",
       "    </tr>\n",
       "  </thead>\n",
       "  <tbody>\n",
       "    <tr>\n",
       "      <th>assessment_agency_and_type_of_property</th>\n",
       "      <td>Land</td>\n",
       "      <td>Improvements</td>\n",
       "      <td>Real property totals</td>\n",
       "      <td>Tangible personal property</td>\n",
       "      <td>Gross tangible property totals</td>\n",
       "      <td>Net of \"all other exemptions\" b/</td>\n",
       "      <td>Net of all exemptions</td>\n",
       "    </tr>\n",
       "    <tr>\n",
       "      <th>2017-2018</th>\n",
       "      <td>2613741536000</td>\n",
       "      <td>3210576331000</td>\n",
       "      <td>5824317867000</td>\n",
       "      <td>215551129000</td>\n",
       "      <td>6039868996000</td>\n",
       "      <td>5839932017000</td>\n",
       "      <td>5804689067000</td>\n",
       "    </tr>\n",
       "    <tr>\n",
       "      <th>2016-2017</th>\n",
       "      <td>2444437742000</td>\n",
       "      <td>3031955786000</td>\n",
       "      <td>5476393528000</td>\n",
       "      <td>213026752000</td>\n",
       "      <td>5689420280000</td>\n",
       "      <td>5499696494000</td>\n",
       "      <td>5463988950000</td>\n",
       "    </tr>\n",
       "    <tr>\n",
       "      <th>2015-2016</th>\n",
       "      <td>2308106648000</td>\n",
       "      <td>2882635609000</td>\n",
       "      <td>5190742257000</td>\n",
       "      <td>206355413000</td>\n",
       "      <td>5397097670000</td>\n",
       "      <td>5215173280000</td>\n",
       "      <td>5179173449000</td>\n",
       "    </tr>\n",
       "    <tr>\n",
       "      <th>2014-2015</th>\n",
       "      <td>2172253851000</td>\n",
       "      <td>2725742210000</td>\n",
       "      <td>4897996061000</td>\n",
       "      <td>196401461000</td>\n",
       "      <td>5094397522000</td>\n",
       "      <td>4919158715000</td>\n",
       "      <td>4882828822000</td>\n",
       "    </tr>\n",
       "    <tr>\n",
       "      <th>2013-2014</th>\n",
       "      <td>2033100408000</td>\n",
       "      <td>2580676544000</td>\n",
       "      <td>4613776952000</td>\n",
       "      <td>188497484000</td>\n",
       "      <td>4802274436000</td>\n",
       "      <td>4636211948000</td>\n",
       "      <td>4599363470000</td>\n",
       "    </tr>\n",
       "    <tr>\n",
       "      <th>2012-2013</th>\n",
       "      <td>1939403893000</td>\n",
       "      <td>2475311555000</td>\n",
       "      <td>4414715449000</td>\n",
       "      <td>185530241000</td>\n",
       "      <td>4600245690000</td>\n",
       "      <td>4444104156000</td>\n",
       "      <td>4406587107000</td>\n",
       "    </tr>\n",
       "    <tr>\n",
       "      <th>2011-2012</th>\n",
       "      <td>1914015471000</td>\n",
       "      <td>2435006049000</td>\n",
       "      <td>4349021520000</td>\n",
       "      <td>183839781000</td>\n",
       "      <td>4532861301000</td>\n",
       "      <td>4382477939000</td>\n",
       "      <td>4344340278000</td>\n",
       "    </tr>\n",
       "    <tr>\n",
       "      <th>2010-2011</th>\n",
       "      <td>1902184206000</td>\n",
       "      <td>2422397382000</td>\n",
       "      <td>4324581588000</td>\n",
       "      <td>186432470000</td>\n",
       "      <td>4511014058000</td>\n",
       "      <td>4370748767000</td>\n",
       "      <td>4332171876000</td>\n",
       "    </tr>\n",
       "    <tr>\n",
       "      <th>2009-2010</th>\n",
       "      <td>1937054990000</td>\n",
       "      <td>2451198393000</td>\n",
       "      <td>4388253383000</td>\n",
       "      <td>197054348000</td>\n",
       "      <td>4585307731000</td>\n",
       "      <td>4448943958000</td>\n",
       "      <td>4410239818000</td>\n",
       "    </tr>\n",
       "    <tr>\n",
       "      <th>2008-2009</th>\n",
       "      <td>1999943474000</td>\n",
       "      <td>2483453491000</td>\n",
       "      <td>4483396965000</td>\n",
       "      <td>194847911000</td>\n",
       "      <td>4678244877000</td>\n",
       "      <td>4555203515000</td>\n",
       "      <td>4516532131000</td>\n",
       "    </tr>\n",
       "    <tr>\n",
       "      <th>2007-2008</th>\n",
       "      <td>1894668558000</td>\n",
       "      <td>2383796058000</td>\n",
       "      <td>4278464616000</td>\n",
       "      <td>185219619000</td>\n",
       "      <td>4463684235000</td>\n",
       "      <td>4350737317000</td>\n",
       "      <td>4312253496000</td>\n",
       "    </tr>\n",
       "  </tbody>\n",
       "</table>\n",
       "</div>"
      ],
      "text/plain": [
       "                                                    0              1  \\\n",
       "assessment_agency_and_type_of_property           Land   Improvements   \n",
       "2017-2018                               2613741536000  3210576331000   \n",
       "2016-2017                               2444437742000  3031955786000   \n",
       "2015-2016                               2308106648000  2882635609000   \n",
       "2014-2015                               2172253851000  2725742210000   \n",
       "2013-2014                               2033100408000  2580676544000   \n",
       "2012-2013                               1939403893000  2475311555000   \n",
       "2011-2012                               1914015471000  2435006049000   \n",
       "2010-2011                               1902184206000  2422397382000   \n",
       "2009-2010                               1937054990000  2451198393000   \n",
       "2008-2009                               1999943474000  2483453491000   \n",
       "2007-2008                               1894668558000  2383796058000   \n",
       "\n",
       "                                                           2  \\\n",
       "assessment_agency_and_type_of_property  Real property totals   \n",
       "2017-2018                                      5824317867000   \n",
       "2016-2017                                      5476393528000   \n",
       "2015-2016                                      5190742257000   \n",
       "2014-2015                                      4897996061000   \n",
       "2013-2014                                      4613776952000   \n",
       "2012-2013                                      4414715449000   \n",
       "2011-2012                                      4349021520000   \n",
       "2010-2011                                      4324581588000   \n",
       "2009-2010                                      4388253383000   \n",
       "2008-2009                                      4483396965000   \n",
       "2007-2008                                      4278464616000   \n",
       "\n",
       "                                                                 3  \\\n",
       "assessment_agency_and_type_of_property  Tangible personal property   \n",
       "2017-2018                                             215551129000   \n",
       "2016-2017                                             213026752000   \n",
       "2015-2016                                             206355413000   \n",
       "2014-2015                                             196401461000   \n",
       "2013-2014                                             188497484000   \n",
       "2012-2013                                             185530241000   \n",
       "2011-2012                                             183839781000   \n",
       "2010-2011                                             186432470000   \n",
       "2009-2010                                             197054348000   \n",
       "2008-2009                                             194847911000   \n",
       "2007-2008                                             185219619000   \n",
       "\n",
       "                                                                     4  \\\n",
       "assessment_agency_and_type_of_property  Gross tangible property totals   \n",
       "2017-2018                                                6039868996000   \n",
       "2016-2017                                                5689420280000   \n",
       "2015-2016                                                5397097670000   \n",
       "2014-2015                                                5094397522000   \n",
       "2013-2014                                                4802274436000   \n",
       "2012-2013                                                4600245690000   \n",
       "2011-2012                                                4532861301000   \n",
       "2010-2011                                                4511014058000   \n",
       "2009-2010                                                4585307731000   \n",
       "2008-2009                                                4678244877000   \n",
       "2007-2008                                                4463684235000   \n",
       "\n",
       "                                                                       5  \\\n",
       "assessment_agency_and_type_of_property  Net of \"all other exemptions\" b/   \n",
       "2017-2018                                                  5839932017000   \n",
       "2016-2017                                                  5499696494000   \n",
       "2015-2016                                                  5215173280000   \n",
       "2014-2015                                                  4919158715000   \n",
       "2013-2014                                                  4636211948000   \n",
       "2012-2013                                                  4444104156000   \n",
       "2011-2012                                                  4382477939000   \n",
       "2010-2011                                                  4370748767000   \n",
       "2009-2010                                                  4448943958000   \n",
       "2008-2009                                                  4555203515000   \n",
       "2007-2008                                                  4350737317000   \n",
       "\n",
       "                                                            6  \n",
       "assessment_agency_and_type_of_property  Net of all exemptions  \n",
       "2017-2018                                       5804689067000  \n",
       "2016-2017                                       5463988950000  \n",
       "2015-2016                                       5179173449000  \n",
       "2014-2015                                       4882828822000  \n",
       "2013-2014                                       4599363470000  \n",
       "2012-2013                                       4406587107000  \n",
       "2011-2012                                       4344340278000  \n",
       "2010-2011                                       4332171876000  \n",
       "2009-2010                                       4410239818000  \n",
       "2008-2009                                       4516532131000  \n",
       "2007-2008                                       4312253496000  "
      ]
     },
     "execution_count": 40,
     "metadata": {},
     "output_type": "execute_result"
    }
   ],
   "source": [
    "ca_state_property_tax.T"
   ]
  },
  {
   "cell_type": "code",
   "execution_count": null,
   "metadata": {},
   "outputs": [],
   "source": []
  },
  {
   "cell_type": "markdown",
   "metadata": {},
   "source": [
    "---"
   ]
  },
  {
   "cell_type": "markdown",
   "metadata": {},
   "source": [
    "#### Quarterly"
   ]
  },
  {
   "cell_type": "code",
   "execution_count": 2,
   "metadata": {},
   "outputs": [],
   "source": [
    "df_all_wages = pd.read_csv('./jerry_data/CAWTOT.csv')"
   ]
  },
  {
   "cell_type": "code",
   "execution_count": 3,
   "metadata": {},
   "outputs": [
    {
     "data": {
      "text/html": [
       "<div>\n",
       "<style scoped>\n",
       "    .dataframe tbody tr th:only-of-type {\n",
       "        vertical-align: middle;\n",
       "    }\n",
       "\n",
       "    .dataframe tbody tr th {\n",
       "        vertical-align: top;\n",
       "    }\n",
       "\n",
       "    .dataframe thead th {\n",
       "        text-align: right;\n",
       "    }\n",
       "</style>\n",
       "<table border=\"1\" class=\"dataframe\">\n",
       "  <thead>\n",
       "    <tr style=\"text-align: right;\">\n",
       "      <th></th>\n",
       "      <th>DATE</th>\n",
       "      <th>CAWTOT</th>\n",
       "    </tr>\n",
       "  </thead>\n",
       "  <tbody>\n",
       "    <tr>\n",
       "      <th>0</th>\n",
       "      <td>1998-01-01</td>\n",
       "      <td>5.057518e+08</td>\n",
       "    </tr>\n",
       "    <tr>\n",
       "      <th>1</th>\n",
       "      <td>1998-04-01</td>\n",
       "      <td>5.094656e+08</td>\n",
       "    </tr>\n",
       "    <tr>\n",
       "      <th>2</th>\n",
       "      <td>1998-07-01</td>\n",
       "      <td>5.210804e+08</td>\n",
       "    </tr>\n",
       "    <tr>\n",
       "      <th>3</th>\n",
       "      <td>1998-10-01</td>\n",
       "      <td>5.340726e+08</td>\n",
       "    </tr>\n",
       "    <tr>\n",
       "      <th>4</th>\n",
       "      <td>1999-01-01</td>\n",
       "      <td>5.466781e+08</td>\n",
       "    </tr>\n",
       "    <tr>\n",
       "      <th>...</th>\n",
       "      <td>...</td>\n",
       "      <td>...</td>\n",
       "    </tr>\n",
       "    <tr>\n",
       "      <th>85</th>\n",
       "      <td>2019-04-01</td>\n",
       "      <td>1.328852e+09</td>\n",
       "    </tr>\n",
       "    <tr>\n",
       "      <th>86</th>\n",
       "      <td>2019-07-01</td>\n",
       "      <td>1.328657e+09</td>\n",
       "    </tr>\n",
       "    <tr>\n",
       "      <th>87</th>\n",
       "      <td>2019-10-01</td>\n",
       "      <td>1.359448e+09</td>\n",
       "    </tr>\n",
       "    <tr>\n",
       "      <th>88</th>\n",
       "      <td>2020-01-01</td>\n",
       "      <td>1.380041e+09</td>\n",
       "    </tr>\n",
       "    <tr>\n",
       "      <th>89</th>\n",
       "      <td>2020-04-01</td>\n",
       "      <td>1.269372e+09</td>\n",
       "    </tr>\n",
       "  </tbody>\n",
       "</table>\n",
       "<p>90 rows × 2 columns</p>\n",
       "</div>"
      ],
      "text/plain": [
       "          DATE        CAWTOT\n",
       "0   1998-01-01  5.057518e+08\n",
       "1   1998-04-01  5.094656e+08\n",
       "2   1998-07-01  5.210804e+08\n",
       "3   1998-10-01  5.340726e+08\n",
       "4   1999-01-01  5.466781e+08\n",
       "..         ...           ...\n",
       "85  2019-04-01  1.328852e+09\n",
       "86  2019-07-01  1.328657e+09\n",
       "87  2019-10-01  1.359448e+09\n",
       "88  2020-01-01  1.380041e+09\n",
       "89  2020-04-01  1.269372e+09\n",
       "\n",
       "[90 rows x 2 columns]"
      ]
     },
     "execution_count": 3,
     "metadata": {},
     "output_type": "execute_result"
    }
   ],
   "source": [
    "df_all_wages"
   ]
  },
  {
   "cell_type": "code",
   "execution_count": 28,
   "metadata": {},
   "outputs": [],
   "source": [
    "df_construction_wages = pd.read_csv('./jerry_data/CAWCON.csv')"
   ]
  },
  {
   "cell_type": "code",
   "execution_count": 30,
   "metadata": {},
   "outputs": [],
   "source": [
    "df_hospitality_wages = pd.read_csv('./jerry_data/CAWACC.csv')"
   ]
  },
  {
   "cell_type": "code",
   "execution_count": 31,
   "metadata": {},
   "outputs": [],
   "source": [
    "df_realestate_wages = pd.read_csv('./jerry_data/CAWREA.csv')"
   ]
  },
  {
   "cell_type": "code",
   "execution_count": 33,
   "metadata": {},
   "outputs": [],
   "source": [
    "df_houseprice_index = pd.read_csv('./jerry_data/CASTHPI.csv')"
   ]
  },
  {
   "cell_type": "markdown",
   "metadata": {},
   "source": [
    "##### Merge into one data frame"
   ]
  },
  {
   "cell_type": "code",
   "execution_count": null,
   "metadata": {},
   "outputs": [],
   "source": []
  },
  {
   "cell_type": "markdown",
   "metadata": {},
   "source": [
    "---"
   ]
  },
  {
   "cell_type": "markdown",
   "metadata": {},
   "source": [
    "#### Monthly"
   ]
  },
  {
   "cell_type": "code",
   "execution_count": 8,
   "metadata": {},
   "outputs": [],
   "source": [
    "df_unemployment = pd.read_csv('./jerry_data/CAUR.csv')"
   ]
  },
  {
   "cell_type": "code",
   "execution_count": 10,
   "metadata": {},
   "outputs": [
    {
     "data": {
      "text/html": [
       "<div>\n",
       "<style scoped>\n",
       "    .dataframe tbody tr th:only-of-type {\n",
       "        vertical-align: middle;\n",
       "    }\n",
       "\n",
       "    .dataframe tbody tr th {\n",
       "        vertical-align: top;\n",
       "    }\n",
       "\n",
       "    .dataframe thead th {\n",
       "        text-align: right;\n",
       "    }\n",
       "</style>\n",
       "<table border=\"1\" class=\"dataframe\">\n",
       "  <thead>\n",
       "    <tr style=\"text-align: right;\">\n",
       "      <th></th>\n",
       "      <th>CAUR</th>\n",
       "    </tr>\n",
       "  </thead>\n",
       "  <tbody>\n",
       "    <tr>\n",
       "      <th>count</th>\n",
       "      <td>537.000000</td>\n",
       "    </tr>\n",
       "    <tr>\n",
       "      <th>mean</th>\n",
       "      <td>7.241713</td>\n",
       "    </tr>\n",
       "    <tr>\n",
       "      <th>std</th>\n",
       "      <td>2.159086</td>\n",
       "    </tr>\n",
       "    <tr>\n",
       "      <th>min</th>\n",
       "      <td>3.900000</td>\n",
       "    </tr>\n",
       "    <tr>\n",
       "      <th>25%</th>\n",
       "      <td>5.500000</td>\n",
       "    </tr>\n",
       "    <tr>\n",
       "      <th>50%</th>\n",
       "      <td>6.800000</td>\n",
       "    </tr>\n",
       "    <tr>\n",
       "      <th>75%</th>\n",
       "      <td>8.600000</td>\n",
       "    </tr>\n",
       "    <tr>\n",
       "      <th>max</th>\n",
       "      <td>16.400000</td>\n",
       "    </tr>\n",
       "  </tbody>\n",
       "</table>\n",
       "</div>"
      ],
      "text/plain": [
       "             CAUR\n",
       "count  537.000000\n",
       "mean     7.241713\n",
       "std      2.159086\n",
       "min      3.900000\n",
       "25%      5.500000\n",
       "50%      6.800000\n",
       "75%      8.600000\n",
       "max     16.400000"
      ]
     },
     "execution_count": 10,
     "metadata": {},
     "output_type": "execute_result"
    }
   ],
   "source": [
    "df_unemployment.describe()"
   ]
  },
  {
   "cell_type": "code",
   "execution_count": 12,
   "metadata": {},
   "outputs": [],
   "source": [
    "df_building_permits = pd.read_csv('./jerry_data/CABPPRIVSA.csv')"
   ]
  },
  {
   "cell_type": "code",
   "execution_count": 13,
   "metadata": {},
   "outputs": [
    {
     "data": {
      "text/html": [
       "<div>\n",
       "<style scoped>\n",
       "    .dataframe tbody tr th:only-of-type {\n",
       "        vertical-align: middle;\n",
       "    }\n",
       "\n",
       "    .dataframe tbody tr th {\n",
       "        vertical-align: top;\n",
       "    }\n",
       "\n",
       "    .dataframe thead th {\n",
       "        text-align: right;\n",
       "    }\n",
       "</style>\n",
       "<table border=\"1\" class=\"dataframe\">\n",
       "  <thead>\n",
       "    <tr style=\"text-align: right;\">\n",
       "      <th></th>\n",
       "      <th>DATE</th>\n",
       "      <th>CABPPRIVSA</th>\n",
       "    </tr>\n",
       "  </thead>\n",
       "  <tbody>\n",
       "    <tr>\n",
       "      <th>0</th>\n",
       "      <td>1988-01-01</td>\n",
       "      <td>16466.483109</td>\n",
       "    </tr>\n",
       "    <tr>\n",
       "      <th>1</th>\n",
       "      <td>1988-02-01</td>\n",
       "      <td>19704.378621</td>\n",
       "    </tr>\n",
       "    <tr>\n",
       "      <th>2</th>\n",
       "      <td>1988-03-01</td>\n",
       "      <td>19420.945694</td>\n",
       "    </tr>\n",
       "    <tr>\n",
       "      <th>3</th>\n",
       "      <td>1988-04-01</td>\n",
       "      <td>21148.677854</td>\n",
       "    </tr>\n",
       "    <tr>\n",
       "      <th>4</th>\n",
       "      <td>1988-05-01</td>\n",
       "      <td>19129.807991</td>\n",
       "    </tr>\n",
       "    <tr>\n",
       "      <th>...</th>\n",
       "      <td>...</td>\n",
       "      <td>...</td>\n",
       "    </tr>\n",
       "    <tr>\n",
       "      <th>387</th>\n",
       "      <td>2020-04-01</td>\n",
       "      <td>6047.138500</td>\n",
       "    </tr>\n",
       "    <tr>\n",
       "      <th>388</th>\n",
       "      <td>2020-05-01</td>\n",
       "      <td>6342.133603</td>\n",
       "    </tr>\n",
       "    <tr>\n",
       "      <th>389</th>\n",
       "      <td>2020-06-01</td>\n",
       "      <td>7634.535211</td>\n",
       "    </tr>\n",
       "    <tr>\n",
       "      <th>390</th>\n",
       "      <td>2020-07-01</td>\n",
       "      <td>10344.315562</td>\n",
       "    </tr>\n",
       "    <tr>\n",
       "      <th>391</th>\n",
       "      <td>2020-08-01</td>\n",
       "      <td>8353.870099</td>\n",
       "    </tr>\n",
       "  </tbody>\n",
       "</table>\n",
       "<p>392 rows × 2 columns</p>\n",
       "</div>"
      ],
      "text/plain": [
       "           DATE    CABPPRIVSA\n",
       "0    1988-01-01  16466.483109\n",
       "1    1988-02-01  19704.378621\n",
       "2    1988-03-01  19420.945694\n",
       "3    1988-04-01  21148.677854\n",
       "4    1988-05-01  19129.807991\n",
       "..          ...           ...\n",
       "387  2020-04-01   6047.138500\n",
       "388  2020-05-01   6342.133603\n",
       "389  2020-06-01   7634.535211\n",
       "390  2020-07-01  10344.315562\n",
       "391  2020-08-01   8353.870099\n",
       "\n",
       "[392 rows x 2 columns]"
      ]
     },
     "execution_count": 13,
     "metadata": {},
     "output_type": "execute_result"
    }
   ],
   "source": [
    "df_building_permits"
   ]
  },
  {
   "cell_type": "code",
   "execution_count": 3,
   "metadata": {},
   "outputs": [
    {
     "ename": "NameError",
     "evalue": "name 'pd' is not defined",
     "output_type": "error",
     "traceback": [
      "\u001b[1;31m---------------------------------------------------------------------------\u001b[0m",
      "\u001b[1;31mNameError\u001b[0m                                 Traceback (most recent call last)",
      "\u001b[1;32m<ipython-input-3-bdb331e95825>\u001b[0m in \u001b[0;36m<module>\u001b[1;34m\u001b[0m\n\u001b[1;32m----> 1\u001b[1;33m \u001b[0mdf_winery_ppi\u001b[0m \u001b[1;33m=\u001b[0m \u001b[0mpd\u001b[0m\u001b[1;33m.\u001b[0m\u001b[0mread_csv\u001b[0m\u001b[1;33m(\u001b[0m\u001b[1;34m'./jerry_data/PCU3121331213.csv'\u001b[0m\u001b[1;33m)\u001b[0m\u001b[1;33m\u001b[0m\u001b[1;33m\u001b[0m\u001b[0m\n\u001b[0m",
      "\u001b[1;31mNameError\u001b[0m: name 'pd' is not defined"
     ]
    }
   ],
   "source": [
    "df_winery_ppi = pd.read_csv('./jerry_data/PCU3121331213.csv')"
   ]
  },
  {
   "cell_type": "code",
   "execution_count": 2,
   "metadata": {},
   "outputs": [
    {
     "ename": "NameError",
     "evalue": "name 'df_winery_ppi' is not defined",
     "output_type": "error",
     "traceback": [
      "\u001b[1;31m---------------------------------------------------------------------------\u001b[0m",
      "\u001b[1;31mNameError\u001b[0m                                 Traceback (most recent call last)",
      "\u001b[1;32m<ipython-input-2-0dd0a9ef8e07>\u001b[0m in \u001b[0;36m<module>\u001b[1;34m\u001b[0m\n\u001b[1;32m----> 1\u001b[1;33m \u001b[0mdf_winery_ppi\u001b[0m\u001b[1;33m\u001b[0m\u001b[1;33m\u001b[0m\u001b[0m\n\u001b[0m",
      "\u001b[1;31mNameError\u001b[0m: name 'df_winery_ppi' is not defined"
     ]
    }
   ],
   "source": [
    "df_winery_ppi"
   ]
  },
  {
   "cell_type": "code",
   "execution_count": 4,
   "metadata": {},
   "outputs": [],
   "source": [
    "ca_unemp_claims = pd.read_csv('./jerry_data/CAICLAIMS.csv')"
   ]
  },
  {
   "cell_type": "code",
   "execution_count": 5,
   "metadata": {},
   "outputs": [
    {
     "data": {
      "text/html": [
       "<div>\n",
       "<style scoped>\n",
       "    .dataframe tbody tr th:only-of-type {\n",
       "        vertical-align: middle;\n",
       "    }\n",
       "\n",
       "    .dataframe tbody tr th {\n",
       "        vertical-align: top;\n",
       "    }\n",
       "\n",
       "    .dataframe thead th {\n",
       "        text-align: right;\n",
       "    }\n",
       "</style>\n",
       "<table border=\"1\" class=\"dataframe\">\n",
       "  <thead>\n",
       "    <tr style=\"text-align: right;\">\n",
       "      <th></th>\n",
       "      <th>DATE</th>\n",
       "      <th>CAICLAIMS</th>\n",
       "    </tr>\n",
       "  </thead>\n",
       "  <tbody>\n",
       "    <tr>\n",
       "      <th>0</th>\n",
       "      <td>1986-02-01</td>\n",
       "      <td>66360.000000000000</td>\n",
       "    </tr>\n",
       "    <tr>\n",
       "      <th>1</th>\n",
       "      <td>1986-03-01</td>\n",
       "      <td>65569.400000000000</td>\n",
       "    </tr>\n",
       "    <tr>\n",
       "      <th>2</th>\n",
       "      <td>1986-04-01</td>\n",
       "      <td>53950.000000000000</td>\n",
       "    </tr>\n",
       "    <tr>\n",
       "      <th>3</th>\n",
       "      <td>1986-05-01</td>\n",
       "      <td>48693.800000000000</td>\n",
       "    </tr>\n",
       "    <tr>\n",
       "      <th>4</th>\n",
       "      <td>1986-06-01</td>\n",
       "      <td>53307.000000000000</td>\n",
       "    </tr>\n",
       "    <tr>\n",
       "      <th>...</th>\n",
       "      <td>...</td>\n",
       "      <td>...</td>\n",
       "    </tr>\n",
       "    <tr>\n",
       "      <th>412</th>\n",
       "      <td>2020-06-01</td>\n",
       "      <td>264779.000000000000</td>\n",
       "    </tr>\n",
       "    <tr>\n",
       "      <th>413</th>\n",
       "      <td>2020-07-01</td>\n",
       "      <td>270988.000000000000</td>\n",
       "    </tr>\n",
       "    <tr>\n",
       "      <th>414</th>\n",
       "      <td>2020-08-01</td>\n",
       "      <td>206277.000000000000</td>\n",
       "    </tr>\n",
       "    <tr>\n",
       "      <th>415</th>\n",
       "      <td>2020-09-01</td>\n",
       "      <td>216701.750000000000</td>\n",
       "    </tr>\n",
       "    <tr>\n",
       "      <th>416</th>\n",
       "      <td>2020-10-01</td>\n",
       "      <td>161390.666666666667</td>\n",
       "    </tr>\n",
       "  </tbody>\n",
       "</table>\n",
       "<p>417 rows × 2 columns</p>\n",
       "</div>"
      ],
      "text/plain": [
       "           DATE            CAICLAIMS\n",
       "0    1986-02-01   66360.000000000000\n",
       "1    1986-03-01   65569.400000000000\n",
       "2    1986-04-01   53950.000000000000\n",
       "3    1986-05-01   48693.800000000000\n",
       "4    1986-06-01   53307.000000000000\n",
       "..          ...                  ...\n",
       "412  2020-06-01  264779.000000000000\n",
       "413  2020-07-01  270988.000000000000\n",
       "414  2020-08-01  206277.000000000000\n",
       "415  2020-09-01  216701.750000000000\n",
       "416  2020-10-01  161390.666666666667\n",
       "\n",
       "[417 rows x 2 columns]"
      ]
     },
     "execution_count": 5,
     "metadata": {},
     "output_type": "execute_result"
    }
   ],
   "source": [
    "ca_unemp_claims"
   ]
  },
  {
   "cell_type": "markdown",
   "metadata": {},
   "source": [
    "##### Merge into one dataframe"
   ]
  },
  {
   "cell_type": "code",
   "execution_count": null,
   "metadata": {},
   "outputs": [],
   "source": []
  },
  {
   "cell_type": "markdown",
   "metadata": {},
   "source": [
    "---"
   ]
  },
  {
   "cell_type": "markdown",
   "metadata": {},
   "source": [
    "#### Export original dataframes before further pre-processing"
   ]
  },
  {
   "cell_type": "code",
   "execution_count": 2,
   "metadata": {},
   "outputs": [],
   "source": [
    "data = pd.read_csv('jerry_data/combined_ca_annual.csv')"
   ]
  },
  {
   "cell_type": "code",
   "execution_count": 4,
   "metadata": {},
   "outputs": [],
   "source": [
    "data.dropna(inplace=True)"
   ]
  },
  {
   "cell_type": "code",
   "execution_count": 20,
   "metadata": {},
   "outputs": [
    {
     "data": {
      "text/html": [
       "<div>\n",
       "<style scoped>\n",
       "    .dataframe tbody tr th:only-of-type {\n",
       "        vertical-align: middle;\n",
       "    }\n",
       "\n",
       "    .dataframe tbody tr th {\n",
       "        vertical-align: top;\n",
       "    }\n",
       "\n",
       "    .dataframe thead th {\n",
       "        text-align: right;\n",
       "    }\n",
       "</style>\n",
       "<table border=\"1\" class=\"dataframe\">\n",
       "  <thead>\n",
       "    <tr style=\"text-align: right;\">\n",
       "      <th></th>\n",
       "      <th>Year</th>\n",
       "      <th>Loss Ratio</th>\n",
       "    </tr>\n",
       "  </thead>\n",
       "  <tbody>\n",
       "    <tr>\n",
       "      <th>0</th>\n",
       "      <td>2014-01-01</td>\n",
       "      <td>-6676.510000</td>\n",
       "    </tr>\n",
       "    <tr>\n",
       "      <th>1</th>\n",
       "      <td>2015-01-01</td>\n",
       "      <td>12.294063</td>\n",
       "    </tr>\n",
       "    <tr>\n",
       "      <th>2</th>\n",
       "      <td>2016-01-01</td>\n",
       "      <td>42463.130000</td>\n",
       "    </tr>\n",
       "    <tr>\n",
       "      <th>3</th>\n",
       "      <td>2017-01-01</td>\n",
       "      <td>19343.380000</td>\n",
       "    </tr>\n",
       "    <tr>\n",
       "      <th>4</th>\n",
       "      <td>2018-01-01</td>\n",
       "      <td>133978.060000</td>\n",
       "    </tr>\n",
       "    <tr>\n",
       "      <th>5</th>\n",
       "      <td>2019-01-01</td>\n",
       "      <td>-57908.700000</td>\n",
       "    </tr>\n",
       "  </tbody>\n",
       "</table>\n",
       "</div>"
      ],
      "text/plain": [
       "        Year     Loss Ratio\n",
       "0 2014-01-01   -6676.510000\n",
       "1 2015-01-01      12.294063\n",
       "2 2016-01-01   42463.130000\n",
       "3 2017-01-01   19343.380000\n",
       "4 2018-01-01  133978.060000\n",
       "5 2019-01-01  -57908.700000"
      ]
     },
     "execution_count": 20,
     "metadata": {},
     "output_type": "execute_result"
    }
   ],
   "source": [
    "target.reset_index(inplace=True)"
   ]
  },
  {
   "cell_type": "code",
   "execution_count": 28,
   "metadata": {},
   "outputs": [],
   "source": [
    "target.index=target.index.astype(str)"
   ]
  },
  {
   "cell_type": "code",
   "execution_count": 22,
   "metadata": {},
   "outputs": [],
   "source": [
    "data.rename(columns={'DATE':'Year'},inplace=True)"
   ]
  },
  {
   "cell_type": "code",
   "execution_count": 30,
   "metadata": {},
   "outputs": [],
   "source": [
    "full = data.merge(target,on='Year',how='left')"
   ]
  },
  {
   "cell_type": "code",
   "execution_count": null,
   "metadata": {},
   "outputs": [],
   "source": [
    "full.set_index('Year')"
   ]
  },
  {
   "cell_type": "markdown",
   "metadata": {},
   "source": [
    "---"
   ]
  },
  {
   "cell_type": "markdown",
   "metadata": {},
   "source": [
    "### VISUALIZATIONS"
   ]
  },
  {
   "cell_type": "code",
   "execution_count": null,
   "metadata": {},
   "outputs": [],
   "source": []
  },
  {
   "cell_type": "markdown",
   "metadata": {},
   "source": [
    "<br>\n",
    "\n",
    "### MODEL PREPERATION\n"
   ]
  },
  {
   "cell_type": "markdown",
   "metadata": {},
   "source": [
    "#### Train / Test / Split data for modeling"
   ]
  },
  {
   "cell_type": "code",
   "execution_count": null,
   "metadata": {},
   "outputs": [],
   "source": []
  },
  {
   "cell_type": "markdown",
   "metadata": {},
   "source": [
    "<br>\n",
    "\n",
    "### MODELING"
   ]
  },
  {
   "cell_type": "markdown",
   "metadata": {},
   "source": [
    "#### Model #1 - Baseline"
   ]
  },
  {
   "cell_type": "code",
   "execution_count": null,
   "metadata": {},
   "outputs": [],
   "source": []
  },
  {
   "cell_type": "markdown",
   "metadata": {},
   "source": [
    "#### Model #2 - Naive Bayes"
   ]
  },
  {
   "cell_type": "code",
   "execution_count": null,
   "metadata": {},
   "outputs": [],
   "source": []
  },
  {
   "cell_type": "markdown",
   "metadata": {},
   "source": [
    "#### Model #3 - Logistic Regression"
   ]
  },
  {
   "cell_type": "code",
   "execution_count": null,
   "metadata": {},
   "outputs": [],
   "source": []
  },
  {
   "cell_type": "markdown",
   "metadata": {},
   "source": [
    "<br>"
   ]
  },
  {
   "cell_type": "markdown",
   "metadata": {},
   "source": [
    "### CONCLUSIONS & RECOMMENDATIONS"
   ]
  }
 ],
 "metadata": {
  "kernelspec": {
   "display_name": "Python 3",
   "language": "python",
   "name": "python3"
  },
  "language_info": {
   "codemirror_mode": {
    "name": "ipython",
    "version": 3
   },
   "file_extension": ".py",
   "mimetype": "text/x-python",
   "name": "python",
   "nbconvert_exporter": "python",
   "pygments_lexer": "ipython3",
   "version": "3.8.3"
  }
 },
 "nbformat": 4,
 "nbformat_minor": 4
}
